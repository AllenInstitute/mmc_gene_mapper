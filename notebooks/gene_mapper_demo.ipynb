{
 "cells": [
  {
   "cell_type": "markdown",
   "id": "db47bb03-b787-4cf7-9203-352dc7eb6ecd",
   "metadata": {},
   "source": [
    "The purpose of this notebook is to demonstrate the prototype gene mapper library put together to generalize the processes of\n",
    "\n",
    "- Mapping gene symbols to gene identifiers\n",
    "- Mapping gene identifiers across authorities (NCBI, ENSEMBL, etc.)\n",
    "- Mapping genes in one species to ortholog genes in another species\n",
    "\n",
    "for MapMyCells."
   ]
  },
  {
   "cell_type": "markdown",
   "id": "9aa87849-b621-4dff-b1b7-3d1bf8e87995",
   "metadata": {},
   "source": [
    "## Setup"
   ]
  },
  {
   "cell_type": "code",
   "execution_count": 1,
   "id": "de6c8e20-d464-4151-b975-fe82d4014fec",
   "metadata": {},
   "outputs": [
    {
     "name": "stderr",
     "output_type": "stream",
     "text": [
      "/Users/scott.daniel/miniconda3/envs/gene_mapper/lib/python3.12/site-packages/bkbit/data_translators/genome_annotation_translator.py:67: UserWarning: pkg_resources is deprecated as an API. See https://setuptools.pypa.io/en/latest/pkg_resources.html. The pkg_resources package is slated for removal as early as 2025-11-30. Refrain from using this package or pin to Setuptools<81.\n",
      "  import pkg_resources\n"
     ]
    }
   ],
   "source": [
    "import h5py\n",
    "import json\n",
    "import pathlib\n",
    "import subprocess\n",
    "import sqlite3\n",
    "import time\n",
    "\n",
    "import abc_atlas_access.abc_atlas_cache.abc_project_cache as abc_cache_library\n",
    "\n",
    "import mmc_gene_mapper\n",
    "import mmc_gene_mapper.utils.timestamp as timestamp\n",
    "import mmc_gene_mapper.utils.file_utils as file_utils\n",
    "import mmc_gene_mapper.ensembl_download.scraper as ensembl_scraper\n",
    "import mmc_gene_mapper.mapper.mapper as mapper\n",
    "import mmc_gene_mapper.cli.create_db_file as create_db_file"
   ]
  },
  {
   "cell_type": "code",
   "execution_count": 2,
   "id": "7351d2c5-f2fb-4446-8586-c9c2e25e9947",
   "metadata": {},
   "outputs": [
    {
     "name": "stderr",
     "output_type": "stream",
     "text": [
      "/Users/scott.daniel/miniconda3/envs/gene_mapper/lib/python3.12/site-packages/abc_atlas_access/abc_atlas_cache/cloud_cache.py:630: OutdatedManifestWarning: You are loading releases/20250331/manifest.json. A more up to date version of the dataset -- releases/20250531/manifest.json -- exists online. To see the changes between the two versions of the dataset, run\n",
      "type.compare_manifests('releases/20250331/manifest.json', 'releases/20250531/manifest.json')\n",
      "To load another version of the dataset, run\n",
      "type.load_manifest('releases/20250531/manifest.json')\n",
      "  warnings.warn(msg, OutdatedManifestWarning)\n"
     ]
    }
   ],
   "source": [
    "abc_cache = abc_cache_library.AbcProjectCache.from_cache_dir('../data/abc_cache')"
   ]
  },
  {
   "cell_type": "code",
   "execution_count": 3,
   "id": "720a2f1f-34d6-42c7-a29a-5a28002d3d95",
   "metadata": {},
   "outputs": [],
   "source": [
    "data_dir = pathlib.Path(\n",
    "    mmc_gene_mapper.__file__).parent.parent.parent / \"data\"\n",
    "assert data_dir.is_dir()"
   ]
  },
  {
   "cell_type": "markdown",
   "id": "ac0ca83a-3394-4f34-a443-c25d31c25107",
   "metadata": {},
   "source": [
    "Below we will instantiate the class that is used to actually do the mapping. This class works by querying a sqlite database file that contains all of the relevant gene identifier mappings. We will store that database at the location defined below.\n",
    "\n"
   ]
  },
  {
   "cell_type": "code",
   "execution_count": 4,
   "id": "cd3b6d12-9a81-4585-9955-1343acb0fb05",
   "metadata": {},
   "outputs": [
    {
     "name": "stdout",
     "output_type": "stream",
     "text": [
      "/Users/scott.daniel/KnowledgeEngineering/mmc_gene_mapper/data/gene_mapper_example.db\n"
     ]
    }
   ],
   "source": [
    "db_path = data_dir/\"gene_mapper_example.db\"\n",
    "assert db_path.parent.is_dir()\n",
    "print(db_path)"
   ]
  },
  {
   "cell_type": "markdown",
   "id": "15278a0d-49a3-4942-8d12-dc52e366b70b",
   "metadata": {},
   "source": [
    "You can either\n",
    "\n",
    "a) Create the database, a process which will take about 2 hours as the code downloads an ingests data from both NCBI and ENSEMBl\n",
    "\n",
    "b) Copy the database from Isilon to the path above\n",
    "\n",
    "I have put a functional copy of the data base here\n",
    "```\n",
    "/allen/aibs/technology/danielsf/gene_mapper/gene_mapper_example.db\n",
    "```\n",
    "Just copy that from Isilon to the path defined as `db_path` above, and this notebook should run without having to go through the time-consuming database creation process.\n",
    "\n",
    "**Note:** the database file is 15G in size."
   ]
  },
  {
   "cell_type": "code",
   "execution_count": 5,
   "id": "3123694f-af49-49e9-aa15-8360b10baf2a",
   "metadata": {
    "scrolled": true
   },
   "outputs": [],
   "source": [
    "if not db_path.is_file():\n",
    "    print(\"====running database creation; this will take ~ 2 hours=====\")\n",
    "    create_db_file.create_db_file(\n",
    "        db_path=db_path,\n",
    "        local_dir=data_dir/timestamp.get_timestamp(),\n",
    "        ensembl_version=114,\n",
    "        suppress_download_stdout=True,\n",
    "        clobber=False\n",
    "    )\n",
    "gene_mapper = mapper.MMCGeneMapper(\n",
    "    db_path=db_path\n",
    ")"
   ]
  },
  {
   "cell_type": "markdown",
   "id": "9c3a0233-1e16-45d9-9584-09ba8a2dccc1",
   "metadata": {},
   "source": [
    "## What, qualitatively, is in this database?\n",
    "\n",
    "The database you just created/downloaded was constructed by downloading\n",
    "- `gene_info.gz`\n",
    "- `gene2ensembl.gz`\n",
    "- `gene_orthologs.gz`\n",
    "\n",
    "from\n",
    "```\n",
    "https://ftp.ncbi.nlm.nih.gov/gene/DATA/\n",
    "```\n",
    "\n",
    "These files provide\n",
    "- mappings between NCBI gene identifiers and gene symbols (`gene_info.gz`)\n",
    "- mappings between NCBI gene identifiers and species taxons (`gene_info.gz`)\n",
    "- mappings between NCBI gene identifiers and ENSEMBL IDs (`gene2ensembl.gz`)\n",
    "- ortholog mappings between genes of different speices (`gene_orthologs.gz`)\n",
    "\n",
    "We also ingest\n",
    "```\n",
    "https://ftp.ncbi.nlm.nih.gov/pub/taxonomy/new_taxdump/new_taxdump.tar.gz\n",
    "```\n",
    "to get the mapping between NCBI species taxon and human-readable species names.\n",
    "\n",
    "Finally, we scrape all of the `gff3` files from a specific release (default 114) published on\n",
    "```\n",
    "https://ftp.ensembl.org/pub/\n",
    "```\n",
    "to provide mappings between ENSEMBL IDs and gene symbols.\n",
    "\n",
    "The data from these sources is used to construct a series of tables (described below) that are queried to map the user's input list of genes (be they symbols, ENSEMBL IDs, or NCBI IDs) to the desired outputs (ENSEMBL IDs or NCBI IDs, possibly from a different species).\n"
   ]
  },
  {
   "cell_type": "markdown",
   "id": "3a5dede0-3fb4-4b04-88c4-b104659c7be5",
   "metadata": {},
   "source": [
    "## Actual description of tables in the database\n",
    "\n",
    "The database backing the `gene_mapper` contains the following tables\n",
    "\n",
    "### Metadata tables\n",
    "\n",
    "#### authority\n",
    "For lack of a better term, \"authority\" is how we refer to NCBI and ENSEMBL as institutions. The `authority` table consists of the columns\n",
    "\n",
    "- id -- an integer used for internal indexing\n",
    "- name -- the human-readable name of the authority\n",
    "\n",
    "#### citation\n",
    "The `citation` table tracks all of the raw data files used to justify the various mappings (symbol-to-identifier, ENSEMBL-to-NCBI, orthologs, etc.). It consists of the columns\n",
    "\n",
    "- id -- an integer used for internal indexing\n",
    "- name -- a short, human-readable name for the citation (this will be used whenever you have to specify a citation when calling the `gene_mapper`'s methods)\n",
    "- metadata -- a JSON serialized dict containing whatever information is necessary to specify the data backing this citation. This is a very free-form column as different entries will be specified in different ways (see below). Usually it will be a URL and a \"downloaded on\" timestamp."
   ]
  },
  {
   "cell_type": "markdown",
   "id": "cd687385-71d0-4a32-9511-5e8ec5dce2d1",
   "metadata": {},
   "source": [
    "We can list the available authorities like so"
   ]
  },
  {
   "cell_type": "code",
   "execution_count": 6,
   "id": "8aed469a-a7ef-4650-b502-e68731ce3166",
   "metadata": {},
   "outputs": [
    {
     "name": "stdout",
     "output_type": "stream",
     "text": [
      "['NCBI', 'ENSEMBL']\n"
     ]
    }
   ],
   "source": [
    "authority_list = gene_mapper.get_all_authorities()\n",
    "print(authority_list)"
   ]
  },
  {
   "cell_type": "markdown",
   "id": "d7cc1581-fbb9-4716-9089-1b386d8a52ad",
   "metadata": {},
   "source": [
    "Similarly, we can list the available citations (we will only list a few here, since each species-specific gff3 from ENSEMBL is its own citation)."
   ]
  },
  {
   "cell_type": "code",
   "execution_count": 7,
   "id": "d7b988a9-1942-43d0-93f5-ae3f213fc766",
   "metadata": {},
   "outputs": [
    {
     "name": "stdout",
     "output_type": "stream",
     "text": [
      "NCBI\n",
      "ENSEMBL-9606-101\n",
      "ENSEMBL-10090-98\n",
      "ENSEMBL-80966-114\n",
      "ENSEMBL-211598-114\n"
     ]
    }
   ],
   "source": [
    "citation_list = gene_mapper.get_all_citations()\n",
    "for c in citation_list[:5]:\n",
    "    print(c['name'])\n"
   ]
  },
  {
   "cell_type": "markdown",
   "id": "1a0ff8ea-e421-42aa-a4a3-debf3e2aae0a",
   "metadata": {},
   "source": [
    "As mentioned above, different citations contain different metadata. For instance, the `NCBI` citation (referring to the data downloaded from the NCBI FTP server) contains a list of the files downloaded their hashes, and the date they were downloaded on (NCBI updates its FTP server daily; it's not clear that they keep readily available version information around, though we can certainly investigate that). This is what the `NCBI` citation metadata looks like:"
   ]
  },
  {
   "cell_type": "code",
   "execution_count": 8,
   "id": "574f35ac-fc92-4ac2-9768-67c92c2d9089",
   "metadata": {},
   "outputs": [
    {
     "name": "stdout",
     "output_type": "stream",
     "text": [
      "{\n",
      "  \"name\": \"NCBI\",\n",
      "  \"metadata\": {\n",
      "    \"gene_info.gz\": {\n",
      "      \"host\": \"ftp.ncbi.nlm.nih.gov\",\n",
      "      \"src_path\": \"gene/DATA/gene_info.gz\",\n",
      "      \"hash\": \"md5:932969426286efd0114db1c7b7a0a9b2\",\n",
      "      \"downloaded_on\": \"2025-07-25-16-52-21\"\n",
      "    },\n",
      "    \"gene2ensembl.gz\": {\n",
      "      \"host\": \"ftp.ncbi.nlm.nih.gov\",\n",
      "      \"src_path\": \"gene/DATA/gene2ensembl.gz\",\n",
      "      \"hash\": \"md5:181c1cb0feac8aa8cb45b98fa7a758a0\",\n",
      "      \"downloaded_on\": \"2025-07-25-16-53-39\"\n",
      "    },\n",
      "    \"gene_orthologs.gz\": {\n",
      "      \"host\": \"ftp.ncbi.nlm.nih.gov\",\n",
      "      \"src_path\": \"gene/DATA/gene_orthologs.gz\",\n",
      "      \"hash\": \"md5:744c66facf3775f54bd6d82b468af89d\",\n",
      "      \"downloaded_on\": \"2025-07-25-16-54-10\"\n",
      "    }\n",
      "  }\n",
      "}\n"
     ]
    }
   ],
   "source": [
    "for citation in citation_list:\n",
    "    if citation['name'] == 'NCBI':\n",
    "        print(json.dumps(citation, indent=2))"
   ]
  },
  {
   "cell_type": "markdown",
   "id": "2e33b8b7-145d-45ae-b3eb-b889bdd38ed2",
   "metadata": {},
   "source": [
    "Here is an example of the citation generated for one of the ENSEMBL gff3 files. It is worth pointing out that the gff3 files are processed through the code `brain-bican/bkbit` GitHub repository to make the data easier to parse on ingest. `bkbit` also produces this metadata."
   ]
  },
  {
   "cell_type": "code",
   "execution_count": 9,
   "id": "022f5276-5b36-4242-bcc4-9d49c1ab0e7a",
   "metadata": {},
   "outputs": [
    {
     "name": "stdout",
     "output_type": "stream",
     "text": [
      "{\n",
      "  \"name\": \"ENSEMBL-10090-98\",\n",
      "  \"metadata\": {\n",
      "    \"biolink:OrganismTaxon\": {\n",
      "      \"id\": \"NCBITaxon:10090\",\n",
      "      \"iri\": \"http://purl.obolibrary.org/obo/NCBITaxon_10090\",\n",
      "      \"category\": [\n",
      "        \"biolink:OrganismTaxon\"\n",
      "      ],\n",
      "      \"name\": \"house mouse\",\n",
      "      \"full_name\": \"Mus musculus\"\n",
      "    },\n",
      "    \"bican:GenomeAssembly\": {\n",
      "      \"id\": \"NCBIAssembly:GCF_000001635.26\",\n",
      "      \"category\": [\n",
      "        \"bican:GenomeAssembly\"\n",
      "      ],\n",
      "      \"name\": \"GRCm38\",\n",
      "      \"in_taxon\": [\n",
      "        \"NCBITaxon:10090\"\n",
      "      ],\n",
      "      \"in_taxon_label\": \"Mus musculus\",\n",
      "      \"version\": \"26\"\n",
      "    },\n",
      "    \"bican:GenomeAnnotation\": {\n",
      "      \"id\": \"bican:annotation-ENSEMBL-10090-98\",\n",
      "      \"category\": [\n",
      "        \"bican:GenomeAnnotation\"\n",
      "      ],\n",
      "      \"description\": \"ENSEMBL Mus musculus Annotation Release 98\",\n",
      "      \"in_taxon\": [\n",
      "        \"NCBITaxon:10090\"\n",
      "      ],\n",
      "      \"in_taxon_label\": \"Mus musculus\",\n",
      "      \"version\": \"98\",\n",
      "      \"digest\": [\n",
      "        \"urn:uuid:1696a139-804c-4576-98df-2be64dac34ff\"\n",
      "      ],\n",
      "      \"content_url\": [\n",
      "        \"https://ftp.ensembl.org/pub/release-98/gff3/mus_musculus/Mus_musculus.GRCm38.98.gff3.gz\"\n",
      "      ],\n",
      "      \"authority\": \"ENSEMBL\",\n",
      "      \"reference_assembly\": \"NCBIAssembly:GCF_000001635.26\"\n",
      "    }\n",
      "  }\n",
      "}\n"
     ]
    }
   ],
   "source": [
    "for citation in citation_list:\n",
    "    if citation['name'] == 'ENSEMBL-10090-98':\n",
    "        print(json.dumps(citation, indent=2))"
   ]
  },
  {
   "cell_type": "markdown",
   "id": "c8e9c8f1-3011-409c-9e7b-96eb1f1340e4",
   "metadata": {},
   "source": [
    "### Data tables\n",
    "\n",
    "The data tables in the database are\n",
    "\n",
    "#### NCBI_species\n",
    "The `NCBI_species` table just ingests the NCBI organism taxonomy and records\n",
    "- id -- the NCBI taxon ID of the species\n",
    "- name -- the human readable name of the species. **Note:** we record all possible names (\"common\", \"scientific\", etc.) of the species in different rows. That way, users can give us whatever name they have for a species and, if possible, we can return an `id` for cross-referencing with other tables.\n",
    "\n",
    "This is meant to be hidden from the user. When actually mapping genes, the `gene_mapper` will detect the species associated with the user's input list of genes. Users can specify a species into which they want their genes mapped using the human readable name. The mapper will perform the necessary database query to convert the human-readable name into the integer species taxon.\n",
    "\n",
    "Here we query the database \"by hand\" to demonstrate its contents."
   ]
  },
  {
   "cell_type": "code",
   "execution_count": 10,
   "id": "168ce703-d762-4386-a812-0c58e491cd7e",
   "metadata": {},
   "outputs": [
    {
     "name": "stdout",
     "output_type": "stream",
     "text": [
      "house mouse [(10090,)]\n",
      "Mus musculus [(10090,)]\n",
      "mouse [(10088,), (10090,)]\n",
      "human [(9606,)]\n",
      "Homo sapiens [(9606,)]\n"
     ]
    }
   ],
   "source": [
    "with sqlite3.connect(gene_mapper.db_path) as conn:\n",
    "    cursor = conn.cursor()\n",
    "    for name in ('house mouse', 'Mus musculus', 'mouse', 'human', 'Homo sapiens'):\n",
    "        result = cursor.execute(\n",
    "            \"\"\"\n",
    "            SELECT id FROM NCBI_species WHERE name=?\n",
    "            \"\"\",\n",
    "            (name,)\n",
    "        ).fetchall()\n",
    "        print(name,result)"
   ]
  },
  {
   "cell_type": "markdown",
   "id": "14fb7135-5d2a-4cdf-94e0-8bdb1739392e",
   "metadata": {},
   "source": [
    "**Note:** in the case of \"mouse\", there is more than one matching taxon. Calling a mapping with `dst_species=\"mouse\"` will fail."
   ]
  },
  {
   "cell_type": "code",
   "execution_count": 11,
   "id": "6e2ad43d-c270-4d2d-8818-b0d22b7847d3",
   "metadata": {},
   "outputs": [
    {
     "name": "stdout",
     "output_type": "stream",
     "text": [
      "Failed with error message:\n",
      "=======\n",
      "Traceback (most recent call last):\n",
      "  File \"/var/folders/8b/hnw5vq8s20jbpz51wdhd11fr0000gp/T/ipykernel_80157/4200133508.py\", line 5, in <module>\n",
      "    gene_mapper.map_genes(\n",
      "  File \"/Users/scott.daniel/KnowledgeEngineering/mmc_gene_mapper/src/mmc_gene_mapper/mapper/mapper.py\", line 220, in map_genes\n",
      "    dst_species = query_utils.get_species(\n",
      "                  ^^^^^^^^^^^^^^^^^^^^^^^^\n",
      "  File \"/Users/scott.daniel/KnowledgeEngineering/mmc_gene_mapper/src/mmc_gene_mapper/query_db/query.py\", line 35, in get_species\n",
      "    species_taxon = _get_species_taxon(\n",
      "                    ^^^^^^^^^^^^^^^^^^^\n",
      "  File \"/Users/scott.daniel/KnowledgeEngineering/mmc_gene_mapper/src/mmc_gene_mapper/query_db/query.py\", line 87, in _get_species_taxon\n",
      "    raise ValueError(\n",
      "ValueError: 2 species match name mouse\n",
      "[(10088,), (10090,)]\n",
      "\n"
     ]
    }
   ],
   "source": [
    "import traceback\n",
    "\n",
    "mouse_symbols = [\"Xkr4\", \"Npbwr1\", \"not_a_symbol\", \"Rrs1\"]\n",
    "try:\n",
    "    gene_mapper.map_genes(\n",
    "        gene_list=mouse_symbols,\n",
    "        dst_species=\"mouse\",\n",
    "        dst_authority=\"ENSEMBL\"\n",
    "    )\n",
    "except Exception as err:\n",
    "    msg = traceback.format_exc()\n",
    "    print(\n",
    "        f\"Failed with error message:\\n=======\\n{msg}\"\n",
    "    )"
   ]
  },
  {
   "cell_type": "markdown",
   "id": "bedf5c05-1e66-4bf9-84f6-10853eda5c5e",
   "metadata": {},
   "source": [
    "A function is provided for listing all of the species the database knows about.\n",
    "\n",
    "**Note:** This is not a list of all of the species for which the database has gene information. It is merely a list of the species that can be associated with a taxon ID in the database (for cross-referencing with the tables that contain gene information)."
   ]
  },
  {
   "cell_type": "code",
   "execution_count": 12,
   "id": "3d62030b-b2ad-4af7-a393-ab856a1eb164",
   "metadata": {},
   "outputs": [
    {
     "name": "stdout",
     "output_type": "stream",
     "text": [
      "['Homo heidelbergensis', 'Homo heidelbergensis Schoetensack, 1908', 'Homo lar', 'Homo lar Linneaus, 1771', 'Homo neanderthalensis', 'Homo sapiens', 'Homo sapiens Linnaeus, 1758', 'Homo sapiens environmental sample']\n"
     ]
    }
   ],
   "source": [
    "species_list = gene_mapper.get_all_species()\n",
    "print(species_list[1679491:1679499])"
   ]
  },
  {
   "cell_type": "code",
   "execution_count": 13,
   "id": "ae419412-4c1a-4a5b-beab-266fdf1ff983",
   "metadata": {},
   "outputs": [
    {
     "data": {
      "text/plain": [
       "4111928"
      ]
     },
     "execution_count": 13,
     "metadata": {},
     "output_type": "execute_result"
    }
   ],
   "source": [
    "len(species_list)"
   ]
  },
  {
   "cell_type": "markdown",
   "id": "5631dbf9-e172-4bbc-9c08-77527c3722b0",
   "metadata": {},
   "source": [
    "#### gene\n",
    "The `gene` table contains all of the information about individual genes ingested into the database. Columns are\n",
    "- authority -- an integer for cross-referencing the `authority` table\n",
    "- citation -- an integer for cross-referencing the `citation` table\n",
    "- species_taxon -- an integer for cross-refereneing the `NCBI_species` table\n",
    "- id -- an integer for internal indexing\n",
    "- identifier -- a string. The full unique identifier (e.g. ENSMUS0000G12345) of the gene\n",
    "- symbol -- a string. The human-readable name of the gene (**Note:** the BICAN bkbit files contain `symbol` and `name` entries for genes. If these differ, both are ingested as a separate row in the `gene` table with `name` being recorded in `symbol` as appropriate).\n",
    "\n",
    "#### gene_equivalence\n",
    "The `gene_equivalence` table records mappings between authorities (ENSEMBL and NCBI). Its columns are\n",
    "- species_taxon -- an integer for cross-referencing with the `NCBI_species` table (in what species are we looking for equivalences?)\n",
    "- citation -- an integer for cross-referencing with the `citation` table (who said these genes were equivalent?)\n",
    "- authority0 -- an integer for cross-referencing with the `authority` table\n",
    "- gene0 -- an integer; the ID of the gene in `authority0`\n",
    "- authority1 -- an integer for cross-referncing with the `authority` table\n",
    "- gene1 -- an integer; the ID of the gene in `authority1` that is equivalent to `gene0` according to `citation`.\n",
    "\n",
    "**Note:** we record equivalences symmetrically, so that every `(gene0, gene1)` pair is also recorded as `(gene1, gene0)` so that users do not have to worry about which index (`gene0` or `gene1`) their input data is compared to.\n",
    "\n",
    "#### gene_ortholog\n",
    "The `gene_ortholog` table records cross-species ortholog relationships. Its columns are\n",
    "- authority -- an integer for cross-referencing the `authority` table (are we looking for NCBI orthologs or ENSEMBL orthologs?)\n",
    "- citation -- an integer for cross-referencing the `citation` table (who said these genes were orthologs?)\n",
    "- species -- an integer for cross-referencing the `NCBI_species` table\n",
    "- gene -- an integer, the ID of the gene in `species` whose orthologs we are looking for\n",
    "- ortholog_group -- an integer; genes with the same value of `ortholog_group` are orthologs of each other\n"
   ]
  },
  {
   "cell_type": "markdown",
   "id": "b06f1579-1a0b-498a-8533-a1349ef70543",
   "metadata": {},
   "source": [
    "## Actually mapping data\n",
    "\n",
    "The `gene_mapper` provides a single function to map gene identifiers from one form `(authority, species)` to another. To run it you specify\n",
    "- the list of gene identifiers you have\n",
    "- the name of the species you want your genes mapped into (the mapper will automatically detect the species your genes are already in)\n",
    "- the authority of gene (ENSEMBL or NCBI) you want your genes mapped into\n",
    "- (optionally) the name of the citation to use for any cross species ortholog mappings (default is to use the NCBI lookup table)\n",
    "\n",
    "The mapper will then go through the necessary transformations and return a mapped list of gene identifiers for you. It will also provide a metadata structure listing the transformations that were applied to the input `gene_list`.\n",
    "\n",
    "The mapper will return a dict containing the list of identifiers your genes mapped onto as well as metadata to help you understand how your genes were mapped."
   ]
  },
  {
   "cell_type": "markdown",
   "id": "b101728c-7ce8-4b0b-922a-26b6b721b8de",
   "metadata": {},
   "source": [
    "### Mapping symbols to identifiers\n",
    "\n"
   ]
  },
  {
   "cell_type": "code",
   "execution_count": 14,
   "id": "e819cc2a-b66c-4d24-8e68-11d4e2cae8e0",
   "metadata": {},
   "outputs": [
    {
     "name": "stdout",
     "output_type": "stream",
     "text": [
      "{\n",
      "  \"metadata\": [\n",
      "    {\n",
      "      \"mapping\": {\n",
      "        \"axis\": \"authority\",\n",
      "        \"from\": \"symbol\",\n",
      "        \"to\": \"ENSEMBL\"\n",
      "      },\n",
      "      \"citation\": {\n",
      "        \"name\": \"ENSEMBL-10090-98\",\n",
      "        \"metadata\": {\n",
      "          \"biolink:OrganismTaxon\": {\n",
      "            \"id\": \"NCBITaxon:10090\",\n",
      "            \"iri\": \"http://purl.obolibrary.org/obo/NCBITaxon_10090\",\n",
      "            \"category\": [\n",
      "              \"biolink:OrganismTaxon\"\n",
      "            ],\n",
      "            \"name\": \"house mouse\",\n",
      "            \"full_name\": \"Mus musculus\"\n",
      "          },\n",
      "          \"bican:GenomeAssembly\": {\n",
      "            \"id\": \"NCBIAssembly:GCF_000001635.26\",\n",
      "            \"category\": [\n",
      "              \"bican:GenomeAssembly\"\n",
      "            ],\n",
      "            \"name\": \"GRCm38\",\n",
      "            \"in_taxon\": [\n",
      "              \"NCBITaxon:10090\"\n",
      "            ],\n",
      "            \"in_taxon_label\": \"Mus musculus\",\n",
      "            \"version\": \"26\"\n",
      "          },\n",
      "          \"bican:GenomeAnnotation\": {\n",
      "            \"id\": \"bican:annotation-ENSEMBL-10090-98\",\n",
      "            \"category\": [\n",
      "              \"bican:GenomeAnnotation\"\n",
      "            ],\n",
      "            \"description\": \"ENSEMBL Mus musculus Annotation Release 98\",\n",
      "            \"in_taxon\": [\n",
      "              \"NCBITaxon:10090\"\n",
      "            ],\n",
      "            \"in_taxon_label\": \"Mus musculus\",\n",
      "            \"version\": \"98\",\n",
      "            \"digest\": [\n",
      "              \"urn:uuid:1696a139-804c-4576-98df-2be64dac34ff\"\n",
      "            ],\n",
      "            \"content_url\": [\n",
      "              \"https://ftp.ensembl.org/pub/release-98/gff3/mus_musculus/Mus_musculus.GRCm38.98.gff3.gz\"\n",
      "            ],\n",
      "            \"authority\": \"ENSEMBL\",\n",
      "            \"reference_assembly\": \"NCBIAssembly:GCF_000001635.26\"\n",
      "          }\n",
      "        }\n",
      "      }\n",
      "    }\n",
      "  ],\n",
      "  \"gene_list\": [\n",
      "    \"ENSMUSG00000051951\",\n",
      "    \"ENSMUSG00000033774\",\n",
      "    \"symbol:ENSEMBL:UNMAPPABLE_NO_MATCH_0\",\n",
      "    \"ENSMUSG00000061024\"\n",
      "  ]\n",
      "}\n"
     ]
    }
   ],
   "source": [
    "mouse_symbols = [\"Xkr4\", \"Npbwr1\", \"not_a_symbol\", \"Rrs1\"]\n",
    "mouse_ens_mapping = gene_mapper.map_genes(\n",
    "    gene_list=mouse_symbols,\n",
    "    dst_species=\"Mus musculus\",\n",
    "    dst_authority=\"ENSEMBL\",\n",
    "    ortholog_citation=\"NCBI\"\n",
    ")\n",
    "print(json.dumps(mouse_ens_mapping, indent=2))"
   ]
  },
  {
   "cell_type": "markdown",
   "id": "92c19413-d2db-4c95-87c9-1288c04d3344",
   "metadata": {},
   "source": [
    "For ease of reading, here is the metadata part of the result. In this case, since the input data was already aligned to mouse, there is only one mapping step: the mapping from gene symbol to ENSEMBL. Below, we will see cases of mappings that involve multiple steps."
   ]
  },
  {
   "cell_type": "code",
   "execution_count": 15,
   "id": "47c529fc-edbb-408d-a4f0-dd2f4075d716",
   "metadata": {},
   "outputs": [
    {
     "name": "stdout",
     "output_type": "stream",
     "text": [
      "[\n",
      "  {\n",
      "    \"mapping\": {\n",
      "      \"axis\": \"authority\",\n",
      "      \"from\": \"symbol\",\n",
      "      \"to\": \"ENSEMBL\"\n",
      "    },\n",
      "    \"citation\": {\n",
      "      \"name\": \"ENSEMBL-10090-98\",\n",
      "      \"metadata\": {\n",
      "        \"biolink:OrganismTaxon\": {\n",
      "          \"id\": \"NCBITaxon:10090\",\n",
      "          \"iri\": \"http://purl.obolibrary.org/obo/NCBITaxon_10090\",\n",
      "          \"category\": [\n",
      "            \"biolink:OrganismTaxon\"\n",
      "          ],\n",
      "          \"name\": \"house mouse\",\n",
      "          \"full_name\": \"Mus musculus\"\n",
      "        },\n",
      "        \"bican:GenomeAssembly\": {\n",
      "          \"id\": \"NCBIAssembly:GCF_000001635.26\",\n",
      "          \"category\": [\n",
      "            \"bican:GenomeAssembly\"\n",
      "          ],\n",
      "          \"name\": \"GRCm38\",\n",
      "          \"in_taxon\": [\n",
      "            \"NCBITaxon:10090\"\n",
      "          ],\n",
      "          \"in_taxon_label\": \"Mus musculus\",\n",
      "          \"version\": \"26\"\n",
      "        },\n",
      "        \"bican:GenomeAnnotation\": {\n",
      "          \"id\": \"bican:annotation-ENSEMBL-10090-98\",\n",
      "          \"category\": [\n",
      "            \"bican:GenomeAnnotation\"\n",
      "          ],\n",
      "          \"description\": \"ENSEMBL Mus musculus Annotation Release 98\",\n",
      "          \"in_taxon\": [\n",
      "            \"NCBITaxon:10090\"\n",
      "          ],\n",
      "          \"in_taxon_label\": \"Mus musculus\",\n",
      "          \"version\": \"98\",\n",
      "          \"digest\": [\n",
      "            \"urn:uuid:1696a139-804c-4576-98df-2be64dac34ff\"\n",
      "          ],\n",
      "          \"content_url\": [\n",
      "            \"https://ftp.ensembl.org/pub/release-98/gff3/mus_musculus/Mus_musculus.GRCm38.98.gff3.gz\"\n",
      "          ],\n",
      "          \"authority\": \"ENSEMBL\",\n",
      "          \"reference_assembly\": \"NCBIAssembly:GCF_000001635.26\"\n",
      "        }\n",
      "      }\n",
      "    }\n",
      "  }\n",
      "]\n"
     ]
    }
   ],
   "source": [
    "print(json.dumps(mouse_ens_mapping['metadata'], indent=2))"
   ]
  },
  {
   "cell_type": "markdown",
   "id": "efeb945b-2532-404e-bdcd-041d9cbd657f",
   "metadata": {},
   "source": [
    "Here is the actual list of mapped genes."
   ]
  },
  {
   "cell_type": "code",
   "execution_count": 16,
   "id": "e7a8ffb2-e609-4c83-abe7-8d8536652850",
   "metadata": {},
   "outputs": [
    {
     "name": "stdout",
     "output_type": "stream",
     "text": [
      "input genes\n",
      "[\n",
      "  \"Xkr4\",\n",
      "  \"Npbwr1\",\n",
      "  \"not_a_symbol\",\n",
      "  \"Rrs1\"\n",
      "]\n",
      "map to\n",
      "[\n",
      "  \"ENSMUSG00000051951\",\n",
      "  \"ENSMUSG00000033774\",\n",
      "  \"symbol:ENSEMBL:UNMAPPABLE_NO_MATCH_0\",\n",
      "  \"ENSMUSG00000061024\"\n",
      "]\n"
     ]
    }
   ],
   "source": [
    "print(\"input genes\")\n",
    "print(json.dumps(mouse_symbols, indent=2))\n",
    "print(\"map to\")\n",
    "print(json.dumps(mouse_ens_mapping['gene_list'], indent=2))"
   ]
  },
  {
   "cell_type": "markdown",
   "id": "10558dfb-566c-428c-b191-139965f06101",
   "metadata": {},
   "source": [
    "**Note:** the gene that failed to map (`\"not_a_symbol\"`) is mapped to a unique placeholder name that attempts to communicate at which point the mapping failed (there was no match in the symbol -> ENSEMBL mapping stage)."
   ]
  },
  {
   "cell_type": "markdown",
   "id": "268dfc10-1ce4-42c4-928a-8caba10d5f77",
   "metadata": {},
   "source": [
    "Here is a similar call mapping symbols to identifiers in NCBI"
   ]
  },
  {
   "cell_type": "code",
   "execution_count": 17,
   "id": "3016fa95-15a5-4cf4-b1d8-9b6031183b10",
   "metadata": {},
   "outputs": [
    {
     "name": "stdout",
     "output_type": "stream",
     "text": [
      "{\n",
      "  \"metadata\": [\n",
      "    {\n",
      "      \"mapping\": {\n",
      "        \"axis\": \"authority\",\n",
      "        \"from\": \"symbol\",\n",
      "        \"to\": \"NCBI\"\n",
      "      },\n",
      "      \"citation\": {\n",
      "        \"name\": \"NCBI\",\n",
      "        \"metadata\": {\n",
      "          \"gene_info.gz\": {\n",
      "            \"host\": \"ftp.ncbi.nlm.nih.gov\",\n",
      "            \"src_path\": \"gene/DATA/gene_info.gz\",\n",
      "            \"hash\": \"md5:932969426286efd0114db1c7b7a0a9b2\",\n",
      "            \"downloaded_on\": \"2025-07-25-16-52-21\"\n",
      "          },\n",
      "          \"gene2ensembl.gz\": {\n",
      "            \"host\": \"ftp.ncbi.nlm.nih.gov\",\n",
      "            \"src_path\": \"gene/DATA/gene2ensembl.gz\",\n",
      "            \"hash\": \"md5:181c1cb0feac8aa8cb45b98fa7a758a0\",\n",
      "            \"downloaded_on\": \"2025-07-25-16-53-39\"\n",
      "          },\n",
      "          \"gene_orthologs.gz\": {\n",
      "            \"host\": \"ftp.ncbi.nlm.nih.gov\",\n",
      "            \"src_path\": \"gene/DATA/gene_orthologs.gz\",\n",
      "            \"hash\": \"md5:744c66facf3775f54bd6d82b468af89d\",\n",
      "            \"downloaded_on\": \"2025-07-25-16-54-10\"\n",
      "          }\n",
      "        }\n",
      "      }\n",
      "    }\n",
      "  ],\n",
      "  \"gene_list\": [\n",
      "    \"NCBIGene:497097\",\n",
      "    \"NCBIGene:226304\",\n",
      "    \"symbol:NCBI:UNMAPPABLE_NO_MATCH_0\",\n",
      "    \"NCBIGene:59014\"\n",
      "  ]\n",
      "}\n"
     ]
    }
   ],
   "source": [
    "mouse_ncbi_mapping = gene_mapper.map_genes(\n",
    "    gene_list=mouse_symbols,\n",
    "    dst_species=\"Mus musculus\",\n",
    "    dst_authority=\"NCBI\"\n",
    ")\n",
    "print(json.dumps(mouse_ncbi_mapping, indent=2))"
   ]
  },
  {
   "cell_type": "markdown",
   "id": "4b219d40-cffb-45de-9306-05d4166aaa72",
   "metadata": {},
   "source": [
    "### Mapping from ENSEMBL to NCBI\n"
   ]
  },
  {
   "cell_type": "code",
   "execution_count": 18,
   "id": "82ceb93a-2539-4d79-86c6-dbfe4f34ed7f",
   "metadata": {},
   "outputs": [
    {
     "name": "stdout",
     "output_type": "stream",
     "text": [
      "{\n",
      "  \"metadata\": [\n",
      "    {\n",
      "      \"mapping\": {\n",
      "        \"axis\": \"authority\",\n",
      "        \"from\": \"symbol\",\n",
      "        \"to\": \"NCBI\"\n",
      "      },\n",
      "      \"citation\": {\n",
      "        \"name\": \"NCBI\",\n",
      "        \"metadata\": {\n",
      "          \"gene_info.gz\": {\n",
      "            \"host\": \"ftp.ncbi.nlm.nih.gov\",\n",
      "            \"src_path\": \"gene/DATA/gene_info.gz\",\n",
      "            \"hash\": \"md5:932969426286efd0114db1c7b7a0a9b2\",\n",
      "            \"downloaded_on\": \"2025-07-25-16-52-21\"\n",
      "          },\n",
      "          \"gene2ensembl.gz\": {\n",
      "            \"host\": \"ftp.ncbi.nlm.nih.gov\",\n",
      "            \"src_path\": \"gene/DATA/gene2ensembl.gz\",\n",
      "            \"hash\": \"md5:181c1cb0feac8aa8cb45b98fa7a758a0\",\n",
      "            \"downloaded_on\": \"2025-07-25-16-53-39\"\n",
      "          },\n",
      "          \"gene_orthologs.gz\": {\n",
      "            \"host\": \"ftp.ncbi.nlm.nih.gov\",\n",
      "            \"src_path\": \"gene/DATA/gene_orthologs.gz\",\n",
      "            \"hash\": \"md5:744c66facf3775f54bd6d82b468af89d\",\n",
      "            \"downloaded_on\": \"2025-07-25-16-54-10\"\n",
      "          }\n",
      "        }\n",
      "      }\n",
      "    },\n",
      "    {\n",
      "      \"mapping\": {\n",
      "        \"axis\": \"authority\",\n",
      "        \"from\": \"ENSEMBL\",\n",
      "        \"to\": \"NCBI\"\n",
      "      },\n",
      "      \"citation\": {\n",
      "        \"name\": \"NCBI\",\n",
      "        \"metadata\": {\n",
      "          \"gene_info.gz\": {\n",
      "            \"host\": \"ftp.ncbi.nlm.nih.gov\",\n",
      "            \"src_path\": \"gene/DATA/gene_info.gz\",\n",
      "            \"hash\": \"md5:932969426286efd0114db1c7b7a0a9b2\",\n",
      "            \"downloaded_on\": \"2025-07-25-16-52-21\"\n",
      "          },\n",
      "          \"gene2ensembl.gz\": {\n",
      "            \"host\": \"ftp.ncbi.nlm.nih.gov\",\n",
      "            \"src_path\": \"gene/DATA/gene2ensembl.gz\",\n",
      "            \"hash\": \"md5:181c1cb0feac8aa8cb45b98fa7a758a0\",\n",
      "            \"downloaded_on\": \"2025-07-25-16-53-39\"\n",
      "          },\n",
      "          \"gene_orthologs.gz\": {\n",
      "            \"host\": \"ftp.ncbi.nlm.nih.gov\",\n",
      "            \"src_path\": \"gene/DATA/gene_orthologs.gz\",\n",
      "            \"hash\": \"md5:744c66facf3775f54bd6d82b468af89d\",\n",
      "            \"downloaded_on\": \"2025-07-25-16-54-10\"\n",
      "          }\n",
      "        }\n",
      "      }\n",
      "    }\n",
      "  ],\n",
      "  \"gene_list\": [\n",
      "    \"NCBIGene:497097\",\n",
      "    \"ENSEMBL:NCBI:UNMAPPABLE_MANY_MATCHES_0\",\n",
      "    \"NCBIGene:620393\",\n",
      "    \"symbol:NCBI:UNMAPPABLE_NO_MATCH_0\",\n",
      "    \"NCBIGene:76187\"\n",
      "  ]\n",
      "}\n"
     ]
    }
   ],
   "source": [
    "ens_to_ncbi = gene_mapper.map_genes(\n",
    "    dst_authority='NCBI',\n",
    "    gene_list=[\"ENSMUSG00000051951\",\n",
    "               \"ENSMUSG00000030337\",\n",
    "               \"ENSMUSG00000087247\",\n",
    "               \"nope\",\n",
    "               \"ENSMUSG00000025911\"],\n",
    "    dst_species=\"Mus musculus\"\n",
    ")\n",
    "print(json.dumps(ens_to_ncbi, indent=2))"
   ]
  },
  {
   "cell_type": "markdown",
   "id": "58e593be-05dc-4df9-8fbd-9abd678b197f",
   "metadata": {},
   "source": [
    "You will note that the metadata includes two mappings: one from ENSEMBL to NCBI, and one from symbol to NCBI. This is because the mapper tries to interpret `\"nope\"` as a gene symbol (it is obviously not an ENSEMBL or an NCBI ID). That mapping fails, which is why\n",
    "```\n",
    "\"nope\" -> \"symbol:NCBI:UNMAPPABLE_NO_MATCH_0\"\n",
    "```\n",
    "but the metadata for the attempted mapping is still recorded.\n"
   ]
  },
  {
   "cell_type": "markdown",
   "id": "8c620b86-acd4-44a3-909c-cf10524f71c0",
   "metadata": {},
   "source": [
    "\n",
    "Here is a call mapping from NCBI to ENSEMBL"
   ]
  },
  {
   "cell_type": "code",
   "execution_count": 19,
   "id": "fbad7610-4142-45db-9f39-db97163c3280",
   "metadata": {},
   "outputs": [
    {
     "name": "stdout",
     "output_type": "stream",
     "text": [
      "{\n",
      "  \"metadata\": [\n",
      "    {\n",
      "      \"mapping\": {\n",
      "        \"axis\": \"authority\",\n",
      "        \"from\": \"symbol\",\n",
      "        \"to\": \"ENSEMBL\"\n",
      "      },\n",
      "      \"citation\": {\n",
      "        \"name\": \"ENSEMBL-10090-98\",\n",
      "        \"metadata\": {\n",
      "          \"biolink:OrganismTaxon\": {\n",
      "            \"id\": \"NCBITaxon:10090\",\n",
      "            \"iri\": \"http://purl.obolibrary.org/obo/NCBITaxon_10090\",\n",
      "            \"category\": [\n",
      "              \"biolink:OrganismTaxon\"\n",
      "            ],\n",
      "            \"name\": \"house mouse\",\n",
      "            \"full_name\": \"Mus musculus\"\n",
      "          },\n",
      "          \"bican:GenomeAssembly\": {\n",
      "            \"id\": \"NCBIAssembly:GCF_000001635.26\",\n",
      "            \"category\": [\n",
      "              \"bican:GenomeAssembly\"\n",
      "            ],\n",
      "            \"name\": \"GRCm38\",\n",
      "            \"in_taxon\": [\n",
      "              \"NCBITaxon:10090\"\n",
      "            ],\n",
      "            \"in_taxon_label\": \"Mus musculus\",\n",
      "            \"version\": \"26\"\n",
      "          },\n",
      "          \"bican:GenomeAnnotation\": {\n",
      "            \"id\": \"bican:annotation-ENSEMBL-10090-98\",\n",
      "            \"category\": [\n",
      "              \"bican:GenomeAnnotation\"\n",
      "            ],\n",
      "            \"description\": \"ENSEMBL Mus musculus Annotation Release 98\",\n",
      "            \"in_taxon\": [\n",
      "              \"NCBITaxon:10090\"\n",
      "            ],\n",
      "            \"in_taxon_label\": \"Mus musculus\",\n",
      "            \"version\": \"98\",\n",
      "            \"digest\": [\n",
      "              \"urn:uuid:1696a139-804c-4576-98df-2be64dac34ff\"\n",
      "            ],\n",
      "            \"content_url\": [\n",
      "              \"https://ftp.ensembl.org/pub/release-98/gff3/mus_musculus/Mus_musculus.GRCm38.98.gff3.gz\"\n",
      "            ],\n",
      "            \"authority\": \"ENSEMBL\",\n",
      "            \"reference_assembly\": \"NCBIAssembly:GCF_000001635.26\"\n",
      "          }\n",
      "        }\n",
      "      }\n",
      "    },\n",
      "    {\n",
      "      \"mapping\": {\n",
      "        \"axis\": \"authority\",\n",
      "        \"from\": \"NCBI\",\n",
      "        \"to\": \"ENSEMBL\"\n",
      "      },\n",
      "      \"citation\": {\n",
      "        \"name\": \"NCBI\",\n",
      "        \"metadata\": {\n",
      "          \"gene_info.gz\": {\n",
      "            \"host\": \"ftp.ncbi.nlm.nih.gov\",\n",
      "            \"src_path\": \"gene/DATA/gene_info.gz\",\n",
      "            \"hash\": \"md5:932969426286efd0114db1c7b7a0a9b2\",\n",
      "            \"downloaded_on\": \"2025-07-25-16-52-21\"\n",
      "          },\n",
      "          \"gene2ensembl.gz\": {\n",
      "            \"host\": \"ftp.ncbi.nlm.nih.gov\",\n",
      "            \"src_path\": \"gene/DATA/gene2ensembl.gz\",\n",
      "            \"hash\": \"md5:181c1cb0feac8aa8cb45b98fa7a758a0\",\n",
      "            \"downloaded_on\": \"2025-07-25-16-53-39\"\n",
      "          },\n",
      "          \"gene_orthologs.gz\": {\n",
      "            \"host\": \"ftp.ncbi.nlm.nih.gov\",\n",
      "            \"src_path\": \"gene/DATA/gene_orthologs.gz\",\n",
      "            \"hash\": \"md5:744c66facf3775f54bd6d82b468af89d\",\n",
      "            \"downloaded_on\": \"2025-07-25-16-54-10\"\n",
      "          }\n",
      "        }\n",
      "      }\n",
      "    }\n",
      "  ],\n",
      "  \"gene_list\": [\n",
      "    \"ENSMUSG00000021557\",\n",
      "    \"ENSMUSG00000003271\",\n",
      "    \"symbol:ENSEMBL:UNMAPPABLE_NO_MATCH_0\",\n",
      "    \"ENSMUSG00000037747\"\n",
      "  ]\n",
      "}\n"
     ]
    }
   ],
   "source": [
    "ncbi_to_ens = gene_mapper.map_genes(\n",
    "    dst_authority='ENSEMBL',\n",
    "    gene_list=[\"NCBIGene:67269\", \"NCBIGene:54200\", \"nope\", \"NCBIGene:70911\"],\n",
    "    dst_species=\"Mus musculus\"\n",
    ")\n",
    "print(json.dumps(ncbi_to_ens, indent=2))"
   ]
  },
  {
   "cell_type": "markdown",
   "id": "0de3aa5c-2ebe-4921-8d9b-b8851eff6220",
   "metadata": {},
   "source": [
    "To simulate \"production scale,\" we will now download all of the genes in the Yao et al. 2023 10X gene panel and try mappping them from ENSEMBL to NCBI to see how long it takes to process that many genes."
   ]
  },
  {
   "cell_type": "code",
   "execution_count": 20,
   "id": "2e77f845-8585-4bab-8f79-1455a09b7d38",
   "metadata": {},
   "outputs": [
    {
     "name": "stdout",
     "output_type": "stream",
     "text": [
      "mapping 32285 genes took 1.09e+01 seconds\n",
      "24507 genes had unique NCBI matches\n"
     ]
    }
   ],
   "source": [
    "wmb_gene_df = abc_cache.get_metadata_dataframe(\n",
    "    directory='WMB-10X',\n",
    "    file_name='gene'\n",
    ")\n",
    "wmb_genes = wmb_gene_df.gene_identifier.values\n",
    "t0 = time.time()\n",
    "wmb_ncbi = gene_mapper.map_genes(\n",
    "    dst_authority='NCBI',\n",
    "    gene_list=wmb_genes,\n",
    "    dst_species='Mus musculus',\n",
    ")\n",
    "dur = time.time()-t0\n",
    "print(f'mapping {len(wmb_genes)} genes took {dur:.2e} seconds')\n",
    "\n",
    "n_mapped = 0\n",
    "for k in wmb_ncbi['gene_list']:\n",
    "    if 'UNMAPPABLE' not in k:\n",
    "        n_mapped += 1\n",
    "print(f'{n_mapped} genes had unique NCBI matches')\n"
   ]
  },
  {
   "cell_type": "markdown",
   "id": "2f2f4586-8ded-4785-abe4-81f89075e263",
   "metadata": {},
   "source": [
    "Now we will download the marker genes used by MapMyCells for the Whole Mouse Brain taxonomy and try mapping them from ENSEMBL to NCBI."
   ]
  },
  {
   "cell_type": "code",
   "execution_count": 21,
   "id": "d377c657-9985-4bf6-8a73-8d7a4d19d235",
   "metadata": {},
   "outputs": [],
   "source": [
    "src_path = \"https://allen-brain-cell-atlas.s3-us-west-2.amazonaws.com/mapmycells/WMB-10X/20240831/mouse_markers_230821.json\"\n",
    "wmb_marker_path = pathlib.Path('../data/mouse_markers_230821.json')\n",
    "if not wmb_marker_path.is_file():\n",
    "    print(f\"downloading {wmb_marker_path}\")\n",
    "    process = subprocess.Popen(\n",
    "        args=[\n",
    "           \"wget\",\n",
    "            src_path,\n",
    "            \"-O\",\n",
    "            str(wmb_marker_path),\n",
    "        ],\n",
    "        stderr=subprocess.DEVNULL\n",
    "    )\n",
    "    process.wait()"
   ]
  },
  {
   "cell_type": "code",
   "execution_count": 22,
   "id": "de440719-7e4b-49eb-898f-803a84215488",
   "metadata": {},
   "outputs": [],
   "source": [
    "marker_genes = set()\n",
    "with open(wmb_marker_path, 'rb') as src:\n",
    "    marker_lookup = json.load(src)\n",
    "for key in marker_lookup:\n",
    "    if key in ('log', 'metadata'):\n",
    "        continue\n",
    "    marker_genes = marker_genes.union(set(marker_lookup[key]))\n",
    "marker_genes = sorted(marker_genes)"
   ]
  },
  {
   "cell_type": "markdown",
   "id": "34db75d7-ca7f-4daa-9732-8729fcfab7c6",
   "metadata": {},
   "source": [
    "Let's now map our mouse marker genes from ENSEMBL to NCBI"
   ]
  },
  {
   "cell_type": "code",
   "execution_count": 23,
   "id": "a611509d-1366-4cba-983f-4f54d5805b43",
   "metadata": {},
   "outputs": [
    {
     "name": "stdout",
     "output_type": "stream",
     "text": [
      "6558 marker genes\n",
      "mapping 6558 genes took 5.37e-01 seconds\n",
      "6493 genes had unique NCBI matches\n"
     ]
    }
   ],
   "source": [
    "print(f'{len(marker_genes)} marker genes')\n",
    "t0 = time.time()\n",
    "marker_ncbi = gene_mapper.map_genes(\n",
    "    dst_authority='NCBI',\n",
    "    gene_list=marker_genes,\n",
    "    dst_species='Mus musculus'\n",
    ")\n",
    "dur = time.time()-t0\n",
    "print(f'mapping {len(marker_genes)} genes took {dur:.2e} seconds')\n",
    "\n",
    "n_mapped = 0\n",
    "n_one_to_one = 0\n",
    "for k in marker_ncbi['gene_list']:\n",
    "    if 'UNMAPPABLE' not in k:\n",
    "        n_mapped += 1\n",
    "\n",
    "print(f'{n_mapped} genes had unique NCBI matches')\n"
   ]
  },
  {
   "cell_type": "markdown",
   "id": "18007eeb-c0c7-4f9f-b6a2-ba6e3ae8a285",
   "metadata": {},
   "source": [
    "### Ortholog mapping\n",
    "\n",
    "To test ortholog mapping, let's take the genes from Yao et al. 2023 that only mapped to one NCBI gene and map them to human orthologs."
   ]
  },
  {
   "cell_type": "markdown",
   "id": "f925d36c-603b-4d3d-bd7c-e585cd09d0ab",
   "metadata": {},
   "source": [
    "First let's just map 5 genes so that we can display the output and see what it looks like"
   ]
  },
  {
   "cell_type": "code",
   "execution_count": 24,
   "id": "f6d5b0d1-353b-42fa-a0bf-6baf5eaac714",
   "metadata": {},
   "outputs": [
    {
     "name": "stdout",
     "output_type": "stream",
     "text": [
      "[\n",
      "  \"ENSMUSG00000000142\",\n",
      "  \"ENSMUSG00000000159\",\n",
      "  \"ENSMUSG00000000184\",\n",
      "  \"ENSMUSG00000000197\",\n",
      "  \"ENSMUSG00000000202\",\n",
      "  \"not_an_actual_gene\"\n",
      "]\n",
      "maps to\n",
      "[\n",
      "  \"ENSG00000168646\",\n",
      "  \"ENSG00000183067\",\n",
      "  \"ENSG00000118971\",\n",
      "  \"ENSG00000102452\",\n",
      "  \"ENSG00000204347\",\n",
      "  \"symbol:NCBI:UNMAPPABLE_NO_MATCH_0\"\n",
      "]\n"
     ]
    }
   ],
   "source": [
    "gene_list = marker_genes[10:15] + ['not_an_actual_gene']\n",
    "print(json.dumps(gene_list, indent=2))\n",
    "test_orthologs = gene_mapper.map_genes(\n",
    "    dst_authority='ENSEMBL',\n",
    "    dst_species='human',\n",
    "    gene_list=gene_list\n",
    ")\n",
    "print(\"maps to\")\n",
    "print(json.dumps(test_orthologs['gene_list'], indent=2))"
   ]
  },
  {
   "cell_type": "markdown",
   "id": "aac68261-3af2-4a92-878e-cdfc9718ab37",
   "metadata": {},
   "source": [
    "Since we just did an ortholog mapping, which will have involved several transformation steps, let's look at the contents of the mapping metadata in more detail."
   ]
  },
  {
   "cell_type": "code",
   "execution_count": 25,
   "id": "40aacfd2-8a6a-47d7-bddc-c7a2f72a2c4d",
   "metadata": {},
   "outputs": [
    {
     "name": "stdout",
     "output_type": "stream",
     "text": [
      "4\n"
     ]
    }
   ],
   "source": [
    "print(len(test_orthologs['metadata']))"
   ]
  },
  {
   "cell_type": "markdown",
   "id": "52897494-64ae-4ee6-8faa-d122617eae17",
   "metadata": {},
   "source": [
    "Each element in `test_orthologs[\"metadata\"]` records the metadata for a particular mapping step as a dict. `\"mapping\"` explains the purpose of the mapping step."
   ]
  },
  {
   "cell_type": "code",
   "execution_count": 26,
   "id": "e9b1d2e1-bdd2-4c78-b010-f1269aea4d32",
   "metadata": {},
   "outputs": [
    {
     "name": "stdout",
     "output_type": "stream",
     "text": [
      "{'axis': 'authority', 'from': 'symbol', 'to': 'NCBI'}\n",
      "{'axis': 'authority', 'from': 'ENSEMBL', 'to': 'NCBI'}\n",
      "{'axis': 'species', 'from': {'name': 'Balb/c mouse', 'taxon': 10090}, 'to': {'name': 'human', 'taxon': 9606}}\n",
      "{'axis': 'authority', 'from': 'NCBI', 'to': 'ENSEMBL'}\n"
     ]
    }
   ],
   "source": [
    "for metadata_entry in test_orthologs['metadata']:\n",
    "    print(metadata_entry['mapping'])"
   ]
  },
  {
   "cell_type": "markdown",
   "id": "03a761d1-f775-4943-9a86-4c69fd983cf6",
   "metadata": {},
   "source": [
    "Since the input genes were a mixture of ENSEMBL IDs and one symbol (`\"not_an_actual_gene\"`), the mapper first maps from symbol to NCBI and from ENSEMBl to NCBI (recall that we use NCBI identifiers to record the mapping between ortholog genes), then maps from mouse to human (in NCBI), then, since the user requested `dst_authority=\"ENSEMBL\"`, the mapper maks from `\"NCBI\"->\"ENSEMBL\"`."
   ]
  },
  {
   "cell_type": "markdown",
   "id": "a34a23e1-a293-4f97-a2a4-f195bf3b77fd",
   "metadata": {},
   "source": [
    "The `\"citation\"` element of the metadata dict records the actual metadata describing how that step in the mapping was performed."
   ]
  },
  {
   "cell_type": "code",
   "execution_count": 27,
   "id": "ef0b3bd0-8607-4a7b-8f07-a9ce8375ff32",
   "metadata": {},
   "outputs": [
    {
     "name": "stdout",
     "output_type": "stream",
     "text": [
      "{\n",
      "  \"gene_info.gz\": {\n",
      "    \"host\": \"ftp.ncbi.nlm.nih.gov\",\n",
      "    \"src_path\": \"gene/DATA/gene_info.gz\",\n",
      "    \"hash\": \"md5:932969426286efd0114db1c7b7a0a9b2\",\n",
      "    \"downloaded_on\": \"2025-07-25-16-52-21\"\n",
      "  },\n",
      "  \"gene2ensembl.gz\": {\n",
      "    \"host\": \"ftp.ncbi.nlm.nih.gov\",\n",
      "    \"src_path\": \"gene/DATA/gene2ensembl.gz\",\n",
      "    \"hash\": \"md5:181c1cb0feac8aa8cb45b98fa7a758a0\",\n",
      "    \"downloaded_on\": \"2025-07-25-16-53-39\"\n",
      "  },\n",
      "  \"gene_orthologs.gz\": {\n",
      "    \"host\": \"ftp.ncbi.nlm.nih.gov\",\n",
      "    \"src_path\": \"gene/DATA/gene_orthologs.gz\",\n",
      "    \"hash\": \"md5:744c66facf3775f54bd6d82b468af89d\",\n",
      "    \"downloaded_on\": \"2025-07-25-16-54-10\"\n",
      "  }\n",
      "}\n"
     ]
    }
   ],
   "source": [
    "print(json.dumps(test_orthologs['metadata'][2]['citation'], indent=2))"
   ]
  },
  {
   "cell_type": "markdown",
   "id": "beb7b8a1-5655-4159-a9c8-e4e1c23f6893",
   "metadata": {},
   "source": [
    "Now let's map all 32,000 mouse genes to human."
   ]
  },
  {
   "cell_type": "code",
   "execution_count": 28,
   "id": "f70b0ce1-694d-42ea-907c-18f68d6ffc62",
   "metadata": {},
   "outputs": [
    {
     "name": "stdout",
     "output_type": "stream",
     "text": [
      "mapping genes like\n",
      "['ENSMUSG00000051951' 'ENSMUSG00000089699' 'ENSMUSG00000102331'\n",
      " 'ENSMUSG00000102343' 'ENSMUSG00000025900']\n",
      "to human ENSEMBL genes\n",
      "mapping 32285 orthologs took 2.15e+01 seconds\n",
      "16460 genes had orthologs\n"
     ]
    }
   ],
   "source": [
    "t0 = time.time()\n",
    "print(\"mapping genes like\")\n",
    "print(wmb_genes[:5])\n",
    "print(\"to human ENSEMBL genes\")\n",
    "wmb_to_whb_orthologs = gene_mapper.map_genes(\n",
    "    dst_authority='ENSEMBL',\n",
    "    dst_species='human',\n",
    "    gene_list=wmb_genes\n",
    ")\n",
    "dur = time.time()-t0\n",
    "print(f'mapping {len(wmb_ncbi['gene_list'])} orthologs took {dur:.2e} seconds')\n",
    "n_mapped = 0\n",
    "for k in wmb_to_whb_orthologs['gene_list']:\n",
    "    if 'UNMAPPABLE' not in k:\n",
    "        n_mapped += 1\n",
    "print(f'{n_mapped} genes had orthologs')\n"
   ]
  },
  {
   "cell_type": "code",
   "execution_count": 29,
   "id": "9cc34e39-8222-4552-8b0a-2f9c5efc9ef7",
   "metadata": {},
   "outputs": [
    {
     "name": "stdout",
     "output_type": "stream",
     "text": [
      "[\n",
      "  {\n",
      "    \"mapping\": {\n",
      "      \"axis\": \"authority\",\n",
      "      \"from\": \"ENSEMBL\",\n",
      "      \"to\": \"NCBI\"\n",
      "    },\n",
      "    \"citation\": {\n",
      "      \"name\": \"NCBI\",\n",
      "      \"metadata\": {\n",
      "        \"gene_info.gz\": {\n",
      "          \"host\": \"ftp.ncbi.nlm.nih.gov\",\n",
      "          \"src_path\": \"gene/DATA/gene_info.gz\",\n",
      "          \"hash\": \"md5:932969426286efd0114db1c7b7a0a9b2\",\n",
      "          \"downloaded_on\": \"2025-07-25-16-52-21\"\n",
      "        },\n",
      "        \"gene2ensembl.gz\": {\n",
      "          \"host\": \"ftp.ncbi.nlm.nih.gov\",\n",
      "          \"src_path\": \"gene/DATA/gene2ensembl.gz\",\n",
      "          \"hash\": \"md5:181c1cb0feac8aa8cb45b98fa7a758a0\",\n",
      "          \"downloaded_on\": \"2025-07-25-16-53-39\"\n",
      "        },\n",
      "        \"gene_orthologs.gz\": {\n",
      "          \"host\": \"ftp.ncbi.nlm.nih.gov\",\n",
      "          \"src_path\": \"gene/DATA/gene_orthologs.gz\",\n",
      "          \"hash\": \"md5:744c66facf3775f54bd6d82b468af89d\",\n",
      "          \"downloaded_on\": \"2025-07-25-16-54-10\"\n",
      "        }\n",
      "      }\n",
      "    }\n",
      "  },\n",
      "  {\n",
      "    \"mapping\": {\n",
      "      \"axis\": \"species\",\n",
      "      \"from\": {\n",
      "        \"name\": \"Balb/c mouse\",\n",
      "        \"taxon\": 10090\n",
      "      },\n",
      "      \"to\": {\n",
      "        \"name\": \"human\",\n",
      "        \"taxon\": 9606\n",
      "      }\n",
      "    },\n",
      "    \"citation\": {\n",
      "      \"gene_info.gz\": {\n",
      "        \"host\": \"ftp.ncbi.nlm.nih.gov\",\n",
      "        \"src_path\": \"gene/DATA/gene_info.gz\",\n",
      "        \"hash\": \"md5:932969426286efd0114db1c7b7a0a9b2\",\n",
      "        \"downloaded_on\": \"2025-07-25-16-52-21\"\n",
      "      },\n",
      "      \"gene2ensembl.gz\": {\n",
      "        \"host\": \"ftp.ncbi.nlm.nih.gov\",\n",
      "        \"src_path\": \"gene/DATA/gene2ensembl.gz\",\n",
      "        \"hash\": \"md5:181c1cb0feac8aa8cb45b98fa7a758a0\",\n",
      "        \"downloaded_on\": \"2025-07-25-16-53-39\"\n",
      "      },\n",
      "      \"gene_orthologs.gz\": {\n",
      "        \"host\": \"ftp.ncbi.nlm.nih.gov\",\n",
      "        \"src_path\": \"gene/DATA/gene_orthologs.gz\",\n",
      "        \"hash\": \"md5:744c66facf3775f54bd6d82b468af89d\",\n",
      "        \"downloaded_on\": \"2025-07-25-16-54-10\"\n",
      "      }\n",
      "    }\n",
      "  },\n",
      "  {\n",
      "    \"mapping\": {\n",
      "      \"axis\": \"authority\",\n",
      "      \"from\": \"NCBI\",\n",
      "      \"to\": \"ENSEMBL\"\n",
      "    },\n",
      "    \"citation\": {\n",
      "      \"name\": \"NCBI\",\n",
      "      \"metadata\": {\n",
      "        \"gene_info.gz\": {\n",
      "          \"host\": \"ftp.ncbi.nlm.nih.gov\",\n",
      "          \"src_path\": \"gene/DATA/gene_info.gz\",\n",
      "          \"hash\": \"md5:932969426286efd0114db1c7b7a0a9b2\",\n",
      "          \"downloaded_on\": \"2025-07-25-16-52-21\"\n",
      "        },\n",
      "        \"gene2ensembl.gz\": {\n",
      "          \"host\": \"ftp.ncbi.nlm.nih.gov\",\n",
      "          \"src_path\": \"gene/DATA/gene2ensembl.gz\",\n",
      "          \"hash\": \"md5:181c1cb0feac8aa8cb45b98fa7a758a0\",\n",
      "          \"downloaded_on\": \"2025-07-25-16-53-39\"\n",
      "        },\n",
      "        \"gene_orthologs.gz\": {\n",
      "          \"host\": \"ftp.ncbi.nlm.nih.gov\",\n",
      "          \"src_path\": \"gene/DATA/gene_orthologs.gz\",\n",
      "          \"hash\": \"md5:744c66facf3775f54bd6d82b468af89d\",\n",
      "          \"downloaded_on\": \"2025-07-25-16-54-10\"\n",
      "        }\n",
      "      }\n",
      "    }\n",
      "  }\n",
      "]\n"
     ]
    }
   ],
   "source": [
    "print(json.dumps(wmb_to_whb_orthologs['metadata'], indent=2))"
   ]
  },
  {
   "cell_type": "markdown",
   "id": "24c6b414-f695-4f60-8129-ad8e043b2a08",
   "metadata": {},
   "source": [
    "#### Map from mouse to naked mole rat\n",
    "\n",
    "Now, inspired by a recent community forum post, let's take our mouse marker genes, convert them into NCBI identifiers, and finally convert those in to naked mole rat orthologs."
   ]
  },
  {
   "cell_type": "code",
   "execution_count": 30,
   "id": "e5177766-aacb-4f1c-8998-474530c890f0",
   "metadata": {},
   "outputs": [
    {
     "name": "stdout",
     "output_type": "stream",
     "text": [
      "mapping took 1.44e+00 seconds\n",
      "5048 genes of 6558 had orthologs\n",
      "['ENSMUSG00000000028', 'ENSMUSG00000000037', 'ENSMUSG00000000056', 'ENSMUSG00000000058', 'ENSMUSG00000000078']\n",
      "['ENSHGLG00000015159', 'NCBI:ENSEMBL:UNMAPPABLE_NO_MATCH_0', 'ENSHGLG00000008789', 'ENSHGLG00000002962', 'ENSHGLG00000007077']\n"
     ]
    }
   ],
   "source": [
    "t0 = time.time()\n",
    "\n",
    "naked_mole_rat = gene_mapper.map_genes(\n",
    "    dst_authority='ENSEMBL',\n",
    "    dst_species='naked mole rat',\n",
    "    gene_list=marker_genes,\n",
    "    ortholog_citation='NCBI'\n",
    ")\n",
    "\n",
    "dur = time.time()-t0\n",
    "print(f\"mapping took {dur:.2e} seconds\")\n",
    "n_mapped = 0\n",
    "for g in naked_mole_rat['gene_list']:\n",
    "    if 'UNMAPPABLE' not in g:\n",
    "        n_mapped += 1\n",
    "print(f\"{n_mapped} genes of {len(marker_genes)} had orthologs\")\n",
    "print(marker_genes[:5])\n",
    "print(naked_mole_rat['gene_list'][:5])"
   ]
  },
  {
   "cell_type": "markdown",
   "id": "8773ade5-5760-48a5-a4b6-cc61d30f9666",
   "metadata": {},
   "source": [
    "Here is the metadata for the naked mole rat ortholog mapping"
   ]
  },
  {
   "cell_type": "code",
   "execution_count": 31,
   "id": "ef0a81ca-e857-4896-affc-4e20dd202088",
   "metadata": {},
   "outputs": [
    {
     "name": "stdout",
     "output_type": "stream",
     "text": [
      "[\n",
      "  {\n",
      "    \"mapping\": {\n",
      "      \"axis\": \"authority\",\n",
      "      \"from\": \"ENSEMBL\",\n",
      "      \"to\": \"NCBI\"\n",
      "    },\n",
      "    \"citation\": {\n",
      "      \"name\": \"NCBI\",\n",
      "      \"metadata\": {\n",
      "        \"gene_info.gz\": {\n",
      "          \"host\": \"ftp.ncbi.nlm.nih.gov\",\n",
      "          \"src_path\": \"gene/DATA/gene_info.gz\",\n",
      "          \"hash\": \"md5:932969426286efd0114db1c7b7a0a9b2\",\n",
      "          \"downloaded_on\": \"2025-07-25-16-52-21\"\n",
      "        },\n",
      "        \"gene2ensembl.gz\": {\n",
      "          \"host\": \"ftp.ncbi.nlm.nih.gov\",\n",
      "          \"src_path\": \"gene/DATA/gene2ensembl.gz\",\n",
      "          \"hash\": \"md5:181c1cb0feac8aa8cb45b98fa7a758a0\",\n",
      "          \"downloaded_on\": \"2025-07-25-16-53-39\"\n",
      "        },\n",
      "        \"gene_orthologs.gz\": {\n",
      "          \"host\": \"ftp.ncbi.nlm.nih.gov\",\n",
      "          \"src_path\": \"gene/DATA/gene_orthologs.gz\",\n",
      "          \"hash\": \"md5:744c66facf3775f54bd6d82b468af89d\",\n",
      "          \"downloaded_on\": \"2025-07-25-16-54-10\"\n",
      "        }\n",
      "      }\n",
      "    }\n",
      "  },\n",
      "  {\n",
      "    \"mapping\": {\n",
      "      \"axis\": \"species\",\n",
      "      \"from\": {\n",
      "        \"name\": \"Balb/c mouse\",\n",
      "        \"taxon\": 10090\n",
      "      },\n",
      "      \"to\": {\n",
      "        \"name\": \"naked mole rat\",\n",
      "        \"taxon\": 10181\n",
      "      }\n",
      "    },\n",
      "    \"citation\": {\n",
      "      \"gene_info.gz\": {\n",
      "        \"host\": \"ftp.ncbi.nlm.nih.gov\",\n",
      "        \"src_path\": \"gene/DATA/gene_info.gz\",\n",
      "        \"hash\": \"md5:932969426286efd0114db1c7b7a0a9b2\",\n",
      "        \"downloaded_on\": \"2025-07-25-16-52-21\"\n",
      "      },\n",
      "      \"gene2ensembl.gz\": {\n",
      "        \"host\": \"ftp.ncbi.nlm.nih.gov\",\n",
      "        \"src_path\": \"gene/DATA/gene2ensembl.gz\",\n",
      "        \"hash\": \"md5:181c1cb0feac8aa8cb45b98fa7a758a0\",\n",
      "        \"downloaded_on\": \"2025-07-25-16-53-39\"\n",
      "      },\n",
      "      \"gene_orthologs.gz\": {\n",
      "        \"host\": \"ftp.ncbi.nlm.nih.gov\",\n",
      "        \"src_path\": \"gene/DATA/gene_orthologs.gz\",\n",
      "        \"hash\": \"md5:744c66facf3775f54bd6d82b468af89d\",\n",
      "        \"downloaded_on\": \"2025-07-25-16-54-10\"\n",
      "      }\n",
      "    }\n",
      "  },\n",
      "  {\n",
      "    \"mapping\": {\n",
      "      \"axis\": \"authority\",\n",
      "      \"from\": \"NCBI\",\n",
      "      \"to\": \"ENSEMBL\"\n",
      "    },\n",
      "    \"citation\": {\n",
      "      \"name\": \"NCBI\",\n",
      "      \"metadata\": {\n",
      "        \"gene_info.gz\": {\n",
      "          \"host\": \"ftp.ncbi.nlm.nih.gov\",\n",
      "          \"src_path\": \"gene/DATA/gene_info.gz\",\n",
      "          \"hash\": \"md5:932969426286efd0114db1c7b7a0a9b2\",\n",
      "          \"downloaded_on\": \"2025-07-25-16-52-21\"\n",
      "        },\n",
      "        \"gene2ensembl.gz\": {\n",
      "          \"host\": \"ftp.ncbi.nlm.nih.gov\",\n",
      "          \"src_path\": \"gene/DATA/gene2ensembl.gz\",\n",
      "          \"hash\": \"md5:181c1cb0feac8aa8cb45b98fa7a758a0\",\n",
      "          \"downloaded_on\": \"2025-07-25-16-53-39\"\n",
      "        },\n",
      "        \"gene_orthologs.gz\": {\n",
      "          \"host\": \"ftp.ncbi.nlm.nih.gov\",\n",
      "          \"src_path\": \"gene/DATA/gene_orthologs.gz\",\n",
      "          \"hash\": \"md5:744c66facf3775f54bd6d82b468af89d\",\n",
      "          \"downloaded_on\": \"2025-07-25-16-54-10\"\n",
      "        }\n",
      "      }\n",
      "    }\n",
      "  }\n",
      "]\n"
     ]
    }
   ],
   "source": [
    "print(json.dumps(naked_mole_rat['metadata'], indent=2))"
   ]
  },
  {
   "cell_type": "code",
   "execution_count": null,
   "id": "620829de-0ca5-49af-9942-aa2cba055d2a",
   "metadata": {},
   "outputs": [],
   "source": []
  }
 ],
 "metadata": {
  "kernelspec": {
   "display_name": "Python 3 (ipykernel)",
   "language": "python",
   "name": "python3"
  },
  "language_info": {
   "codemirror_mode": {
    "name": "ipython",
    "version": 3
   },
   "file_extension": ".py",
   "mimetype": "text/x-python",
   "name": "python",
   "nbconvert_exporter": "python",
   "pygments_lexer": "ipython3",
   "version": "3.12.9"
  }
 },
 "nbformat": 4,
 "nbformat_minor": 5
}
