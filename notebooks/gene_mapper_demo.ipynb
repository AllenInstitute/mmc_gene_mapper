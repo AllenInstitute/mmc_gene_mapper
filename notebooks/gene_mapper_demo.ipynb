{
 "cells": [
  {
   "cell_type": "markdown",
   "id": "db47bb03-b787-4cf7-9203-352dc7eb6ecd",
   "metadata": {},
   "source": [
    "The purpose of this notebook is to demonstrate the prototype gene mapper library put together to generalize the processes of\n",
    "\n",
    "- Mapping gene symbols to gene identifiers\n",
    "- Mapping gene identifiers across authorities (NCBI, ENSEMBL, etc.)\n",
    "- Mapping genes in one species to ortholog genes in another species\n",
    "\n",
    "for MapMyCells.\n",
    "\n",
    "In addition to the `mmc_gene_mapper` codebase and its dependencies, this notebook depends on the `abc_atlas_access` tool, though only for downloading metadata to simulate mapping 10s of thousands of genes at once (as we would with real user data)."
   ]
  },
  {
   "cell_type": "markdown",
   "id": "9aa87849-b621-4dff-b1b7-3d1bf8e87995",
   "metadata": {},
   "source": [
    "## Setup"
   ]
  },
  {
   "cell_type": "code",
   "execution_count": 1,
   "id": "de6c8e20-d464-4151-b975-fe82d4014fec",
   "metadata": {},
   "outputs": [
    {
     "name": "stderr",
     "output_type": "stream",
     "text": [
      "/Users/scott.daniel/miniconda3/envs/gene_mapper/lib/python3.12/site-packages/bkbit/data_translators/genome_annotation_translator.py:67: UserWarning: pkg_resources is deprecated as an API. See https://setuptools.pypa.io/en/latest/pkg_resources.html. The pkg_resources package is slated for removal as early as 2025-11-30. Refrain from using this package or pin to Setuptools<81.\n",
      "  import pkg_resources\n"
     ]
    }
   ],
   "source": [
    "import h5py\n",
    "import json\n",
    "import pathlib\n",
    "import subprocess\n",
    "import sqlite3\n",
    "import time\n",
    "\n",
    "import abc_atlas_access.abc_atlas_cache.abc_project_cache as abc_cache_library\n",
    "\n",
    "import mmc_gene_mapper\n",
    "import mmc_gene_mapper.utils.file_utils as file_utils\n",
    "import mmc_gene_mapper.ensembl_download.scraper as ensembl_scraper\n",
    "import mmc_gene_mapper.mapper.mapper as mapper"
   ]
  },
  {
   "cell_type": "code",
   "execution_count": 2,
   "id": "7351d2c5-f2fb-4446-8586-c9c2e25e9947",
   "metadata": {},
   "outputs": [
    {
     "name": "stderr",
     "output_type": "stream",
     "text": [
      "/Users/scott.daniel/miniconda3/envs/gene_mapper/lib/python3.12/site-packages/abc_atlas_access/abc_atlas_cache/cloud_cache.py:630: OutdatedManifestWarning: You are loading releases/20250331/manifest.json. A more up to date version of the dataset -- releases/20250531/manifest.json -- exists online. To see the changes between the two versions of the dataset, run\n",
      "type.compare_manifests('releases/20250331/manifest.json', 'releases/20250531/manifest.json')\n",
      "To load another version of the dataset, run\n",
      "type.load_manifest('releases/20250531/manifest.json')\n",
      "  warnings.warn(msg, OutdatedManifestWarning)\n"
     ]
    }
   ],
   "source": [
    "abc_cache = abc_cache_library.AbcProjectCache.from_cache_dir('../data/abc_cache')"
   ]
  },
  {
   "cell_type": "code",
   "execution_count": 3,
   "id": "eea118fa-0f34-4027-a06a-28543fbce932",
   "metadata": {},
   "outputs": [],
   "source": [
    "bican_files = [\n",
    "    {'url': 'https://ftp.ensembl.org/pub/release-101/gff3/homo_sapiens/Homo_sapiens.GRCh38.101.gff3.gz',\n",
    "     'assembly_id': 'GCF_000001405.39'},\n",
    "    {'url': 'https://ftp.ensembl.org/pub/release-98/gff3/mus_musculus/Mus_musculus.GRCm38.98.gff3.gz',\n",
    "     'assembly_id': 'GCF_000001635.26'}\n",
    "]"
   ]
  },
  {
   "cell_type": "code",
   "execution_count": null,
   "id": "7d6b0ff2-8c0c-45ed-8e0f-bd11688ca775",
   "metadata": {},
   "outputs": [],
   "source": [
    "t0 = time.time()\n",
    "ensembl_files_spec = ensembl_scraper.scrape_ensembl(\n",
    "    default_ensembl_version=114,\n",
    "    dst_dir='../data/ensembl_download',\n",
    "    failure_log_path='../data/ensembl_download_failure.txt',\n",
    "    specific_files=bican_files,\n",
    "    tmp_dir='../data/scratch'\n",
    ")\n",
    "dur = (time.time()-t0)/60.0\n",
    "print(f'scraping ENSEMBL took {dur:.2e} minutes')"
   ]
  },
  {
   "cell_type": "code",
   "execution_count": 5,
   "id": "720a2f1f-34d6-42c7-a29a-5a28002d3d95",
   "metadata": {},
   "outputs": [],
   "source": [
    "data_dir = pathlib.Path(\n",
    "    mmc_gene_mapper.__file__).parent.parent.parent / \"data\"\n",
    "assert data_dir.is_dir()"
   ]
  },
  {
   "cell_type": "code",
   "execution_count": 6,
   "id": "cd3b6d12-9a81-4585-9955-1343acb0fb05",
   "metadata": {},
   "outputs": [],
   "source": [
    "db_path = data_dir/\"gene_mapper_example.db\"\n",
    "assert db_path.parent.is_dir()"
   ]
  },
  {
   "cell_type": "markdown",
   "id": "f02ee006-8ee1-4978-8d07-85d06dd3be8f",
   "metadata": {},
   "source": [
    "There are some files in\n",
    "```\n",
    "/allen/scratch/aibstemp/danielsf/gene_mapper_data\n",
    "```\n",
    "that are used to ingest data beyond what is available in the NCBI FTP server. Please copy those files to `../data/db_creation_data` in this respository (the cell below will fail if any of the files are not present)"
   ]
  },
  {
   "cell_type": "code",
   "execution_count": null,
   "id": "06786610-8663-4821-9466-5db086caa52a",
   "metadata": {},
   "outputs": [],
   "source": [
    "data_file_spec=[\n",
    "    {\"type\": \"bkbit\",\n",
    "     \"path\": \"../data/db_creation_data/mouse_ENSEMBL-10090-98.jsonld\"},\n",
    "    {\"type\": \"bkbit\",\n",
    "     \"path\": \"../data/db_creation_data/human_ENSEMBL-9606-101.jsonld\"},\n",
    "    {\"type\": \"hmba_orthologs\",\n",
    "     \"path\": \"../data/db_creation_data/all_gene_ids.csv\",\n",
    "     \"name\": \"HMBA\",\n",
    "     \"baseline_species\": \"human\"}\n",
    "]\n",
    "\n",
    "error_msg = \"\"\n",
    "for spec in data_file_spec:\n",
    "    pth = pathlib.Path(spec['path'])\n",
    "    if not pth.is_file():\n",
    "        error_msg += f\"{pth} is not a file\\n\"\n",
    "if len(error_msg) > 0:\n",
    "    raise RuntimeError(error_msg)"
   ]
  },
  {
   "cell_type": "markdown",
   "id": "15278a0d-49a3-4942-8d12-dc52e366b70b",
   "metadata": {},
   "source": [
    "Below we instantiate the class that is used to actually do the mapping. The first time you run the cell, it will take ~ 30 minutes as it downloads ~ 4 GB of data from NCBI and ingests that data, alongside the local data from the cell above, to create an ~ 8 GB sqlite database that backs the mapping process.\n",
    "\n",
    "As long as you leave `clobber=False` below, you will not have to recreate that database on subsequent uses.\n",
    "\n",
    "**Note:** running this cell will also produce some warnings about genes that could not be ingested into the ortholog tables. These are due to genes in the ortholog table that have been deprecated by NCBI since the ortholog table (especially our by-hand HMBA ortholog table) was generated, meaning the gene mapper cannot connect them to species. We will have to think about how to handle versioning mismatches of this sort."
   ]
  },
  {
   "cell_type": "code",
   "execution_count": null,
   "id": "50481be7-88a4-45f4-ac83-7415a7112e6c",
   "metadata": {},
   "outputs": [],
   "source": [
    "ensembl_files_spec = [{'type': 'bkbit', 'path': p} for p in ensembl_files_spec]"
   ]
  },
  {
   "cell_type": "code",
   "execution_count": 7,
   "id": "25d1272e-bd2a-4db0-a7a7-8b0cfe4005b6",
   "metadata": {},
   "outputs": [],
   "source": [
    "ensembl_dir = data_dir / 'ensembl_download'\n",
    "assert ensembl_dir.is_dir()\n",
    "ensembl_files_spec = [\n",
    "    {'type': 'bkbit', 'path': p}\n",
    "    for p in ensembl_dir.rglob('**/*jsonld')\n",
    "]"
   ]
  },
  {
   "cell_type": "code",
   "execution_count": 8,
   "id": "a3e3b5e4-6c7d-4314-b9ac-1063e9525870",
   "metadata": {},
   "outputs": [
    {
     "data": {
      "text/plain": [
       "{'type': 'bkbit',\n",
       " 'path': PosixPath('/Users/scott.daniel/KnowledgeEngineering/mmc_gene_mapper/data/ensembl_download/monodelphis_domestica.jsonld')}"
      ]
     },
     "execution_count": 8,
     "metadata": {},
     "output_type": "execute_result"
    }
   ],
   "source": [
    "ensembl_files_spec[0]"
   ]
  },
  {
   "cell_type": "code",
   "execution_count": 9,
   "id": "3123694f-af49-49e9-aa15-8360b10baf2a",
   "metadata": {
    "scrolled": true
   },
   "outputs": [
    {
     "name": "stdout",
     "output_type": "stream",
     "text": [
      "=======CREATING DB FILE=======\n",
      "=======CREATING TABLES=======\n",
      "=======INGESTING GENE INFO=======\n",
      "    chunk 0.00e+00, 5.00e+06\n",
      "    chunk 5.00e+06, 1.00e+07\n",
      "    chunk 1.00e+07, 1.50e+07\n",
      "    chunk 1.50e+07, 2.00e+07\n",
      "    chunk 2.00e+07, 2.50e+07\n",
      "    chunk 2.50e+07, 3.00e+07\n",
      "    chunk 3.00e+07, 3.50e+07\n",
      "    chunk 3.50e+07, 4.00e+07\n",
      "    chunk 4.00e+07, 4.50e+07\n",
      "    chunk 4.50e+07, 5.00e+07\n",
      "    chunk 5.00e+07, 5.50e+07\n",
      "    chunk 5.50e+07, 6.00e+07\n",
      "    chunk 6.00e+07, 6.18e+07\n",
      "=======INGESTING gene_info TOOK 1.59e+00 minutes=======\n",
      "=======INGESTING GENE TO ENSEMBL=======\n",
      "=======INGESTING gene2ensembl TOOK 7.17e-01 minutes=======\n",
      "=======INGESTING ORTHOLOGS=======\n",
      "=======DELETING INDEX tmp_gene_to_species_idx======\n",
      "=======CREATING INDEX tmp_gene_to_species_idx=======\n",
      "=======DELETING INDEX tmp_gene_to_species_idx======\n",
      "gene0 15811231\n",
      "gene1 15811231\n",
      "    GOT GRAPH\n",
      "    group 1 decrement 7.170e+02 of 1.593e+07\n",
      "    group 11 decrement 7.872e+03 of 1.593e+07\n",
      "    group 111 decrement 7.907e+04 of 1.593e+07\n",
      "    group 1121 decrement 7.909e+05 of 1.593e+07\n",
      "    group 12870 decrement 7.909e+06 of 1.593e+07\n",
      "gene_to_ortholog 15934112\n",
      "gene_to_species 15934111\n"
     ]
    },
    {
     "name": "stderr",
     "output_type": "stream",
     "text": [
      "/Users/scott.daniel/KnowledgeEngineering/mmc_gene_mapper/src/mmc_gene_mapper/create_db/ortholog_ingestion.py:383: InvalidOrthologGeneWarning: The following genes had no species assigned to them and were not ingested\n",
      "[3512700]\n",
      "  warnings.warn(warning_msg, category=InvalidOrthologGeneWarning)\n"
     ]
    },
    {
     "name": "stdout",
     "output_type": "stream",
     "text": [
      "inserting 15934111 values with citation 0\n",
      "=======INGESTING gene_orthologs TOOK 2.18e+00 minutes=======\n",
      "=======INGESTING /Users/scott.daniel/KnowledgeEngineering/mmc_gene_mapper/data/ensembl_download/monodelphis_domestica.jsonld=======\n",
      "    INGESTING 34985 GENES\n",
      "=======INGESTING /Users/scott.daniel/KnowledgeEngineering/mmc_gene_mapper/data/ensembl_download/nannospalax_galili.jsonld=======\n",
      "    INGESTING 24636 GENES\n",
      "=======INGESTING /Users/scott.daniel/KnowledgeEngineering/mmc_gene_mapper/data/ensembl_download/ictalurus_punctatus.jsonld=======\n",
      "    INGESTING 39101 GENES\n",
      "=======INGESTING /Users/scott.daniel/KnowledgeEngineering/mmc_gene_mapper/data/ensembl_download/sorex_araneus.jsonld=======\n",
      "    INGESTING 19134 GENES\n",
      "=======INGESTING /Users/scott.daniel/KnowledgeEngineering/mmc_gene_mapper/data/ensembl_download/oncorhynchus_kisutch.jsonld=======\n",
      "    INGESTING 51004 GENES\n",
      "=======INGESTING /Users/scott.daniel/KnowledgeEngineering/mmc_gene_mapper/data/ensembl_download/zalophus_californianus.jsonld=======\n",
      "    INGESTING 25248 GENES\n",
      "=======INGESTING /Users/scott.daniel/KnowledgeEngineering/mmc_gene_mapper/data/ensembl_download/calidris_pygmaea.jsonld=======\n",
      "    INGESTING 18422 GENES\n",
      "=======INGESTING /Users/scott.daniel/KnowledgeEngineering/mmc_gene_mapper/data/ensembl_download/maylandia_zebra.jsonld=======\n",
      "    INGESTING 28622 GENES\n",
      "=======INGESTING /Users/scott.daniel/KnowledgeEngineering/mmc_gene_mapper/data/ensembl_download/serinus_canaria.jsonld=======\n",
      "    INGESTING 17380 GENES\n",
      "=======INGESTING /Users/scott.daniel/KnowledgeEngineering/mmc_gene_mapper/data/ensembl_download/camelus_dromedarius.jsonld=======\n",
      "    INGESTING 22444 GENES\n",
      "=======INGESTING /Users/scott.daniel/KnowledgeEngineering/mmc_gene_mapper/data/ensembl_download/gopherus_agassizii.jsonld=======\n",
      "    INGESTING 24254 GENES\n",
      "=======INGESTING /Users/scott.daniel/KnowledgeEngineering/mmc_gene_mapper/data/ensembl_download/dipodomys_ordii.jsonld=======\n",
      "    INGESTING 20542 GENES\n",
      "=======INGESTING /Users/scott.daniel/KnowledgeEngineering/mmc_gene_mapper/data/ensembl_download/parus_major.jsonld=======\n",
      "    INGESTING 20006 GENES\n",
      "=======INGESTING /Users/scott.daniel/KnowledgeEngineering/mmc_gene_mapper/data/ensembl_download/poecilia_latipinna.jsonld=======\n",
      "    INGESTING 24034 GENES\n",
      "=======INGESTING /Users/scott.daniel/KnowledgeEngineering/mmc_gene_mapper/data/ensembl_download/amphiprion_percula.jsonld=======\n",
      "    INGESTING 24840 GENES\n",
      "=======INGESTING /Users/scott.daniel/KnowledgeEngineering/mmc_gene_mapper/data/ensembl_download/echeneis_naucrates.jsonld=======\n",
      "    INGESTING 22907 GENES\n",
      "=======INGESTING /Users/scott.daniel/KnowledgeEngineering/mmc_gene_mapper/data/ensembl_download/ailuropoda_melanoleuca.jsonld=======\n",
      "    INGESTING 24462 GENES\n",
      "=======INGESTING /Users/scott.daniel/KnowledgeEngineering/mmc_gene_mapper/data/ensembl_download/poecilia_formosa.jsonld=======\n",
      "    INGESTING 24354 GENES\n",
      "=======INGESTING /Users/scott.daniel/KnowledgeEngineering/mmc_gene_mapper/data/ensembl_download/chlorocebus_sabaeus.jsonld=======\n",
      "    INGESTING 27985 GENES\n",
      "=======INGESTING /Users/scott.daniel/KnowledgeEngineering/mmc_gene_mapper/data/ensembl_download/vombatus_ursinus.jsonld=======\n",
      "    INGESTING 25096 GENES\n",
      "=======INGESTING /Users/scott.daniel/KnowledgeEngineering/mmc_gene_mapper/data/ensembl_download/prolemur_simus.jsonld=======\n",
      "    INGESTING 26099 GENES\n",
      "=======INGESTING /Users/scott.daniel/KnowledgeEngineering/mmc_gene_mapper/data/ensembl_download/gouania_willdenowi.jsonld=======\n",
      "    INGESTING 26832 GENES\n",
      "=======INGESTING /Users/scott.daniel/KnowledgeEngineering/mmc_gene_mapper/data/ensembl_download/falco_tinnunculus.jsonld=======\n",
      "    INGESTING 16120 GENES\n",
      "=======INGESTING /Users/scott.daniel/KnowledgeEngineering/mmc_gene_mapper/data/ensembl_download/tursiops_truncatus.jsonld=======\n",
      "    INGESTING 21265 GENES\n",
      "=======INGESTING /Users/scott.daniel/KnowledgeEngineering/mmc_gene_mapper/data/ensembl_download/macaca_fascicularis.jsonld=======\n",
      "    INGESTING 38550 GENES\n",
      "=======INGESTING /Users/scott.daniel/KnowledgeEngineering/mmc_gene_mapper/data/ensembl_download/phascolarctos_cinereus.jsonld=======\n",
      "    INGESTING 25477 GENES\n",
      "=======INGESTING /Users/scott.daniel/KnowledgeEngineering/mmc_gene_mapper/data/ensembl_download/castor_canadensis.jsonld=======\n",
      "    INGESTING 28930 GENES\n",
      "=======INGESTING /Users/scott.daniel/KnowledgeEngineering/mmc_gene_mapper/data/ensembl_download/chrysolophus_pictus.jsonld=======\n",
      "    INGESTING 15011 GENES\n",
      "=======INGESTING /Users/scott.daniel/KnowledgeEngineering/mmc_gene_mapper/data/ensembl_download/acanthochromis_polyacanthus.jsonld=======\n",
      "    INGESTING 24565 GENES\n",
      "=======INGESTING /Users/scott.daniel/KnowledgeEngineering/mmc_gene_mapper/data/ensembl_download/fundulus_heteroclitus.jsonld=======\n",
      "    INGESTING 23469 GENES\n",
      "=======INGESTING /Users/scott.daniel/KnowledgeEngineering/mmc_gene_mapper/data/ensembl_download/myotis_lucifugus.jsonld=======\n",
      "    INGESTING 25849 GENES\n",
      "=======INGESTING /Users/scott.daniel/KnowledgeEngineering/mmc_gene_mapper/data/ensembl_download/amphilophus_citrinellus.jsonld=======\n",
      "    INGESTING 24528 GENES\n",
      "=======INGESTING /Users/scott.daniel/KnowledgeEngineering/mmc_gene_mapper/data/ensembl_download/mola_mola.jsonld=======\n",
      "    INGESTING 21893 GENES\n",
      "=======INGESTING /Users/scott.daniel/KnowledgeEngineering/mmc_gene_mapper/data/ensembl_download/lynx_canadensis.jsonld=======\n",
      "    INGESTING 22832 GENES\n",
      "=======INGESTING /Users/scott.daniel/KnowledgeEngineering/mmc_gene_mapper/data/ensembl_download/anser_brachyrhynchus.jsonld=======\n",
      "    INGESTING 22641 GENES\n",
      "=======INGESTING /Users/scott.daniel/KnowledgeEngineering/mmc_gene_mapper/data/ensembl_download/piliocolobus_tephrosceles.jsonld=======\n",
      "    INGESTING 37643 GENES\n",
      "=======INGESTING /Users/scott.daniel/KnowledgeEngineering/mmc_gene_mapper/data/ensembl_download/pelodiscus_sinensis.jsonld=======\n",
      "    INGESTING 19328 GENES\n",
      "=======INGESTING /Users/scott.daniel/KnowledgeEngineering/mmc_gene_mapper/data/ensembl_download/oreochromis_niloticus.jsonld=======\n",
      "    INGESTING 33437 GENES\n",
      "=======INGESTING /Users/scott.daniel/KnowledgeEngineering/mmc_gene_mapper/data/ensembl_download/bubo_bubo.jsonld=======\n",
      "    INGESTING 14932 GENES\n",
      "=======INGESTING /Users/scott.daniel/KnowledgeEngineering/mmc_gene_mapper/data/ensembl_download/ictidomys_tridecemlineatus.jsonld=======\n",
      "    INGESTING 25201 GENES\n",
      "=======INGESTING /Users/scott.daniel/KnowledgeEngineering/mmc_gene_mapper/data/ensembl_download/junco_hyemalis.jsonld=======\n",
      "    INGESTING 17477 GENES\n",
      "=======INGESTING /Users/scott.daniel/KnowledgeEngineering/mmc_gene_mapper/data/ensembl_download/apteryx_rowi.jsonld=======\n",
      "    INGESTING 18934 GENES\n",
      "=======INGESTING /Users/scott.daniel/KnowledgeEngineering/mmc_gene_mapper/data/ensembl_download/rattus_norvegicus.jsonld=======\n",
      "    INGESTING 43360 GENES\n",
      "=======INGESTING /Users/scott.daniel/KnowledgeEngineering/mmc_gene_mapper/data/ensembl_download/sphenodon_punctatus.jsonld=======\n",
      "    INGESTING 19334 GENES\n",
      "=======INGESTING /Users/scott.daniel/KnowledgeEngineering/mmc_gene_mapper/data/ensembl_download/seriola_dumerili.jsonld=======\n",
      "    INGESTING 23845 GENES\n",
      "=======INGESTING /Users/scott.daniel/KnowledgeEngineering/mmc_gene_mapper/data/ensembl_download/papio_anubis.jsonld=======\n",
      "    INGESTING 33835 GENES\n",
      "=======INGESTING /Users/scott.daniel/KnowledgeEngineering/mmc_gene_mapper/data/ensembl_download/moschus_moschiferus.jsonld=======\n",
      "    INGESTING 24549 GENES\n",
      "=======INGESTING /Users/scott.daniel/KnowledgeEngineering/mmc_gene_mapper/data/ensembl_download/felis_catus.jsonld=======\n",
      "    INGESTING 34450 GENES\n",
      "=======INGESTING /Users/scott.daniel/KnowledgeEngineering/mmc_gene_mapper/data/ensembl_download/rhinopithecus_roxellana.jsonld=======\n",
      "    INGESTING 28883 GENES\n",
      "=======INGESTING /Users/scott.daniel/KnowledgeEngineering/mmc_gene_mapper/data/ensembl_download/mus_caroli.jsonld=======\n",
      "    INGESTING 36772 GENES\n",
      "=======INGESTING /Users/scott.daniel/KnowledgeEngineering/mmc_gene_mapper/data/ensembl_download/parambassis_ranga.jsonld=======\n",
      "    INGESTING 24994 GENES\n",
      "=======INGESTING /Users/scott.daniel/KnowledgeEngineering/mmc_gene_mapper/data/ensembl_download/lepidothrix_coronata.jsonld=======\n",
      "    INGESTING 16536 GENES\n",
      "=======INGESTING /Users/scott.daniel/KnowledgeEngineering/mmc_gene_mapper/data/ensembl_download/hippocampus_comes.jsonld=======\n",
      "    INGESTING 21226 GENES\n",
      "=======INGESTING /Users/scott.daniel/KnowledgeEngineering/mmc_gene_mapper/data/ensembl_download/ursus_americanus.jsonld=======\n",
      "    INGESTING 24647 GENES\n",
      "=======INGESTING /Users/scott.daniel/KnowledgeEngineering/mmc_gene_mapper/data/ensembl_download/cercocebus_atys.jsonld=======\n",
      "    INGESTING 28459 GENES\n",
      "=======INGESTING /Users/scott.daniel/KnowledgeEngineering/mmc_gene_mapper/data/ensembl_download/salmo_salar.jsonld=======\n",
      "    INGESTING 69389 GENES\n",
      "=======INGESTING /Users/scott.daniel/KnowledgeEngineering/mmc_gene_mapper/data/ensembl_download/octodon_degus.jsonld=======\n",
      "    INGESTING 25903 GENES\n",
      "=======INGESTING /Users/scott.daniel/KnowledgeEngineering/mmc_gene_mapper/data/ensembl_download/mus_pahari.jsonld=======\n",
      "    INGESTING 35076 GENES\n",
      "=======INGESTING /Users/scott.daniel/KnowledgeEngineering/mmc_gene_mapper/data/ensembl_download/ciona_intestinalis.jsonld=======\n",
      "    INGESTING 17153 GENES\n",
      "=======INGESTING /Users/scott.daniel/KnowledgeEngineering/mmc_gene_mapper/data/ensembl_download/microcebus_murinus.jsonld=======\n",
      "    INGESTING 26798 GENES\n",
      "=======INGESTING /Users/scott.daniel/KnowledgeEngineering/mmc_gene_mapper/data/ensembl_download/propithecus_coquereli.jsonld=======\n",
      "    INGESTING 23635 GENES\n",
      "=======INGESTING /Users/scott.daniel/KnowledgeEngineering/mmc_gene_mapper/data/ensembl_download/balaenoptera_musculus.jsonld=======\n",
      "    INGESTING 22591 GENES\n",
      "=======INGESTING /Users/scott.daniel/KnowledgeEngineering/mmc_gene_mapper/data/ensembl_download/apteryx_haastii.jsonld=======\n",
      "    INGESTING 19261 GENES\n",
      "=======INGESTING /Users/scott.daniel/KnowledgeEngineering/mmc_gene_mapper/data/ensembl_download/astyanax_mexicanus.jsonld=======\n",
      "    INGESTING 27420 GENES\n",
      "=======INGESTING /Users/scott.daniel/KnowledgeEngineering/mmc_gene_mapper/data/ensembl_download/mus_spicilegus.jsonld=======\n",
      "    INGESTING 30872 GENES\n",
      "=======INGESTING /Users/scott.daniel/KnowledgeEngineering/mmc_gene_mapper/data/ensembl_download/melopsittacus_undulatus.jsonld=======\n",
      "    INGESTING 17490 GENES\n",
      "=======INGESTING /Users/scott.daniel/KnowledgeEngineering/mmc_gene_mapper/data/ensembl_download/apteryx_owenii.jsonld=======\n",
      "    INGESTING 18894 GENES\n",
      "=======INGESTING /Users/scott.daniel/KnowledgeEngineering/mmc_gene_mapper/data/ensembl_download/cyprinodon_variegatus.jsonld=======\n",
      "    INGESTING 23458 GENES\n",
      "=======INGESTING /Users/scott.daniel/KnowledgeEngineering/mmc_gene_mapper/data/ensembl_download/ornithorhynchus_anatinus.jsonld=======\n",
      "    INGESTING 26272 GENES\n",
      "=======INGESTING /Users/scott.daniel/KnowledgeEngineering/mmc_gene_mapper/data/ensembl_download/denticeps_clupeoides.jsonld=======\n",
      "    INGESTING 34549 GENES\n",
      "=======INGESTING /Users/scott.daniel/KnowledgeEngineering/mmc_gene_mapper/data/ensembl_download/tupaia_belangeri.jsonld=======\n",
      "    INGESTING 20857 GENES\n",
      "=======INGESTING /Users/scott.daniel/KnowledgeEngineering/mmc_gene_mapper/data/ensembl_download/cynoglossus_semilaevis.jsonld=======\n",
      "    INGESTING 21811 GENES\n",
      "=======INGESTING /Users/scott.daniel/KnowledgeEngineering/mmc_gene_mapper/data/ensembl_download/pan_troglodytes.jsonld=======\n",
      "    INGESTING 33729 GENES\n",
      "=======INGESTING /Users/scott.daniel/KnowledgeEngineering/mmc_gene_mapper/data/ensembl_download/esox_lucius.jsonld=======\n",
      "    INGESTING 30964 GENES\n",
      "=======INGESTING /Users/scott.daniel/KnowledgeEngineering/mmc_gene_mapper/data/ensembl_download/cebus_imitator.jsonld=======\n",
      "    INGESTING 27988 GENES\n",
      "=======INGESTING /Users/scott.daniel/KnowledgeEngineering/mmc_gene_mapper/data/ensembl_download/oncorhynchus_tshawytscha.jsonld=======\n",
      "    INGESTING 58843 GENES\n",
      "=======INGESTING /Users/scott.daniel/KnowledgeEngineering/mmc_gene_mapper/data/ensembl_download/anas_zonorhyncha.jsonld=======\n",
      "    INGESTING 19368 GENES\n",
      "=======INGESTING /Users/scott.daniel/KnowledgeEngineering/mmc_gene_mapper/data/ensembl_download/rhinopithecus_bieti.jsonld=======\n",
      "    INGESTING 29905 GENES\n",
      "=======INGESTING /Users/scott.daniel/KnowledgeEngineering/mmc_gene_mapper/data/ensembl_download/larimichthys_crocea.jsonld=======\n",
      "    INGESTING 23958 GENES\n",
      "=======INGESTING /Users/scott.daniel/KnowledgeEngineering/mmc_gene_mapper/data/ensembl_download/pongo_abelii.jsonld=======\n",
      "    INGESTING 31285 GENES\n",
      "=======INGESTING /Users/scott.daniel/KnowledgeEngineering/mmc_gene_mapper/data/ensembl_download/tetraodon_nigroviridis.jsonld=======\n",
      "    INGESTING 20562 GENES\n",
      "=======INGESTING /Users/scott.daniel/KnowledgeEngineering/mmc_gene_mapper/data/ensembl_download/choloepus_hoffmanni.jsonld=======\n",
      "    INGESTING 16060 GENES\n",
      "=======INGESTING /Users/scott.daniel/KnowledgeEngineering/mmc_gene_mapper/data/ensembl_download/callithrix_jacchus.jsonld=======\n",
      "    INGESTING 40188 GENES\n",
      "=======INGESTING /Users/scott.daniel/KnowledgeEngineering/mmc_gene_mapper/data/ensembl_download/podarcis_muralis.jsonld=======\n",
      "    INGESTING 23942 GENES\n",
      "=======INGESTING /Users/scott.daniel/KnowledgeEngineering/mmc_gene_mapper/data/ensembl_download/clupea_harengus.jsonld=======\n",
      "    INGESTING 32460 GENES\n",
      "=======INGESTING /Users/scott.daniel/KnowledgeEngineering/mmc_gene_mapper/data/ensembl_download/salvator_merianae.jsonld=======\n",
      "    INGESTING 23693 GENES\n",
      "=======INGESTING /Users/scott.daniel/KnowledgeEngineering/mmc_gene_mapper/data/ensembl_download/aotus_nancymaae.jsonld=======\n",
      "    INGESTING 28962 GENES\n",
      "=======INGESTING /Users/scott.daniel/KnowledgeEngineering/mmc_gene_mapper/data/ensembl_download/ovis_aries.jsonld=======\n",
      "    INGESTING 27054 GENES\n",
      "=======INGESTING /Users/scott.daniel/KnowledgeEngineering/mmc_gene_mapper/data/ensembl_download/macaca_nemestrina.jsonld=======\n",
      "    INGESTING 28865 GENES\n",
      "=======INGESTING /Users/scott.daniel/KnowledgeEngineering/mmc_gene_mapper/data/ensembl_download/phocoena_sinus.jsonld=======\n",
      "    INGESTING 22721 GENES\n",
      "=======INGESTING /Users/scott.daniel/KnowledgeEngineering/mmc_gene_mapper/data/ensembl_download/haplochromis_burtoni.jsonld=======\n",
      "    INGESTING 23883 GENES\n",
      "=======INGESTING /Users/scott.daniel/KnowledgeEngineering/mmc_gene_mapper/data/ensembl_download/xiphophorus_couchianus.jsonld=======\n",
      "    INGESTING 20910 GENES\n",
      "=======INGESTING /Users/scott.daniel/KnowledgeEngineering/mmc_gene_mapper/data/ensembl_download/anas_platyrhynchos_platyrhynchos.jsonld=======\n",
      "    INGESTING 25952 GENES\n",
      "=======INGESTING /Users/scott.daniel/KnowledgeEngineering/mmc_gene_mapper/data/ensembl_download/canis_lupus_dingo.jsonld=======\n",
      "    INGESTING 26557 GENES\n",
      "=======INGESTING /Users/scott.daniel/KnowledgeEngineering/mmc_gene_mapper/data/ensembl_download/notechis_scutatus.jsonld=======\n",
      "    INGESTING 20639 GENES\n",
      "=======INGESTING /Users/scott.daniel/KnowledgeEngineering/mmc_gene_mapper/data/ensembl_download/carlito_syrichta.jsonld=======\n",
      "    INGESTING 24921 GENES\n",
      "=======INGESTING /Users/scott.daniel/KnowledgeEngineering/mmc_gene_mapper/data/ensembl_download/oryzias_latipes.jsonld=======\n",
      "    INGESTING 24365 GENES\n",
      "=======INGESTING /Users/scott.daniel/KnowledgeEngineering/mmc_gene_mapper/data/ensembl_download/eptatretus_burgeri.jsonld=======\n",
      "    INGESTING 17246 GENES\n",
      "=======INGESTING /Users/scott.daniel/KnowledgeEngineering/mmc_gene_mapper/data/ensembl_download/canis_lupus_familiaris.jsonld=======\n",
      "    INGESTING 31121 GENES\n",
      "=======INGESTING /Users/scott.daniel/KnowledgeEngineering/mmc_gene_mapper/data/ensembl_download/erpetoichthys_calabaricus.jsonld=======\n",
      "    INGESTING 23066 GENES\n",
      "=======INGESTING /Users/scott.daniel/KnowledgeEngineering/mmc_gene_mapper/data/ensembl_download/bos_taurus.jsonld=======\n",
      "    INGESTING 38001 GENES\n",
      "=======INGESTING /Users/scott.daniel/KnowledgeEngineering/mmc_gene_mapper/data/ensembl_download/peromyscus_maniculatus_bairdii.jsonld=======\n",
      "    INGESTING 25394 GENES\n",
      "=======INGESTING /Users/scott.daniel/KnowledgeEngineering/mmc_gene_mapper/data/ensembl_download/catagonus_wagneri.jsonld=======\n",
      "    INGESTING 22081 GENES\n",
      "=======INGESTING /Users/scott.daniel/KnowledgeEngineering/mmc_gene_mapper/data/ensembl_download/gallus_gallus.jsonld=======\n",
      "    INGESTING 30108 GENES\n",
      "=======INGESTING /Users/scott.daniel/KnowledgeEngineering/mmc_gene_mapper/data/ensembl_download/cavia_aperea.jsonld=======\n",
      "    INGESTING 18030 GENES\n",
      "=======INGESTING /Users/scott.daniel/KnowledgeEngineering/mmc_gene_mapper/data/ensembl_download/otus_sunia.jsonld=======\n",
      "    INGESTING 16371 GENES\n",
      "=======INGESTING /Users/scott.daniel/KnowledgeEngineering/mmc_gene_mapper/data/ensembl_download/danio_rerio.jsonld=======\n",
      "    INGESTING 32520 GENES\n",
      "=======INGESTING /Users/scott.daniel/KnowledgeEngineering/mmc_gene_mapper/data/ensembl_download/saimiri_boliviensis_boliviensis.jsonld=======\n",
      "    INGESTING 27502 GENES\n",
      "=======INGESTING /Users/scott.daniel/KnowledgeEngineering/mmc_gene_mapper/data/ensembl_download/callorhinchus_milii.jsonld=======\n",
      "    INGESTING 20084 GENES\n",
      "=======INGESTING /Users/scott.daniel/KnowledgeEngineering/mmc_gene_mapper/data/ensembl_download/ciona_savignyi.jsonld=======\n",
      "    INGESTING 12172 GENES\n",
      "=======INGESTING /Users/scott.daniel/KnowledgeEngineering/mmc_gene_mapper/data/ensembl_download/suricata_suricatta.jsonld=======\n",
      "    INGESTING 23793 GENES\n",
      "=======INGESTING /Users/scott.daniel/KnowledgeEngineering/mmc_gene_mapper/data/ensembl_download/capra_hircus.jsonld=======\n",
      "    INGESTING 27271 GENES\n",
      "=======INGESTING /Users/scott.daniel/KnowledgeEngineering/mmc_gene_mapper/data/ensembl_download/loxodonta_africana.jsonld=======\n",
      "    INGESTING 23245 GENES\n",
      "=======INGESTING /Users/scott.daniel/KnowledgeEngineering/mmc_gene_mapper/data/ensembl_download/labrus_bergylta.jsonld=======\n",
      "    INGESTING 29087 GENES\n",
      "=======INGESTING /Users/scott.daniel/KnowledgeEngineering/mmc_gene_mapper/data/ensembl_download/betta_splendens.jsonld=======\n",
      "    INGESTING 26727 GENES\n",
      "=======INGESTING /Users/scott.daniel/KnowledgeEngineering/mmc_gene_mapper/data/ensembl_download/corvus_moneduloides.jsonld=======\n",
      "    INGESTING 17237 GENES\n",
      "=======INGESTING /Users/scott.daniel/KnowledgeEngineering/mmc_gene_mapper/data/ensembl_download/xiphophorus_maculatus.jsonld=======\n",
      "    INGESTING 24209 GENES\n",
      "=======INGESTING /Users/scott.daniel/KnowledgeEngineering/mmc_gene_mapper/data/ensembl_download/carassius_auratus.jsonld=======\n",
      "    INGESTING 62131 GENES\n",
      "=======INGESTING /Users/scott.daniel/KnowledgeEngineering/mmc_gene_mapper/data/ensembl_download/mus_musculus.jsonld=======\n",
      "    INGESTING 55421 GENES\n",
      "=======INGESTING /Users/scott.daniel/KnowledgeEngineering/mmc_gene_mapper/data/ensembl_download/strigops_habroptila.jsonld=======\n",
      "    INGESTING 20192 GENES\n",
      "=======INGESTING /Users/scott.daniel/KnowledgeEngineering/mmc_gene_mapper/data/ensembl_download/takifugu_rubripes.jsonld=======\n",
      "    INGESTING 24406 GENES\n",
      "=======INGESTING /Users/scott.daniel/KnowledgeEngineering/mmc_gene_mapper/data/ensembl_download/drosophila_melanogaster.jsonld=======\n",
      "    INGESTING 17873 GENES\n",
      "=======INGESTING /Users/scott.daniel/KnowledgeEngineering/mmc_gene_mapper/data/ensembl_download/oncorhynchus_mykiss.jsonld=======\n",
      "    INGESTING 64494 GENES\n",
      "=======INGESTING /Users/scott.daniel/KnowledgeEngineering/mmc_gene_mapper/data/ensembl_download/lepisosteus_oculatus.jsonld=======\n",
      "    INGESTING 23315 GENES\n",
      "=======INGESTING /Users/scott.daniel/KnowledgeEngineering/mmc_gene_mapper/data/ensembl_download/jaculus_jaculus.jsonld=======\n",
      "    INGESTING 24433 GENES\n",
      "=======INGESTING /Users/scott.daniel/KnowledgeEngineering/mmc_gene_mapper/data/ensembl_download/mesocricetus_auratus.jsonld=======\n",
      "    INGESTING 22283 GENES\n",
      "=======INGESTING /Users/scott.daniel/KnowledgeEngineering/mmc_gene_mapper/data/ensembl_download/pogona_vitticeps.jsonld=======\n",
      "    INGESTING 25723 GENES\n",
      "=======INGESTING /Users/scott.daniel/KnowledgeEngineering/mmc_gene_mapper/data/ensembl_download/sus_scrofa.jsonld=======\n",
      "    INGESTING 35682 GENES\n",
      "=======INGESTING /Users/scott.daniel/KnowledgeEngineering/mmc_gene_mapper/data/ensembl_download/dasypus_novemcinctus.jsonld=======\n",
      "    INGESTING 33374 GENES\n",
      "=======INGESTING /Users/scott.daniel/KnowledgeEngineering/mmc_gene_mapper/data/ensembl_download/panthera_leo.jsonld=======\n",
      "    INGESTING 22743 GENES\n",
      "=======INGESTING /Users/scott.daniel/KnowledgeEngineering/mmc_gene_mapper/data/ensembl_download/oryzias_javanicus.jsonld=======\n",
      "    INGESTING 24179 GENES\n",
      "=======INGESTING /Users/scott.daniel/KnowledgeEngineering/mmc_gene_mapper/data/ensembl_download/latimeria_chalumnae.jsonld=======\n",
      "    INGESTING 22628 GENES\n",
      "=======INGESTING /Users/scott.daniel/KnowledgeEngineering/mmc_gene_mapper/data/ensembl_download/cervus_hanglu_yarkandensis.jsonld=======\n",
      "    INGESTING 27228 GENES\n",
      "=======INGESTING /Users/scott.daniel/KnowledgeEngineering/mmc_gene_mapper/data/ensembl_download/pan_paniscus.jsonld=======\n",
      "    INGESTING 30258 GENES\n",
      "=======INGESTING /Users/scott.daniel/KnowledgeEngineering/mmc_gene_mapper/data/ensembl_download/pygocentrus_nattereri.jsonld=======\n",
      "    INGESTING 27760 GENES\n",
      "=======INGESTING /Users/scott.daniel/KnowledgeEngineering/mmc_gene_mapper/data/ensembl_download/salmo_trutta.jsonld=======\n",
      "    INGESTING 48957 GENES\n",
      "=======INGESTING /Users/scott.daniel/KnowledgeEngineering/mmc_gene_mapper/data/ensembl_download/nothobranchius_furzeri.jsonld=======\n",
      "    INGESTING 25475 GENES\n",
      "=======INGESTING /Users/scott.daniel/KnowledgeEngineering/mmc_gene_mapper/data/ensembl_download/dicentrarchus_labrax.jsonld=======\n",
      "    INGESTING 24969 GENES\n",
      "=======INGESTING /Users/scott.daniel/KnowledgeEngineering/mmc_gene_mapper/data/ensembl_download/homo_sapiens.jsonld=======\n",
      "    INGESTING 60671 GENES\n",
      "=======INGESTING /Users/scott.daniel/KnowledgeEngineering/mmc_gene_mapper/data/ensembl_download/anas_platyrhynchos.jsonld=======\n",
      "    INGESTING 18490 GENES\n",
      "=======INGESTING /Users/scott.daniel/KnowledgeEngineering/mmc_gene_mapper/data/ensembl_download/chinchilla_lanigera.jsonld=======\n",
      "    INGESTING 29261 GENES\n",
      "=======INGESTING /Users/scott.daniel/KnowledgeEngineering/mmc_gene_mapper/data/ensembl_download/zonotrichia_albicollis.jsonld=======\n",
      "    INGESTING 18252 GENES\n",
      "=======INGESTING /Users/scott.daniel/KnowledgeEngineering/mmc_gene_mapper/data/ensembl_download/urocitellus_parryii.jsonld=======\n",
      "    INGESTING 23515 GENES\n",
      "=======INGESTING /Users/scott.daniel/KnowledgeEngineering/mmc_gene_mapper/data/ensembl_download/stegastes_partitus.jsonld=======\n",
      "    INGESTING 23593 GENES\n",
      "=======INGESTING /Users/scott.daniel/KnowledgeEngineering/mmc_gene_mapper/data/ensembl_download/sphaeramia_orbicularis.jsonld=======\n",
      "    INGESTING 25884 GENES\n",
      "=======INGESTING /Users/scott.daniel/KnowledgeEngineering/mmc_gene_mapper/data/ensembl_download/panthera_tigris_altaica.jsonld=======\n",
      "    INGESTING 22119 GENES\n",
      "=======INGESTING /Users/scott.daniel/KnowledgeEngineering/mmc_gene_mapper/data/ensembl_download/notamacropus_eugenii.jsonld=======\n",
      "    INGESTING 18258 GENES\n",
      "=======INGESTING /Users/scott.daniel/KnowledgeEngineering/mmc_gene_mapper/data/ensembl_download/anser_cygnoides.jsonld=======\n",
      "    INGESTING 19448 GENES\n",
      "=======INGESTING /Users/scott.daniel/KnowledgeEngineering/mmc_gene_mapper/data/ensembl_download/anabas_testudineus.jsonld=======\n",
      "    INGESTING 26037 GENES\n",
      "=======INGESTING /Users/scott.daniel/KnowledgeEngineering/mmc_gene_mapper/data/ensembl_download/echinops_telfairi.jsonld=======\n",
      "    INGESTING 26079 GENES\n",
      "=======INGESTING /Users/scott.daniel/KnowledgeEngineering/mmc_gene_mapper/data/ensembl_download/marmota_marmota_marmota.jsonld=======\n",
      "    INGESTING 24024 GENES\n",
      "=======INGESTING /Users/scott.daniel/KnowledgeEngineering/mmc_gene_mapper/data/ensembl_download/anolis_carolinensis.jsonld=======\n",
      "    INGESTING 26479 GENES\n",
      "=======INGESTING /Users/scott.daniel/KnowledgeEngineering/mmc_gene_mapper/data/ensembl_download/vulpes_vulpes.jsonld=======\n",
      "    INGESTING 29258 GENES\n",
      "=======INGESTING /Users/scott.daniel/KnowledgeEngineering/mmc_gene_mapper/data/ensembl_download/electrophorus_electricus.jsonld=======\n",
      "    INGESTING 23964 GENES\n",
      "=======INGESTING /Users/scott.daniel/KnowledgeEngineering/mmc_gene_mapper/data/ensembl_download/ursus_maritimus.jsonld=======\n",
      "    INGESTING 24345 GENES\n",
      "=======INGESTING /Users/scott.daniel/KnowledgeEngineering/mmc_gene_mapper/data/ensembl_download/mastacembelus_armatus.jsonld=======\n",
      "    INGESTING 23389 GENES\n",
      "=======INGESTING /Users/scott.daniel/KnowledgeEngineering/mmc_gene_mapper/data/ensembl_download/scophthalmus_maximus.jsonld=======\n",
      "    INGESTING 34453 GENES\n",
      "=======INGESTING /Users/scott.daniel/KnowledgeEngineering/mmc_gene_mapper/data/ensembl_download/chrysemys_picta_bellii.jsonld=======\n",
      "    INGESTING 26817 GENES\n",
      "=======INGESTING /Users/scott.daniel/KnowledgeEngineering/mmc_gene_mapper/data/ensembl_download/calidris_pugnax.jsonld=======\n",
      "    INGESTING 20052 GENES\n",
      "=======INGESTING /Users/scott.daniel/KnowledgeEngineering/mmc_gene_mapper/data/ensembl_download/myripristis_murdjan.jsonld=======\n",
      "    INGESTING 25071 GENES\n",
      "=======INGESTING /Users/scott.daniel/KnowledgeEngineering/mmc_gene_mapper/data/ensembl_download/bos_mutus.jsonld=======\n",
      "    INGESTING 25772 GENES\n",
      "=======INGESTING /Users/scott.daniel/KnowledgeEngineering/mmc_gene_mapper/data/ensembl_download/amazona_collaria.jsonld=======\n",
      "    INGESTING 17423 GENES\n",
      "=======INGESTING /Users/scott.daniel/KnowledgeEngineering/mmc_gene_mapper/data/ensembl_download/naja_naja.jsonld=======\n",
      "    INGESTING 19194 GENES\n",
      "=======INGESTING /Users/scott.daniel/KnowledgeEngineering/mmc_gene_mapper/data/ensembl_download/salarias_fasciatus.jsonld=======\n",
      "    INGESTING 26821 GENES\n",
      "=======INGESTING /Users/scott.daniel/KnowledgeEngineering/mmc_gene_mapper/data/ensembl_download/scleropages_formosus.jsonld=======\n",
      "    INGESTING 27252 GENES\n",
      "=======INGESTING /Users/scott.daniel/KnowledgeEngineering/mmc_gene_mapper/data/ensembl_download/laticauda_laticaudata.jsonld=======\n",
      "    INGESTING 18448 GENES\n",
      "=======INGESTING /Users/scott.daniel/KnowledgeEngineering/mmc_gene_mapper/data/ensembl_download/delphinapterus_leucas.jsonld=======\n",
      "    INGESTING 21995 GENES\n",
      "=======INGESTING /Users/scott.daniel/KnowledgeEngineering/mmc_gene_mapper/data/ensembl_download/erinaceus_europaeus.jsonld=======\n",
      "    INGESTING 22448 GENES\n",
      "=======INGESTING /Users/scott.daniel/KnowledgeEngineering/mmc_gene_mapper/data/ensembl_download/chelydra_serpentina.jsonld=======\n",
      "    INGESTING 21573 GENES\n",
      "=======INGESTING /Users/scott.daniel/KnowledgeEngineering/mmc_gene_mapper/data/ensembl_download/mandrillus_leucophaeus.jsonld=======\n",
      "    INGESTING 27703 GENES\n",
      "=======INGESTING /Users/scott.daniel/KnowledgeEngineering/mmc_gene_mapper/data/ensembl_download/spermophilus_dauricus.jsonld=======\n",
      "    INGESTING 24995 GENES\n",
      "=======INGESTING /Users/scott.daniel/KnowledgeEngineering/mmc_gene_mapper/data/ensembl_download/gadus_morhua.jsonld=======\n",
      "    INGESTING 29063 GENES\n",
      "=======INGESTING /Users/scott.daniel/KnowledgeEngineering/mmc_gene_mapper/data/ensembl_download/astatotilapia_calliptera.jsonld=======\n",
      "    INGESTING 33341 GENES\n",
      "=======INGESTING /Users/scott.daniel/KnowledgeEngineering/mmc_gene_mapper/data/ensembl_download/mus_spretus.jsonld=======\n",
      "    INGESTING 52457 GENES\n",
      "=======INGESTING /Users/scott.daniel/KnowledgeEngineering/mmc_gene_mapper/data/ensembl_download/neogobius_melanostomus.jsonld=======\n",
      "    INGESTING 27223 GENES\n",
      "=======INGESTING /Users/scott.daniel/KnowledgeEngineering/mmc_gene_mapper/data/ensembl_download/macaca_mulatta.jsonld=======\n",
      "    INGESTING 35432 GENES\n",
      "=======INGESTING /Users/scott.daniel/KnowledgeEngineering/mmc_gene_mapper/data/ensembl_download/coturnix_japonica.jsonld=======\n",
      "    INGESTING 21561 GENES\n",
      "=======INGESTING /Users/scott.daniel/KnowledgeEngineering/mmc_gene_mapper/data/ensembl_download/pteropus_vampyrus.jsonld=======\n",
      "    INGESTING 22194 GENES\n",
      "=======INGESTING /Users/scott.daniel/KnowledgeEngineering/mmc_gene_mapper/data/ensembl_download/lates_calcarifer.jsonld=======\n",
      "    INGESTING 26761 GENES\n",
      "=======INGESTING /Users/scott.daniel/KnowledgeEngineering/mmc_gene_mapper/data/ensembl_download/xenopus_tropicalis.jsonld=======\n",
      "    INGESTING 24614 GENES\n",
      "=======INGESTING /Users/scott.daniel/KnowledgeEngineering/mmc_gene_mapper/data/ensembl_download/poecilia_reticulata.jsonld=======\n",
      "    INGESTING 23254 GENES\n",
      "=======INGESTING /Users/scott.daniel/KnowledgeEngineering/mmc_gene_mapper/data/ensembl_download/theropithecus_gelada.jsonld=======\n",
      "    INGESTING 29371 GENES\n",
      "=======INGESTING /Users/scott.daniel/KnowledgeEngineering/mmc_gene_mapper/data/ensembl_download/ficedula_albicollis.jsonld=======\n",
      "    INGESTING 17798 GENES\n",
      "=======INGESTING /Users/scott.daniel/KnowledgeEngineering/mmc_gene_mapper/data/ensembl_download/gorilla_gorilla.jsonld=======\n",
      "    INGESTING 30084 GENES\n",
      "=======INGESTING /Users/scott.daniel/KnowledgeEngineering/mmc_gene_mapper/data/ensembl_download/cyclopterus_lumpus.jsonld=======\n",
      "    INGESTING 23152 GENES\n",
      "=======INGESTING /Users/scott.daniel/KnowledgeEngineering/mmc_gene_mapper/data/ensembl_download/mustela_putorius_furo.jsonld=======\n",
      "    INGESTING 32057 GENES\n",
      "=======INGESTING /Users/scott.daniel/KnowledgeEngineering/mmc_gene_mapper/data/ensembl_download/vicugna_pacos.jsonld=======\n",
      "    INGESTING 15195 GENES\n",
      "=======INGESTING /Users/scott.daniel/KnowledgeEngineering/mmc_gene_mapper/data/ensembl_download/oryzias_sinensis.jsonld=======\n",
      "    INGESTING 24022 GENES\n",
      "=======INGESTING /Users/scott.daniel/KnowledgeEngineering/mmc_gene_mapper/data/ensembl_download/monodon_monoceros.jsonld=======\n",
      "    INGESTING 22119 GENES\n",
      "=======INGESTING /Users/scott.daniel/KnowledgeEngineering/mmc_gene_mapper/data/ensembl_download/athene_cunicularia.jsonld=======\n",
      "    INGESTING 15049 GENES\n",
      "=======INGESTING /Users/scott.daniel/KnowledgeEngineering/mmc_gene_mapper/data/ensembl_download/amphiprion_ocellaris.jsonld=======\n",
      "    INGESTING 26470 GENES\n",
      "=======INGESTING /Users/scott.daniel/KnowledgeEngineering/mmc_gene_mapper/data/ensembl_download/petromyzon_marinus.jsonld=======\n",
      "    INGESTING 13114 GENES\n",
      "=======INGESTING /Users/scott.daniel/KnowledgeEngineering/mmc_gene_mapper/data/ensembl_download/cyanistes_caeruleus.jsonld=======\n",
      "    INGESTING 24509 GENES\n",
      "=======INGESTING /Users/scott.daniel/KnowledgeEngineering/mmc_gene_mapper/data/ensembl_download/crocodylus_porosus.jsonld=======\n",
      "    INGESTING 19207 GENES\n",
      "=======INGESTING /Users/scott.daniel/KnowledgeEngineering/mmc_gene_mapper/data/ensembl_download/oryctolagus_cuniculus.jsonld=======\n",
      "    INGESTING 29587 GENES\n",
      "=======INGESTING /Users/scott.daniel/KnowledgeEngineering/mmc_gene_mapper/data/ensembl_download/equus_asinus.jsonld=======\n",
      "    INGESTING 31304 GENES\n",
      "=======INGESTING /Users/scott.daniel/KnowledgeEngineering/mmc_gene_mapper/data/ensembl_download/rhinolophus_ferrumequinum.jsonld=======\n",
      "    INGESTING 22172 GENES\n",
      "=======INGESTING /Users/scott.daniel/KnowledgeEngineering/mmc_gene_mapper/data/ensembl_download/sarcophilus_harrisii.jsonld=======\n",
      "    INGESTING 23829 GENES\n",
      "=======INGESTING /Users/scott.daniel/KnowledgeEngineering/mmc_gene_mapper/data/ensembl_download/monopterus_albus.jsonld=======\n",
      "    INGESTING 22708 GENES\n",
      "=======INGESTING /Users/scott.daniel/KnowledgeEngineering/mmc_gene_mapper/data/ensembl_download/microtus_ochrogaster.jsonld=======\n",
      "    INGESTING 23038 GENES\n",
      "=======INGESTING /Users/scott.daniel/KnowledgeEngineering/mmc_gene_mapper/data/ensembl_download/sander_lucioperca.jsonld=======\n",
      "    INGESTING 26118 GENES\n",
      "=======INGESTING /Users/scott.daniel/KnowledgeEngineering/mmc_gene_mapper/data/ensembl_download/nomascus_leucogenys.jsonld=======\n",
      "    INGESTING 27826 GENES\n",
      "=======INGESTING /Users/scott.daniel/KnowledgeEngineering/mmc_gene_mapper/data/ensembl_download/sciurus_vulgaris.jsonld=======\n",
      "    INGESTING 26017 GENES\n",
      "=======INGESTING /Users/scott.daniel/KnowledgeEngineering/mmc_gene_mapper/data/ensembl_download/leptobrachium_leishanense.jsonld=======\n",
      "    INGESTING 31056 GENES\n",
      "=======INGESTING /Users/scott.daniel/KnowledgeEngineering/mmc_gene_mapper/data/ensembl_download/hucho_hucho.jsonld=======\n",
      "    INGESTING 52940 GENES\n",
      "=======INGESTING /Users/scott.daniel/KnowledgeEngineering/mmc_gene_mapper/data/ensembl_download/gasterosteus_aculeatus.jsonld=======\n",
      "    INGESTING 30416 GENES\n",
      "=======INGESTING /Users/scott.daniel/KnowledgeEngineering/mmc_gene_mapper/data/ensembl_download/dromaius_novaehollandiae.jsonld=======\n",
      "    INGESTING 19242 GENES\n",
      "=======INGESTING /Users/scott.daniel/KnowledgeEngineering/mmc_gene_mapper/data/ensembl_download/chelonoidis_abingdonii.jsonld=======\n",
      "    INGESTING 23209 GENES\n",
      "=======INGESTING /Users/scott.daniel/KnowledgeEngineering/mmc_gene_mapper/data/ensembl_download/geospiza_fortis.jsonld=======\n",
      "    INGESTING 14850 GENES\n",
      "=======INGESTING /Users/scott.daniel/KnowledgeEngineering/mmc_gene_mapper/data/ensembl_download/catharus_ustulatus.jsonld=======\n",
      "    INGESTING 17703 GENES\n",
      "=======INGESTING /Users/scott.daniel/KnowledgeEngineering/mmc_gene_mapper/data/ensembl_download/kryptolebias_marmoratus.jsonld=======\n",
      "    INGESTING 22314 GENES\n",
      "=======INGESTING /Users/scott.daniel/KnowledgeEngineering/mmc_gene_mapper/data/ensembl_download/meriones_unguiculatus.jsonld=======\n",
      "    INGESTING 25745 GENES\n",
      "=======INGESTING /Users/scott.daniel/KnowledgeEngineering/mmc_gene_mapper/data/ensembl_download/gambusia_affinis.jsonld=======\n",
      "    INGESTING 22057 GENES\n",
      "=======INGESTING /Users/scott.daniel/KnowledgeEngineering/mmc_gene_mapper/data/ensembl_download/equus_caballus.jsonld=======\n",
      "    INGESTING 38849 GENES\n",
      "=======INGESTING /Users/scott.daniel/KnowledgeEngineering/mmc_gene_mapper/data/ensembl_download/pavo_cristatus.jsonld=======\n",
      "    INGESTING 19406 GENES\n",
      "=======INGESTING /Users/scott.daniel/KnowledgeEngineering/mmc_gene_mapper/data/ensembl_download/sparus_aurata.jsonld=======\n",
      "    INGESTING 27714 GENES\n",
      "=======INGESTING /Users/scott.daniel/KnowledgeEngineering/mmc_gene_mapper/data/ensembl_download/procavia_capensis.jsonld=======\n",
      "    INGESTING 18897 GENES\n",
      "=======INGESTING /Users/scott.daniel/KnowledgeEngineering/mmc_gene_mapper/data/ensembl_download/accipiter_nisus.jsonld=======\n",
      "    INGESTING 18087 GENES\n",
      "=======INGESTING /Users/scott.daniel/KnowledgeEngineering/mmc_gene_mapper/data/ensembl_download/panthera_pardus.jsonld=======\n",
      "    INGESTING 25093 GENES\n",
      "=======INGESTING /Users/scott.daniel/KnowledgeEngineering/mmc_gene_mapper/data/ensembl_download/bos_grunniens.jsonld=======\n",
      "    INGESTING 26924 GENES\n",
      "=======INGESTING /Users/scott.daniel/KnowledgeEngineering/mmc_gene_mapper/data/ensembl_download/otolemur_garnettii.jsonld=======\n",
      "    INGESTING 28085 GENES\n",
      "=======INGESTING /Users/scott.daniel/KnowledgeEngineering/mmc_gene_mapper/data/ensembl_download/saccharomyces_cerevisiae.jsonld=======\n",
      "    INGESTING 279 GENES\n",
      "=======INGESTING /Users/scott.daniel/KnowledgeEngineering/mmc_gene_mapper/data/ensembl_download/manacus_vitellinus.jsonld=======\n",
      "    INGESTING 18621 GENES\n",
      "=======INGESTING /Users/scott.daniel/KnowledgeEngineering/mmc_gene_mapper/data/ensembl_download/taeniopygia_guttata.jsonld=======\n",
      "    INGESTING 22150 GENES\n",
      "=======INGESTING /Users/scott.daniel/KnowledgeEngineering/mmc_gene_mapper/data/ensembl_download/numida_meleagris.jsonld=======\n",
      "    INGESTING 23257 GENES\n",
      "=======INGESTING /Users/scott.daniel/KnowledgeEngineering/mmc_gene_mapper/data/ensembl_download/strix_occidentalis_caurina.jsonld=======\n",
      "    INGESTING 17401 GENES\n",
      "=======INGESTING /Users/scott.daniel/KnowledgeEngineering/mmc_gene_mapper/data/ensembl_download/cavia_porcellus.jsonld=======\n",
      "    INGESTING 26855 GENES\n",
      "=======INGESTING /Users/scott.daniel/KnowledgeEngineering/mmc_gene_mapper/data/ensembl_download/phasianus_colchicus.jsonld=======\n",
      "    INGESTING 22420 GENES\n",
      "=======INGESTING /Users/scott.daniel/KnowledgeEngineering/mmc_gene_mapper/data/ensembl_download/gopherus_evgoodei.jsonld=======\n",
      "    INGESTING 21263 GENES\n",
      "=======INGESTING /Users/scott.daniel/KnowledgeEngineering/mmc_gene_mapper/data/ensembl_download/fukomys_damarensis.jsonld=======\n",
      "    INGESTING 33562 GENES\n",
      "=======INGESTING /Users/scott.daniel/KnowledgeEngineering/mmc_gene_mapper/data/ensembl_download/meleagris_gallopavo.jsonld=======\n",
      "    INGESTING 17970 GENES\n",
      "=======INGESTING /Users/scott.daniel/KnowledgeEngineering/mmc_gene_mapper/data/ensembl_download/oryzias_melastigma.jsonld=======\n",
      "    INGESTING 24019 GENES\n",
      "=======INGESTING /Users/scott.daniel/KnowledgeEngineering/mmc_gene_mapper/data/ensembl_download/ochotona_princeps.jsonld=======\n",
      "    INGESTING 23065 GENES\n",
      "=======INGESTING /Users/scott.daniel/KnowledgeEngineering/mmc_gene_mapper/data/ensembl_download/pelusios_castaneus.jsonld=======\n",
      "    INGESTING 20215 GENES\n",
      "=======INGESTING /Users/scott.daniel/KnowledgeEngineering/mmc_gene_mapper/data/ensembl_download/varanus_komodoensis.jsonld=======\n",
      "    INGESTING 18772 GENES\n",
      "=======DELETING INDEX gene_symbol_idx======\n",
      "=======CREATING INDEX gene_symbol_idx=======\n",
      "=======DELETING INDEX gene_id_idx======\n",
      "=======CREATING INDEX gene_id_idx=======\n",
      "=======DELETING INDEX gene_equivalence_idx======\n",
      "=======CREATING INDEX gene_equivalence_idx=======\n",
      "=======DELETING INDEX gene_ortholog_gene_idx======\n",
      "=======CREATING INDEX gene_ortholog_gene_idx=======\n",
      "=======DELETING INDEX gene_ortholog_ortholog_idx======\n",
      "=======CREATING INDEX gene_ortholog_ortholog_idx=======\n",
      "=======CREATING BIBLIOGRAPHY TABLE=======\n",
      "=======DELETING INDEX species_bibliography_idx======\n",
      "=======DELETING INDEX species_bibliography_idx======\n",
      "=======CREATING INDEX species_bibliography_idx=======\n",
      "=======COPYING TMP FILE TO /Users/scott.daniel/KnowledgeEngineering/mmc_gene_mapper/data/gene_mapper_example.db=======\n",
      "=======DB CREATION TOOK 7.32e+00 MINUTES=======\n"
     ]
    }
   ],
   "source": [
    "gene_mapper = mapper.MMCGeneMapper(\n",
    "    db_path=db_path,\n",
    "    local_dir=data_dir,\n",
    "    data_file_spec=ensembl_files_spec,\n",
    "    clobber=True,\n",
    "    force_download=False,\n",
    "    suppress_download_stdout=True\n",
    ")"
   ]
  },
  {
   "cell_type": "code",
   "execution_count": 10,
   "id": "3f1a2daf-3fad-40bf-b5e2-2478c8caef22",
   "metadata": {},
   "outputs": [
    {
     "data": {
      "text/plain": [
       "PosixPath('/Users/scott.daniel/KnowledgeEngineering/mmc_gene_mapper/data/gene_mapper_example.db')"
      ]
     },
     "execution_count": 10,
     "metadata": {},
     "output_type": "execute_result"
    }
   ],
   "source": [
    "gene_mapper.db_path"
   ]
  },
  {
   "cell_type": "markdown",
   "id": "3a5dede0-3fb4-4b04-88c4-b104659c7be5",
   "metadata": {},
   "source": [
    "## Contents of the database backing the mapper\n",
    "\n",
    "The database backing the `gene_mapper` contains the following tables\n",
    "\n",
    "### Metadata tables\n",
    "\n",
    "#### authority\n",
    "The `authority` table just tracks the gene identifying authorities the database knows about (i.e. ENSEMBL and NCBI). it consists of the columns\n",
    "\n",
    "- id -- an integer used for internal indexing\n",
    "- name -- the human-readable name of the authority\n",
    "\n",
    "#### citation\n",
    "The `citation` table tracks all of the datasets used to justify the various mappings (symbol-to-identifier, ENSEMBL-to-NCBI, orthologs, etc.). It consists of the columns\n",
    "\n",
    "- id -- an integer used for internal indexing\n",
    "- name -- a short, human-readable name for the citation (this will be used whenever you have to specify a citation when calling the `gene_mapper`'s methods\n",
    "- metadata -- a JSON serialized dict containing whatever information is necessary to recreate or specify the data backing this citation. This is a very free-form column as different entries will be specified in different ways (see below)"
   ]
  },
  {
   "cell_type": "markdown",
   "id": "cd687385-71d0-4a32-9511-5e8ec5dce2d1",
   "metadata": {},
   "source": [
    "We can list the available authorities like so"
   ]
  },
  {
   "cell_type": "code",
   "execution_count": 11,
   "id": "8aed469a-a7ef-4650-b502-e68731ce3166",
   "metadata": {},
   "outputs": [
    {
     "name": "stdout",
     "output_type": "stream",
     "text": [
      "['NCBI', 'ENSEMBL']\n"
     ]
    }
   ],
   "source": [
    "authority_list = gene_mapper.get_all_authorities()\n",
    "print(authority_list)"
   ]
  },
  {
   "cell_type": "markdown",
   "id": "d7cc1581-fbb9-4716-9089-1b386d8a52ad",
   "metadata": {},
   "source": [
    "Similarly, we can list the available citations."
   ]
  },
  {
   "cell_type": "code",
   "execution_count": 12,
   "id": "d7b988a9-1942-43d0-93f5-ae3f213fc766",
   "metadata": {},
   "outputs": [
    {
     "name": "stdout",
     "output_type": "stream",
     "text": [
      "['NCBI', 'ENSEMBL-13616-114', 'ENSEMBL-1026970-114', 'ENSEMBL-7998-114', 'ENSEMBL-42254-114', 'ENSEMBL-8019-114', 'ENSEMBL-9704-114', 'ENSEMBL-425635-114', 'ENSEMBL-106582-114', 'ENSEMBL-9135-114', 'ENSEMBL-9838-114', 'ENSEMBL-38772-114', 'ENSEMBL-10020-114', 'ENSEMBL-9157-114', 'ENSEMBL-48699-114', 'ENSEMBL-161767-114', 'ENSEMBL-173247-114', 'ENSEMBL-9646-114', 'ENSEMBL-48698-114', 'ENSEMBL-60711-114', 'ENSEMBL-29139-114', 'ENSEMBL-1328070-114', 'ENSEMBL-441366-114', 'ENSEMBL-100819-114', 'ENSEMBL-9739-114', 'ENSEMBL-9541-114', 'ENSEMBL-38626-114', 'ENSEMBL-51338-114', 'ENSEMBL-9089-114', 'ENSEMBL-80966-114', 'ENSEMBL-8078-114', 'ENSEMBL-59463-114', 'ENSEMBL-61819-114', 'ENSEMBL-94237-114', 'ENSEMBL-61383-114', 'ENSEMBL-132585-114', 'ENSEMBL-591936-114', 'ENSEMBL-13735-114', 'ENSEMBL-8128-114', 'ENSEMBL-30461-114', 'ENSEMBL-43179-114', 'ENSEMBL-40217-114', 'ENSEMBL-308060-114', 'ENSEMBL-10116-114', 'ENSEMBL-8508-114', 'ENSEMBL-41447-114', 'ENSEMBL-9555-114', 'ENSEMBL-68415-114', 'ENSEMBL-9685-114', 'ENSEMBL-61622-114', 'ENSEMBL-10089-114', 'ENSEMBL-210632-114', 'ENSEMBL-321398-114', 'ENSEMBL-109280-114', 'ENSEMBL-9643-114', 'ENSEMBL-9531-114', 'ENSEMBL-8030-114', 'ENSEMBL-10160-114', 'ENSEMBL-10093-114', 'ENSEMBL-7719-114', 'ENSEMBL-30608-114', 'ENSEMBL-379532-114', 'ENSEMBL-9771-114', 'ENSEMBL-8823-114', 'ENSEMBL-7994-114', 'ENSEMBL-10103-114', 'ENSEMBL-13146-114', 'ENSEMBL-8824-114', 'ENSEMBL-28743-114', 'ENSEMBL-9258-114', 'ENSEMBL-299321-114', 'ENSEMBL-37347-114', 'ENSEMBL-244447-114', 'ENSEMBL-9598-114', 'ENSEMBL-8010-114', 'ENSEMBL-2715852-114', 'ENSEMBL-74940-114', 'ENSEMBL-75864-114', 'ENSEMBL-61621-114', 'ENSEMBL-215358-114', 'ENSEMBL-9601-114', 'ENSEMBL-99883-114', 'ENSEMBL-9358-114', 'ENSEMBL-9483-114', 'ENSEMBL-64176-114', 'ENSEMBL-7950-114', 'ENSEMBL-96440-114', 'ENSEMBL-37293-114', 'ENSEMBL-9940-114', 'ENSEMBL-9545-114', 'ENSEMBL-42100-114', 'ENSEMBL-8153-114', 'ENSEMBL-32473-114', 'ENSEMBL-8840-114', 'ENSEMBL-286419-114', 'ENSEMBL-8663-114', 'ENSEMBL-1868482-114', 'ENSEMBL-8090-114', 'ENSEMBL-7764-114', 'ENSEMBL-9615-114', 'ENSEMBL-27687-114', 'ENSEMBL-9913-114', 'ENSEMBL-230844-114', 'ENSEMBL-51154-114', 'ENSEMBL-9031-114', 'ENSEMBL-37548-114', 'ENSEMBL-257818-114', 'ENSEMBL-7955-114', 'ENSEMBL-39432-114', 'ENSEMBL-7868-114', 'ENSEMBL-51511-114', 'ENSEMBL-37032-114', 'ENSEMBL-9925-114', 'ENSEMBL-9785-114', 'ENSEMBL-56723-114', 'ENSEMBL-158456-114', 'ENSEMBL-1196302-114', 'ENSEMBL-8083-114', 'ENSEMBL-7957-114', 'ENSEMBL-10090-98', 'ENSEMBL-2489341-114', 'ENSEMBL-31033-114', 'ENSEMBL-7227-114', 'ENSEMBL-8022-114', 'ENSEMBL-7918-114', 'ENSEMBL-51337-114', 'ENSEMBL-10036-114', 'ENSEMBL-103695-114', 'ENSEMBL-9823-114', 'ENSEMBL-9361-114', 'ENSEMBL-9689-114', 'ENSEMBL-123683-114', 'ENSEMBL-7897-114', 'ENSEMBL-84702-114', 'ENSEMBL-9597-114', 'ENSEMBL-42514-114', 'ENSEMBL-8032-114', 'ENSEMBL-105023-114', 'ENSEMBL-13489-114', 'ENSEMBL-9606-101', 'ENSEMBL-8839-114', 'ENSEMBL-34839-114', 'ENSEMBL-44394-114', 'ENSEMBL-9999-114', 'ENSEMBL-144197-114', 'ENSEMBL-375764-114', 'ENSEMBL-74533-114', 'ENSEMBL-9315-114', 'ENSEMBL-8845-114', 'ENSEMBL-64144-114', 'ENSEMBL-9371-114', 'ENSEMBL-9994-114', 'ENSEMBL-28377-114', 'ENSEMBL-9627-114', 'ENSEMBL-8005-114', 'ENSEMBL-29073-114', 'ENSEMBL-205130-114', 'ENSEMBL-52904-114', 'ENSEMBL-8478-114', 'ENSEMBL-198806-114', 'ENSEMBL-586833-114', 'ENSEMBL-72004-114', 'ENSEMBL-241587-114', 'ENSEMBL-35670-114', 'ENSEMBL-181472-114', 'ENSEMBL-113540-114', 'ENSEMBL-8630-114', 'ENSEMBL-9749-114', 'ENSEMBL-9365-114', 'ENSEMBL-8475-114', 'ENSEMBL-9568-114', 'ENSEMBL-99837-114', 'ENSEMBL-8049-114', 'ENSEMBL-8154-114', 'ENSEMBL-10096-114', 'ENSEMBL-47308-114', 'ENSEMBL-9544-114', 'ENSEMBL-93934-114', 'ENSEMBL-132908-114', 'ENSEMBL-8187-114', 'ENSEMBL-8364-114', 'ENSEMBL-8081-114', 'ENSEMBL-9565-114', 'ENSEMBL-59894-114', 'ENSEMBL-9593-114', 'ENSEMBL-8103-114', 'ENSEMBL-9669-114', 'ENSEMBL-30538-114', 'ENSEMBL-183150-114', 'ENSEMBL-40151-114', 'ENSEMBL-194338-114', 'ENSEMBL-80972-114', 'ENSEMBL-7757-114', 'ENSEMBL-156563-114', 'ENSEMBL-8502-114', 'ENSEMBL-9986-114', 'ENSEMBL-9793-114', 'ENSEMBL-59479-114', 'ENSEMBL-9305-114', 'ENSEMBL-43700-114', 'ENSEMBL-79684-114', 'ENSEMBL-283035-114', 'ENSEMBL-61853-114', 'ENSEMBL-55149-114', 'ENSEMBL-445787-114', 'ENSEMBL-62062-114', 'ENSEMBL-69293-114', 'ENSEMBL-8790-114', 'ENSEMBL-106734-114', 'ENSEMBL-48883-114', 'ENSEMBL-91951-114', 'ENSEMBL-37003-114', 'ENSEMBL-10047-114', 'ENSEMBL-33528-114', 'ENSEMBL-9796-114', 'ENSEMBL-9049-114', 'ENSEMBL-8175-114', 'ENSEMBL-9813-114', 'ENSEMBL-211598-114', 'ENSEMBL-9691-114', 'ENSEMBL-30521-114', 'ENSEMBL-30611-114', 'ENSEMBL-4932-114', 'ENSEMBL-328815-114', 'ENSEMBL-59729-114', 'ENSEMBL-8996-114', 'ENSEMBL-311401-114', 'ENSEMBL-10141-114', 'ENSEMBL-9054-114', 'ENSEMBL-1825980-114', 'ENSEMBL-885580-114', 'ENSEMBL-9103-114', 'ENSEMBL-30732-114', 'ENSEMBL-9978-114', 'ENSEMBL-367368-114', 'ENSEMBL-61221-114']\n"
     ]
    }
   ],
   "source": [
    "citation_list = gene_mapper.get_all_citations()\n",
    "print([c['name'] for c in citation_list])"
   ]
  },
  {
   "cell_type": "markdown",
   "id": "1a0ff8ea-e421-42aa-a4a3-debf3e2aae0a",
   "metadata": {},
   "source": [
    "As mentioned above, different citations contain different metadata. For instance, the `NCBI` citation (referring to the data downloaded from the NCBI FTP server) contains a list of the files downloaded their hashes, and the date they were downloaded on (NCBI updates its FTP server daily; it's not clear that they keep readily available version information around, though we can certainly investigate that). This is what the `NCBI` citation metadata looks like:"
   ]
  },
  {
   "cell_type": "code",
   "execution_count": 13,
   "id": "574f35ac-fc92-4ac2-9768-67c92c2d9089",
   "metadata": {},
   "outputs": [
    {
     "name": "stdout",
     "output_type": "stream",
     "text": [
      "{\n",
      "  \"name\": \"NCBI\",\n",
      "  \"metadata\": {\n",
      "    \"gene_info.gz\": {\n",
      "      \"host\": \"ftp.ncbi.nlm.nih.gov\",\n",
      "      \"src_path\": \"gene/DATA/gene_info.gz\",\n",
      "      \"hash\": \"md5:1465f53bf21ce2ef2857ef24b66fddea\",\n",
      "      \"downloaded_on\": \"2025-07-14-17-19-10\"\n",
      "    },\n",
      "    \"gene2ensembl.gz\": {\n",
      "      \"host\": \"ftp.ncbi.nlm.nih.gov\",\n",
      "      \"src_path\": \"gene/DATA/gene2ensembl.gz\",\n",
      "      \"hash\": \"md5:5437827625a151f72e4aac5c38443c66\",\n",
      "      \"downloaded_on\": \"2025-04-22-00-18-54\"\n",
      "    },\n",
      "    \"gene_orthologs.gz\": {\n",
      "      \"host\": \"ftp.ncbi.nlm.nih.gov\",\n",
      "      \"src_path\": \"gene/DATA/gene_orthologs.gz\",\n",
      "      \"hash\": \"md5:4fedb187701012fb23fd9707b36c9c3e\",\n",
      "      \"downloaded_on\": \"2025-07-14-17-19-34\"\n",
      "    }\n",
      "  }\n",
      "}\n"
     ]
    }
   ],
   "source": [
    "for citation in citation_list:\n",
    "    if citation['name'] == 'NCBI':\n",
    "        print(json.dumps(citation, indent=2))"
   ]
  },
  {
   "cell_type": "markdown",
   "id": "2e33b8b7-145d-45ae-b3eb-b889bdd38ed2",
   "metadata": {},
   "source": [
    "The citations based on BICAN bkbit files, contain all of the GenomeAnnotation and GenomeAssembly information in those files."
   ]
  },
  {
   "cell_type": "code",
   "execution_count": 14,
   "id": "022f5276-5b36-4242-bcc4-9d49c1ab0e7a",
   "metadata": {},
   "outputs": [
    {
     "name": "stdout",
     "output_type": "stream",
     "text": [
      "{\n",
      "  \"name\": \"ENSEMBL-10090-98\",\n",
      "  \"metadata\": {\n",
      "    \"biolink:OrganismTaxon\": {\n",
      "      \"id\": \"NCBITaxon:10090\",\n",
      "      \"iri\": \"http://purl.obolibrary.org/obo/NCBITaxon_10090\",\n",
      "      \"category\": [\n",
      "        \"biolink:OrganismTaxon\"\n",
      "      ],\n",
      "      \"name\": \"house mouse\",\n",
      "      \"full_name\": \"Mus musculus\"\n",
      "    },\n",
      "    \"bican:GenomeAssembly\": {\n",
      "      \"id\": \"NCBIAssembly:GCF_000001635.26\",\n",
      "      \"category\": [\n",
      "        \"bican:GenomeAssembly\"\n",
      "      ],\n",
      "      \"name\": \"GRCm38\",\n",
      "      \"in_taxon\": [\n",
      "        \"NCBITaxon:10090\"\n",
      "      ],\n",
      "      \"in_taxon_label\": \"Mus musculus\",\n",
      "      \"version\": \"26\"\n",
      "    },\n",
      "    \"bican:GenomeAnnotation\": {\n",
      "      \"id\": \"bican:annotation-ENSEMBL-10090-98\",\n",
      "      \"category\": [\n",
      "        \"bican:GenomeAnnotation\"\n",
      "      ],\n",
      "      \"description\": \"ENSEMBL Mus musculus Annotation Release 98\",\n",
      "      \"in_taxon\": [\n",
      "        \"NCBITaxon:10090\"\n",
      "      ],\n",
      "      \"in_taxon_label\": \"Mus musculus\",\n",
      "      \"version\": \"98\",\n",
      "      \"digest\": [\n",
      "        \"urn:uuid:98e048e0-0ce1-42a2-90a3-e2bda0c62a5e\"\n",
      "      ],\n",
      "      \"content_url\": [\n",
      "        \"https://ftp.ensembl.org/pub/release-98/gff3/mus_musculus/Mus_musculus.GRCm38.98.gff3.gz\"\n",
      "      ],\n",
      "      \"authority\": \"ENSEMBL\",\n",
      "      \"reference_assembly\": \"NCBIAssembly:GCF_000001635.26\"\n",
      "    }\n",
      "  }\n",
      "}\n"
     ]
    }
   ],
   "source": [
    "for citation in citation_list:\n",
    "    if citation['name'] == 'ENSEMBL-10090-98':\n",
    "        print(json.dumps(citation, indent=2))"
   ]
  },
  {
   "cell_type": "markdown",
   "id": "4d2ddc70-ac65-47a8-97ed-1143f45dd532",
   "metadata": {},
   "source": [
    "The `HMBA` citation is an ingest of a lookup table created by our science team. As such, it has the least detailed information."
   ]
  },
  {
   "cell_type": "code",
   "execution_count": 15,
   "id": "07020636-8a9f-46ef-bd73-4915d1cdeb61",
   "metadata": {},
   "outputs": [],
   "source": [
    "for citation in citation_list:\n",
    "    if citation['name'] == 'HMBA':\n",
    "        print(json.dumps(citation, indent=2))"
   ]
  },
  {
   "cell_type": "markdown",
   "id": "c8e9c8f1-3011-409c-9e7b-96eb1f1340e4",
   "metadata": {},
   "source": [
    "### Data tables\n",
    "\n",
    "The data tables in the database are\n",
    "\n",
    "#### NCBI_species\n",
    "The `NCBI_species` table just ingests the NCBI organism taxonomy and records\n",
    "- id -- the NCBI taxon ID of the species\n",
    "- name -- the human readable name of the species. **Note:** we record all possible names (\"common\", \"scientific\", etc.) of the species in different rows. That way, users can give us whatever name they have for a species and, if possible, we can return an `id` for cross-referencing with other tables.\n",
    "\n",
    "This is meant to be hidden from the user. The user specifies the species when performing a mapping and the gene_mapper makes the necessary database call. Below, we will make the call \"by hand\", so you can see what is in the database."
   ]
  },
  {
   "cell_type": "code",
   "execution_count": 16,
   "id": "168ce703-d762-4386-a812-0c58e491cd7e",
   "metadata": {},
   "outputs": [
    {
     "name": "stdout",
     "output_type": "stream",
     "text": [
      "house mouse [(10090,)]\n",
      "Mus musculus [(10090,)]\n",
      "mouse [(10088,), (10090,)]\n",
      "human [(9606,)]\n",
      "Homo sapiens [(9606,)]\n"
     ]
    }
   ],
   "source": [
    "with sqlite3.connect(gene_mapper.db_path) as conn:\n",
    "    cursor = conn.cursor()\n",
    "    for name in ('house mouse', 'Mus musculus', 'mouse', 'human', 'Homo sapiens'):\n",
    "        result = cursor.execute(\n",
    "            \"\"\"\n",
    "            SELECT id FROM NCBI_species WHERE name=?\n",
    "            \"\"\",\n",
    "            (name,)\n",
    "        ).fetchall()\n",
    "        print(name,result)"
   ]
  },
  {
   "cell_type": "markdown",
   "id": "14fb7135-5d2a-4cdf-94e0-8bdb1739392e",
   "metadata": {},
   "source": [
    "**Note:** in the case of \"mouse\", there is more than one matching taxon. Calling a mapping with `species=\"mouse\"` will fail."
   ]
  },
  {
   "cell_type": "code",
   "execution_count": 17,
   "id": "6e2ad43d-c270-4d2d-8818-b0d22b7847d3",
   "metadata": {},
   "outputs": [
    {
     "name": "stdout",
     "output_type": "stream",
     "text": [
      "Failed with error message:\n",
      "=======\n",
      "Traceback (most recent call last):\n",
      "  File \"/var/folders/8b/hnw5vq8s20jbpz51wdhd11fr0000gp/T/ipykernel_13286/4200133508.py\", line 5, in <module>\n",
      "    gene_mapper.map_genes(\n",
      "  File \"/Users/scott.daniel/KnowledgeEngineering/mmc_gene_mapper/src/mmc_gene_mapper/mapper/mapper.py\", line 184, in map_genes\n",
      "    dst_species = query_utils.get_species(\n",
      "                  ^^^^^^^^^^^^^^^^^^^^^^^^\n",
      "  File \"/Users/scott.daniel/KnowledgeEngineering/mmc_gene_mapper/src/mmc_gene_mapper/query_db/query.py\", line 35, in get_species\n",
      "    species_taxon = _get_species_taxon(\n",
      "                    ^^^^^^^^^^^^^^^^^^^\n",
      "  File \"/Users/scott.daniel/KnowledgeEngineering/mmc_gene_mapper/src/mmc_gene_mapper/query_db/query.py\", line 87, in _get_species_taxon\n",
      "    raise ValueError(\n",
      "ValueError: 2 species match name mouse\n",
      "[(10088,), (10090,)]\n",
      "\n"
     ]
    }
   ],
   "source": [
    "import traceback\n",
    "\n",
    "mouse_symbols = [\"Xkr4\", \"Npbwr1\", \"not_a_symbol\", \"Rrs1\"]\n",
    "try:\n",
    "    gene_mapper.map_genes(\n",
    "        gene_list=mouse_symbols,\n",
    "        dst_species=\"mouse\",\n",
    "        dst_authority=\"ENSEMBL\"\n",
    "    )\n",
    "except Exception as err:\n",
    "    msg = traceback.format_exc()\n",
    "    print(\n",
    "        f\"Failed with error message:\\n=======\\n{msg}\"\n",
    "    )"
   ]
  },
  {
   "cell_type": "markdown",
   "id": "bedf5c05-1e66-4bf9-84f6-10853eda5c5e",
   "metadata": {},
   "source": [
    "A function is provided for listing all of the species the database knows about.\n",
    "\n",
    "**Note:** This is not a list of all of the species for which the database has gene information. It is merely a list of the species that can be associated with a taxon ID in the database (for cross-referencing with the tables that contain gene information)."
   ]
  },
  {
   "cell_type": "code",
   "execution_count": 18,
   "id": "3d62030b-b2ad-4af7-a393-ab856a1eb164",
   "metadata": {},
   "outputs": [
    {
     "name": "stdout",
     "output_type": "stream",
     "text": [
      "['Lathraea japonica Miq., 1867', 'Lathraea squamaria', 'Lathraea squamaria L., 1753', 'Lathraeocarpa', 'Lathraeocarpa Bremek.']\n"
     ]
    }
   ],
   "source": [
    "species_list = gene_mapper.get_all_species()\n",
    "print(species_list[2000000:2000005])"
   ]
  },
  {
   "cell_type": "code",
   "execution_count": 19,
   "id": "05a3656f-1f18-4573-9fb8-fcbc9cac865c",
   "metadata": {},
   "outputs": [
    {
     "data": {
      "text/plain": [
       "True"
      ]
     },
     "execution_count": 19,
     "metadata": {},
     "output_type": "execute_result"
    }
   ],
   "source": [
    "'Homo sapiens' in species_list"
   ]
  },
  {
   "cell_type": "code",
   "execution_count": 20,
   "id": "ae419412-4c1a-4a5b-beab-266fdf1ff983",
   "metadata": {},
   "outputs": [
    {
     "data": {
      "text/plain": [
       "4070242"
      ]
     },
     "execution_count": 20,
     "metadata": {},
     "output_type": "execute_result"
    }
   ],
   "source": [
    "len(species_list)"
   ]
  },
  {
   "cell_type": "markdown",
   "id": "5631dbf9-e172-4bbc-9c08-77527c3722b0",
   "metadata": {},
   "source": [
    "#### gene\n",
    "The `gene` table contains all of the information about individual genes ingested into the database. Columns are\n",
    "- authority -- an integer for cross-referencing the `authority` table\n",
    "- citation -- an integer for cross-referencing the `citation` table\n",
    "- species_taxon -- an integer for cross-refereneing the `NCBI_species` table\n",
    "- id -- an integer for internal indexing\n",
    "- identifier -- a string. The full unique identifier (e.g. ENSMUS0000G12345) of the gene\n",
    "- symbol -- a string. The human-readable name of the gene (**Note:** the BICAN bkbit files contain `symbol` and `name` entries for genes. If these differ, both are ingested as a separate row in the `gene` table with `name` being recorded in `symbol` as appropriate).\n",
    "\n",
    "#### gene_equivalence\n",
    "The `gene_equivalence` table records mappings between authorities (ENSEMBL and NCBI). Its columns are\n",
    "- species_taxon -- an integer for cross-referencing with the `NCBI_species` table (in what species are we looking for equivalences?)\n",
    "- citation -- an integer for cross-referencing with the `citation` table (who said these genes were equivalent?)\n",
    "- authority0 -- an integer for cross-referencing with the `authority` table\n",
    "- gene0 -- an integer; the ID of the gene in `authority0`\n",
    "- authority1 -- an integer for cross-referncing with the `authority` table\n",
    "- gene1 -- an integer; the ID of the gene in `authority1` that is equivalent to `gene0` according to `citation`.\n",
    "\n",
    "**Note:** we record equivalences symmetrically, so that every `(gene0, gene1)` pair is also recorded as `(gene1, gene0)` so that users do not have to worry about which index (`gene0` or `gene1`) their input data is compared to.\n",
    "\n",
    "#### gene_ortholog\n",
    "The `gene_ortholog` table records cross-species ortholog relationships. Its columns are\n",
    "- authority -- an integer for cross-referencing the `authority` table (are we looking for NCBI orthologs or ENSEMBL orthologs?)\n",
    "- citation -- an integer for cross-referencing the `citation` table (who said these genes were orthologs?)\n",
    "- species -- an integer for cross-referencing the `NCBI_species` table\n",
    "- gene -- an integer, the ID of the gene in `species` whose orthologs we are looking for\n",
    "- ortholog_group -- an integer; genes with the same value of `ortholog_group` are orthologs of each other\n"
   ]
  },
  {
   "cell_type": "markdown",
   "id": "b06f1579-1a0b-498a-8533-a1349ef70543",
   "metadata": {},
   "source": [
    "## Actually mapping data\n",
    "\n",
    "The `gene_mapper` provides a single function to map gene identifiers from one form `(authority, species)` to another. To run it you specify\n",
    "- the list of gene identifeirs you have\n",
    "- the name of the species you want your genes mapped into (the mapper will automatically detect the species your genes are already in(\n",
    "- the authority of gene (ENSEMBL or NCBI) you want your genes mapped into\n",
    "- (optionally) the name of the citation to use for any cross species ortholog mappings (default is to use the NCBI lookup table)\n",
    "\n",
    "The mapper will then go through the necessary transformations and return a mapped list of gene identifiers for you."
   ]
  },
  {
   "cell_type": "markdown",
   "id": "b101728c-7ce8-4b0b-922a-26b6b721b8de",
   "metadata": {},
   "source": [
    "### Mapping symbols to identifiers\n",
    "\n"
   ]
  },
  {
   "cell_type": "code",
   "execution_count": 21,
   "id": "e819cc2a-b66c-4d24-8e68-11d4e2cae8e0",
   "metadata": {},
   "outputs": [
    {
     "name": "stdout",
     "output_type": "stream",
     "text": [
      "{\n",
      "  \"metadata\": [\n",
      "    {\n",
      "      \"mapping\": {\n",
      "        \"axis\": \"authority\",\n",
      "        \"from\": \"symbol\",\n",
      "        \"to\": \"ENSEMBL\"\n",
      "      },\n",
      "      \"citation\": {\n",
      "        \"name\": \"ENSEMBL-10090-98\",\n",
      "        \"metadata\": {\n",
      "          \"biolink:OrganismTaxon\": {\n",
      "            \"id\": \"NCBITaxon:10090\",\n",
      "            \"iri\": \"http://purl.obolibrary.org/obo/NCBITaxon_10090\",\n",
      "            \"category\": [\n",
      "              \"biolink:OrganismTaxon\"\n",
      "            ],\n",
      "            \"name\": \"house mouse\",\n",
      "            \"full_name\": \"Mus musculus\"\n",
      "          },\n",
      "          \"bican:GenomeAssembly\": {\n",
      "            \"id\": \"NCBIAssembly:GCF_000001635.26\",\n",
      "            \"category\": [\n",
      "              \"bican:GenomeAssembly\"\n",
      "            ],\n",
      "            \"name\": \"GRCm38\",\n",
      "            \"in_taxon\": [\n",
      "              \"NCBITaxon:10090\"\n",
      "            ],\n",
      "            \"in_taxon_label\": \"Mus musculus\",\n",
      "            \"version\": \"26\"\n",
      "          },\n",
      "          \"bican:GenomeAnnotation\": {\n",
      "            \"id\": \"bican:annotation-ENSEMBL-10090-98\",\n",
      "            \"category\": [\n",
      "              \"bican:GenomeAnnotation\"\n",
      "            ],\n",
      "            \"description\": \"ENSEMBL Mus musculus Annotation Release 98\",\n",
      "            \"in_taxon\": [\n",
      "              \"NCBITaxon:10090\"\n",
      "            ],\n",
      "            \"in_taxon_label\": \"Mus musculus\",\n",
      "            \"version\": \"98\",\n",
      "            \"digest\": [\n",
      "              \"urn:uuid:98e048e0-0ce1-42a2-90a3-e2bda0c62a5e\"\n",
      "            ],\n",
      "            \"content_url\": [\n",
      "              \"https://ftp.ensembl.org/pub/release-98/gff3/mus_musculus/Mus_musculus.GRCm38.98.gff3.gz\"\n",
      "            ],\n",
      "            \"authority\": \"ENSEMBL\",\n",
      "            \"reference_assembly\": \"NCBIAssembly:GCF_000001635.26\"\n",
      "          }\n",
      "        }\n",
      "      }\n",
      "    }\n",
      "  ],\n",
      "  \"gene_list\": [\n",
      "    \"ENSMUSG00000051951\",\n",
      "    \"ENSMUSG00000033774\",\n",
      "    \"symbol:ENSEMBL:UNMAPPABLE_NO_MATCH_0\",\n",
      "    \"ENSMUSG00000061024\"\n",
      "  ]\n",
      "}\n"
     ]
    }
   ],
   "source": [
    "mouse_symbols = [\"Xkr4\", \"Npbwr1\", \"not_a_symbol\", \"Rrs1\"]\n",
    "mouse_ens_mapping = gene_mapper.map_genes(\n",
    "    gene_list=mouse_symbols,\n",
    "    dst_species=\"Mus musculus\",\n",
    "    dst_authority=\"ENSEMBL\"\n",
    ")\n",
    "print(json.dumps(mouse_ens_mapping, indent=2))"
   ]
  },
  {
   "cell_type": "markdown",
   "id": "92c19413-d2db-4c95-87c9-1288c04d3344",
   "metadata": {},
   "source": [
    "For ease of reading, here is the output broken down into metadata"
   ]
  },
  {
   "cell_type": "code",
   "execution_count": 22,
   "id": "47c529fc-edbb-408d-a4f0-dd2f4075d716",
   "metadata": {},
   "outputs": [
    {
     "name": "stdout",
     "output_type": "stream",
     "text": [
      "[\n",
      "  {\n",
      "    \"mapping\": {\n",
      "      \"axis\": \"authority\",\n",
      "      \"from\": \"symbol\",\n",
      "      \"to\": \"ENSEMBL\"\n",
      "    },\n",
      "    \"citation\": {\n",
      "      \"name\": \"ENSEMBL-10090-98\",\n",
      "      \"metadata\": {\n",
      "        \"biolink:OrganismTaxon\": {\n",
      "          \"id\": \"NCBITaxon:10090\",\n",
      "          \"iri\": \"http://purl.obolibrary.org/obo/NCBITaxon_10090\",\n",
      "          \"category\": [\n",
      "            \"biolink:OrganismTaxon\"\n",
      "          ],\n",
      "          \"name\": \"house mouse\",\n",
      "          \"full_name\": \"Mus musculus\"\n",
      "        },\n",
      "        \"bican:GenomeAssembly\": {\n",
      "          \"id\": \"NCBIAssembly:GCF_000001635.26\",\n",
      "          \"category\": [\n",
      "            \"bican:GenomeAssembly\"\n",
      "          ],\n",
      "          \"name\": \"GRCm38\",\n",
      "          \"in_taxon\": [\n",
      "            \"NCBITaxon:10090\"\n",
      "          ],\n",
      "          \"in_taxon_label\": \"Mus musculus\",\n",
      "          \"version\": \"26\"\n",
      "        },\n",
      "        \"bican:GenomeAnnotation\": {\n",
      "          \"id\": \"bican:annotation-ENSEMBL-10090-98\",\n",
      "          \"category\": [\n",
      "            \"bican:GenomeAnnotation\"\n",
      "          ],\n",
      "          \"description\": \"ENSEMBL Mus musculus Annotation Release 98\",\n",
      "          \"in_taxon\": [\n",
      "            \"NCBITaxon:10090\"\n",
      "          ],\n",
      "          \"in_taxon_label\": \"Mus musculus\",\n",
      "          \"version\": \"98\",\n",
      "          \"digest\": [\n",
      "            \"urn:uuid:98e048e0-0ce1-42a2-90a3-e2bda0c62a5e\"\n",
      "          ],\n",
      "          \"content_url\": [\n",
      "            \"https://ftp.ensembl.org/pub/release-98/gff3/mus_musculus/Mus_musculus.GRCm38.98.gff3.gz\"\n",
      "          ],\n",
      "          \"authority\": \"ENSEMBL\",\n",
      "          \"reference_assembly\": \"NCBIAssembly:GCF_000001635.26\"\n",
      "        }\n",
      "      }\n",
      "    }\n",
      "  }\n",
      "]\n"
     ]
    }
   ],
   "source": [
    "print(json.dumps(mouse_ens_mapping['metadata'], indent=2))"
   ]
  },
  {
   "cell_type": "markdown",
   "id": "efeb945b-2532-404e-bdcd-041d9cbd657f",
   "metadata": {},
   "source": [
    "and actual mapping"
   ]
  },
  {
   "cell_type": "code",
   "execution_count": 23,
   "id": "e7a8ffb2-e609-4c83-abe7-8d8536652850",
   "metadata": {},
   "outputs": [
    {
     "name": "stdout",
     "output_type": "stream",
     "text": [
      "[\n",
      "  \"ENSMUSG00000051951\",\n",
      "  \"ENSMUSG00000033774\",\n",
      "  \"symbol:ENSEMBL:UNMAPPABLE_NO_MATCH_0\",\n",
      "  \"ENSMUSG00000061024\"\n",
      "]\n"
     ]
    }
   ],
   "source": [
    "print(json.dumps(mouse_ens_mapping['gene_list'], indent=2))"
   ]
  },
  {
   "cell_type": "markdown",
   "id": "268dfc10-1ce4-42c4-928a-8caba10d5f77",
   "metadata": {},
   "source": [
    "Here is a similar call mapping symbols to identifiers in NCBI"
   ]
  },
  {
   "cell_type": "code",
   "execution_count": 24,
   "id": "3016fa95-15a5-4cf4-b1d8-9b6031183b10",
   "metadata": {},
   "outputs": [
    {
     "name": "stdout",
     "output_type": "stream",
     "text": [
      "{\n",
      "  \"metadata\": [\n",
      "    {\n",
      "      \"mapping\": {\n",
      "        \"axis\": \"authority\",\n",
      "        \"from\": \"symbol\",\n",
      "        \"to\": \"NCBI\"\n",
      "      },\n",
      "      \"citation\": {\n",
      "        \"name\": \"NCBI\",\n",
      "        \"metadata\": {\n",
      "          \"gene_info.gz\": {\n",
      "            \"host\": \"ftp.ncbi.nlm.nih.gov\",\n",
      "            \"src_path\": \"gene/DATA/gene_info.gz\",\n",
      "            \"hash\": \"md5:1465f53bf21ce2ef2857ef24b66fddea\",\n",
      "            \"downloaded_on\": \"2025-07-14-17-19-10\"\n",
      "          },\n",
      "          \"gene2ensembl.gz\": {\n",
      "            \"host\": \"ftp.ncbi.nlm.nih.gov\",\n",
      "            \"src_path\": \"gene/DATA/gene2ensembl.gz\",\n",
      "            \"hash\": \"md5:5437827625a151f72e4aac5c38443c66\",\n",
      "            \"downloaded_on\": \"2025-04-22-00-18-54\"\n",
      "          },\n",
      "          \"gene_orthologs.gz\": {\n",
      "            \"host\": \"ftp.ncbi.nlm.nih.gov\",\n",
      "            \"src_path\": \"gene/DATA/gene_orthologs.gz\",\n",
      "            \"hash\": \"md5:4fedb187701012fb23fd9707b36c9c3e\",\n",
      "            \"downloaded_on\": \"2025-07-14-17-19-34\"\n",
      "          }\n",
      "        }\n",
      "      }\n",
      "    }\n",
      "  ],\n",
      "  \"gene_list\": [\n",
      "    \"NCBIGene:497097\",\n",
      "    \"NCBIGene:226304\",\n",
      "    \"symbol:NCBI:UNMAPPABLE_NO_MATCH_0\",\n",
      "    \"NCBIGene:59014\"\n",
      "  ]\n",
      "}\n"
     ]
    }
   ],
   "source": [
    "mouse_ncbi_mapping = gene_mapper.map_genes(\n",
    "    gene_list=mouse_symbols,\n",
    "    dst_species=\"Mus musculus\",\n",
    "    dst_authority=\"NCBI\"\n",
    ")\n",
    "print(json.dumps(mouse_ncbi_mapping, indent=2))"
   ]
  },
  {
   "cell_type": "markdown",
   "id": "4b219d40-cffb-45de-9306-05d4166aaa72",
   "metadata": {},
   "source": [
    "### Mapping from ENSEMBL to NCBI\n"
   ]
  },
  {
   "cell_type": "code",
   "execution_count": 25,
   "id": "82ceb93a-2539-4d79-86c6-dbfe4f34ed7f",
   "metadata": {},
   "outputs": [
    {
     "name": "stdout",
     "output_type": "stream",
     "text": [
      "{\n",
      "  \"metadata\": [\n",
      "    {\n",
      "      \"mapping\": {\n",
      "        \"axis\": \"authority\",\n",
      "        \"from\": \"symbol\",\n",
      "        \"to\": \"NCBI\"\n",
      "      },\n",
      "      \"citation\": {\n",
      "        \"name\": \"NCBI\",\n",
      "        \"metadata\": {\n",
      "          \"gene_info.gz\": {\n",
      "            \"host\": \"ftp.ncbi.nlm.nih.gov\",\n",
      "            \"src_path\": \"gene/DATA/gene_info.gz\",\n",
      "            \"hash\": \"md5:1465f53bf21ce2ef2857ef24b66fddea\",\n",
      "            \"downloaded_on\": \"2025-07-14-17-19-10\"\n",
      "          },\n",
      "          \"gene2ensembl.gz\": {\n",
      "            \"host\": \"ftp.ncbi.nlm.nih.gov\",\n",
      "            \"src_path\": \"gene/DATA/gene2ensembl.gz\",\n",
      "            \"hash\": \"md5:5437827625a151f72e4aac5c38443c66\",\n",
      "            \"downloaded_on\": \"2025-04-22-00-18-54\"\n",
      "          },\n",
      "          \"gene_orthologs.gz\": {\n",
      "            \"host\": \"ftp.ncbi.nlm.nih.gov\",\n",
      "            \"src_path\": \"gene/DATA/gene_orthologs.gz\",\n",
      "            \"hash\": \"md5:4fedb187701012fb23fd9707b36c9c3e\",\n",
      "            \"downloaded_on\": \"2025-07-14-17-19-34\"\n",
      "          }\n",
      "        }\n",
      "      }\n",
      "    },\n",
      "    {\n",
      "      \"mapping\": {\n",
      "        \"axis\": \"authority\",\n",
      "        \"from\": \"ENSEMBL\",\n",
      "        \"to\": \"NCBI\"\n",
      "      },\n",
      "      \"citation\": {\n",
      "        \"name\": \"NCBI\",\n",
      "        \"metadata\": {\n",
      "          \"gene_info.gz\": {\n",
      "            \"host\": \"ftp.ncbi.nlm.nih.gov\",\n",
      "            \"src_path\": \"gene/DATA/gene_info.gz\",\n",
      "            \"hash\": \"md5:1465f53bf21ce2ef2857ef24b66fddea\",\n",
      "            \"downloaded_on\": \"2025-07-14-17-19-10\"\n",
      "          },\n",
      "          \"gene2ensembl.gz\": {\n",
      "            \"host\": \"ftp.ncbi.nlm.nih.gov\",\n",
      "            \"src_path\": \"gene/DATA/gene2ensembl.gz\",\n",
      "            \"hash\": \"md5:5437827625a151f72e4aac5c38443c66\",\n",
      "            \"downloaded_on\": \"2025-04-22-00-18-54\"\n",
      "          },\n",
      "          \"gene_orthologs.gz\": {\n",
      "            \"host\": \"ftp.ncbi.nlm.nih.gov\",\n",
      "            \"src_path\": \"gene/DATA/gene_orthologs.gz\",\n",
      "            \"hash\": \"md5:4fedb187701012fb23fd9707b36c9c3e\",\n",
      "            \"downloaded_on\": \"2025-07-14-17-19-34\"\n",
      "          }\n",
      "        }\n",
      "      }\n",
      "    }\n",
      "  ],\n",
      "  \"gene_list\": [\n",
      "    \"NCBIGene:497097\",\n",
      "    \"ENSEMBL:NCBI:UNMAPPABLE_MANY_MATCHES_0\",\n",
      "    \"NCBIGene:620393\",\n",
      "    \"symbol:NCBI:UNMAPPABLE_NO_MATCH_0\",\n",
      "    \"NCBIGene:76187\"\n",
      "  ]\n",
      "}\n"
     ]
    }
   ],
   "source": [
    "ens_to_ncbi = gene_mapper.map_genes(\n",
    "    dst_authority='NCBI',\n",
    "    gene_list=[\"ENSMUSG00000051951\",\n",
    "               \"ENSMUSG00000030337\",\n",
    "               \"ENSMUSG00000087247\",\n",
    "               \"nope\",\n",
    "               \"ENSMUSG00000025911\"],\n",
    "    dst_species=\"Mus musculus\"\n",
    ")\n",
    "print(json.dumps(ens_to_ncbi, indent=2))"
   ]
  },
  {
   "cell_type": "markdown",
   "id": "58e593be-05dc-4df9-8fbd-9abd678b197f",
   "metadata": {},
   "source": [
    "Here is a call mapping from NCBI to ENSEMBL"
   ]
  },
  {
   "cell_type": "code",
   "execution_count": 26,
   "id": "fbad7610-4142-45db-9f39-db97163c3280",
   "metadata": {},
   "outputs": [
    {
     "name": "stdout",
     "output_type": "stream",
     "text": [
      "{\n",
      "  \"metadata\": [\n",
      "    {\n",
      "      \"mapping\": {\n",
      "        \"axis\": \"authority\",\n",
      "        \"from\": \"symbol\",\n",
      "        \"to\": \"ENSEMBL\"\n",
      "      },\n",
      "      \"citation\": {\n",
      "        \"name\": \"ENSEMBL-10090-98\",\n",
      "        \"metadata\": {\n",
      "          \"biolink:OrganismTaxon\": {\n",
      "            \"id\": \"NCBITaxon:10090\",\n",
      "            \"iri\": \"http://purl.obolibrary.org/obo/NCBITaxon_10090\",\n",
      "            \"category\": [\n",
      "              \"biolink:OrganismTaxon\"\n",
      "            ],\n",
      "            \"name\": \"house mouse\",\n",
      "            \"full_name\": \"Mus musculus\"\n",
      "          },\n",
      "          \"bican:GenomeAssembly\": {\n",
      "            \"id\": \"NCBIAssembly:GCF_000001635.26\",\n",
      "            \"category\": [\n",
      "              \"bican:GenomeAssembly\"\n",
      "            ],\n",
      "            \"name\": \"GRCm38\",\n",
      "            \"in_taxon\": [\n",
      "              \"NCBITaxon:10090\"\n",
      "            ],\n",
      "            \"in_taxon_label\": \"Mus musculus\",\n",
      "            \"version\": \"26\"\n",
      "          },\n",
      "          \"bican:GenomeAnnotation\": {\n",
      "            \"id\": \"bican:annotation-ENSEMBL-10090-98\",\n",
      "            \"category\": [\n",
      "              \"bican:GenomeAnnotation\"\n",
      "            ],\n",
      "            \"description\": \"ENSEMBL Mus musculus Annotation Release 98\",\n",
      "            \"in_taxon\": [\n",
      "              \"NCBITaxon:10090\"\n",
      "            ],\n",
      "            \"in_taxon_label\": \"Mus musculus\",\n",
      "            \"version\": \"98\",\n",
      "            \"digest\": [\n",
      "              \"urn:uuid:98e048e0-0ce1-42a2-90a3-e2bda0c62a5e\"\n",
      "            ],\n",
      "            \"content_url\": [\n",
      "              \"https://ftp.ensembl.org/pub/release-98/gff3/mus_musculus/Mus_musculus.GRCm38.98.gff3.gz\"\n",
      "            ],\n",
      "            \"authority\": \"ENSEMBL\",\n",
      "            \"reference_assembly\": \"NCBIAssembly:GCF_000001635.26\"\n",
      "          }\n",
      "        }\n",
      "      }\n",
      "    },\n",
      "    {\n",
      "      \"mapping\": {\n",
      "        \"axis\": \"authority\",\n",
      "        \"from\": \"NCBI\",\n",
      "        \"to\": \"ENSEMBL\"\n",
      "      },\n",
      "      \"citation\": {\n",
      "        \"name\": \"NCBI\",\n",
      "        \"metadata\": {\n",
      "          \"gene_info.gz\": {\n",
      "            \"host\": \"ftp.ncbi.nlm.nih.gov\",\n",
      "            \"src_path\": \"gene/DATA/gene_info.gz\",\n",
      "            \"hash\": \"md5:1465f53bf21ce2ef2857ef24b66fddea\",\n",
      "            \"downloaded_on\": \"2025-07-14-17-19-10\"\n",
      "          },\n",
      "          \"gene2ensembl.gz\": {\n",
      "            \"host\": \"ftp.ncbi.nlm.nih.gov\",\n",
      "            \"src_path\": \"gene/DATA/gene2ensembl.gz\",\n",
      "            \"hash\": \"md5:5437827625a151f72e4aac5c38443c66\",\n",
      "            \"downloaded_on\": \"2025-04-22-00-18-54\"\n",
      "          },\n",
      "          \"gene_orthologs.gz\": {\n",
      "            \"host\": \"ftp.ncbi.nlm.nih.gov\",\n",
      "            \"src_path\": \"gene/DATA/gene_orthologs.gz\",\n",
      "            \"hash\": \"md5:4fedb187701012fb23fd9707b36c9c3e\",\n",
      "            \"downloaded_on\": \"2025-07-14-17-19-34\"\n",
      "          }\n",
      "        }\n",
      "      }\n",
      "    }\n",
      "  ],\n",
      "  \"gene_list\": [\n",
      "    \"ENSMUSG00000021557\",\n",
      "    \"ENSMUSG00000003271\",\n",
      "    \"symbol:ENSEMBL:UNMAPPABLE_NO_MATCH_0\",\n",
      "    \"ENSMUSG00000037747\"\n",
      "  ]\n",
      "}\n"
     ]
    }
   ],
   "source": [
    "ncbi_to_ens = gene_mapper.map_genes(\n",
    "    dst_authority='ENSEMBL',\n",
    "    gene_list=[\"NCBIGene:67269\", \"NCBIGene:54200\", \"nope\", \"NCBIGene:70911\"],\n",
    "    dst_species=\"Mus musculus\"\n",
    ")\n",
    "print(json.dumps(ncbi_to_ens, indent=2))"
   ]
  },
  {
   "cell_type": "markdown",
   "id": "0de3aa5c-2ebe-4921-8d9b-b8851eff6220",
   "metadata": {},
   "source": [
    "To simulate \"production scale,\" we will now download all of the genes in the Yao et al. 2023 10X gene panel and try mappping them from ENSEMBL to NCBI to see how long it takes to process that many genes."
   ]
  },
  {
   "cell_type": "code",
   "execution_count": 27,
   "id": "2e77f845-8585-4bab-8f79-1455a09b7d38",
   "metadata": {},
   "outputs": [
    {
     "name": "stdout",
     "output_type": "stream",
     "text": [
      "mapping 32285 genes took 1.68e+01 seconds\n",
      "24503 genes had unique NCBI matches\n"
     ]
    }
   ],
   "source": [
    "wmb_gene_df = abc_cache.get_metadata_dataframe(\n",
    "    directory='WMB-10X',\n",
    "    file_name='gene'\n",
    ")\n",
    "wmb_genes = wmb_gene_df.gene_identifier.values\n",
    "t0 = time.time()\n",
    "wmb_ncbi = gene_mapper.map_genes(\n",
    "    dst_authority='NCBI',\n",
    "    gene_list=wmb_genes,\n",
    "    dst_species='Mus musculus',\n",
    ")\n",
    "dur = time.time()-t0\n",
    "print(f'mapping {len(wmb_genes)} genes took {dur:.2e} seconds')\n",
    "\n",
    "n_mapped = 0\n",
    "for k in wmb_ncbi['gene_list']:\n",
    "    if 'UNMAPPABLE' not in k:\n",
    "        n_mapped += 1\n",
    "print(f'{n_mapped} genes had unique NCBI matches')\n"
   ]
  },
  {
   "cell_type": "markdown",
   "id": "2f2f4586-8ded-4785-abe4-81f89075e263",
   "metadata": {},
   "source": [
    "Now we will download the marker genes used by MapMyCells for the Whole Mouse Brain taxonomy and try mapping them from ENSEMBL to NCBI."
   ]
  },
  {
   "cell_type": "code",
   "execution_count": 28,
   "id": "d377c657-9985-4bf6-8a73-8d7a4d19d235",
   "metadata": {},
   "outputs": [],
   "source": [
    "src_path = \"https://allen-brain-cell-atlas.s3-us-west-2.amazonaws.com/mapmycells/WMB-10X/20240831/mouse_markers_230821.json\"\n",
    "wmb_marker_path = pathlib.Path('../data/mouse_markers_230821.json')\n",
    "if not wmb_marker_path.is_file():\n",
    "    print(f\"downloading {wmb_marker_path}\")\n",
    "    process = subprocess.Popen(\n",
    "        args=[\n",
    "           \"wget\",\n",
    "            src_path,\n",
    "            \"-O\",\n",
    "            str(wmb_marker_path),\n",
    "        ],\n",
    "        stderr=subprocess.DEVNULL\n",
    "    )\n",
    "    process.wait()"
   ]
  },
  {
   "cell_type": "code",
   "execution_count": 29,
   "id": "de440719-7e4b-49eb-898f-803a84215488",
   "metadata": {},
   "outputs": [],
   "source": [
    "marker_genes = set()\n",
    "with open(wmb_marker_path, 'rb') as src:\n",
    "    marker_lookup = json.load(src)\n",
    "for key in marker_lookup:\n",
    "    if key in ('log', 'metadata'):\n",
    "        continue\n",
    "    marker_genes = marker_genes.union(set(marker_lookup[key]))\n",
    "marker_genes = sorted(marker_genes)"
   ]
  },
  {
   "cell_type": "markdown",
   "id": "34db75d7-ca7f-4daa-9732-8729fcfab7c6",
   "metadata": {},
   "source": [
    "Let's now map our mouse marker genes from ENSEMBL to NCBI"
   ]
  },
  {
   "cell_type": "code",
   "execution_count": 30,
   "id": "a611509d-1366-4cba-983f-4f54d5805b43",
   "metadata": {},
   "outputs": [
    {
     "name": "stdout",
     "output_type": "stream",
     "text": [
      "6558 marker genes\n",
      "mappiing 6558 genes took 5.46e+00 seconds\n",
      "6493 genes had unique NCBI matches\n"
     ]
    }
   ],
   "source": [
    "print(f'{len(marker_genes)} marker genes')\n",
    "t0 = time.time()\n",
    "marker_ncbi = gene_mapper.map_genes(\n",
    "    dst_authority='NCBI',\n",
    "    gene_list=marker_genes,\n",
    "    dst_species='Mus musculus'\n",
    ")\n",
    "dur = time.time()-t0\n",
    "print(f'mappiing {len(marker_genes)} genes took {dur:.2e} seconds')\n",
    "\n",
    "n_mapped = 0\n",
    "n_one_to_one = 0\n",
    "for k in marker_ncbi['gene_list']:\n",
    "    if 'UNMAPPABLE' not in k:\n",
    "        n_mapped += 1\n",
    "\n",
    "print(f'{n_mapped} genes had unique NCBI matches')\n"
   ]
  },
  {
   "cell_type": "markdown",
   "id": "18007eeb-c0c7-4f9f-b6a2-ba6e3ae8a285",
   "metadata": {},
   "source": [
    "### Ortholog mapping\n",
    "\n",
    "To test ortholog mapping, let's take the genes from Yao et al. 2023 that only mapped to one NCBI gene and map them to human orthologs."
   ]
  },
  {
   "cell_type": "markdown",
   "id": "f925d36c-603b-4d3d-bd7c-e585cd09d0ab",
   "metadata": {},
   "source": [
    "First let's just map 5 genes so that we can display the output and see what it looks like"
   ]
  },
  {
   "cell_type": "code",
   "execution_count": 31,
   "id": "f6d5b0d1-353b-42fa-a0bf-6baf5eaac714",
   "metadata": {},
   "outputs": [
    {
     "name": "stdout",
     "output_type": "stream",
     "text": [
      "[\n",
      "  \"ENSG00000187735\",\n",
      "  \"ENSG00000147509\",\n",
      "  \"ortholog:UNMAPPABLE_NO_MATCH_0\",\n",
      "  \"ENSG00000047249\",\n",
      "  \"ENSG00000082556\",\n",
      "  \"symbol:NCBI:UNMAPPABLE_NO_MATCH_0\"\n",
      "]\n"
     ]
    }
   ],
   "source": [
    "test_orthologs = gene_mapper.map_genes(\n",
    "    dst_authority='ENSEMBL',\n",
    "    dst_species='human',\n",
    "    gene_list=list(wmb_ncbi['gene_list'][10:15]) + ['not_an_actual_gene']\n",
    ")\n",
    "print(json.dumps(test_orthologs['gene_list'], indent=2))"
   ]
  },
  {
   "cell_type": "markdown",
   "id": "8f91cd2c-6fee-40ef-95d3-42a700dde6b3",
   "metadata": {},
   "source": [
    "Now let's map all 24,000 genes and see how long that takes"
   ]
  },
  {
   "cell_type": "code",
   "execution_count": null,
   "id": "2ff5fd99-4d32-4a27-962a-6458c8116671",
   "metadata": {},
   "outputs": [],
   "source": []
  },
  {
   "cell_type": "code",
   "execution_count": null,
   "id": "40aacfd2-8a6a-47d7-bddc-c7a2f72a2c4d",
   "metadata": {},
   "outputs": [],
   "source": []
  },
  {
   "cell_type": "code",
   "execution_count": 32,
   "id": "f70b0ce1-694d-42ea-907c-18f68d6ffc62",
   "metadata": {},
   "outputs": [
    {
     "name": "stdout",
     "output_type": "stream",
     "text": [
      "mapping 32285 orthologs took 2.45e+01 seconds\n",
      "16459 genes had orthologs\n"
     ]
    }
   ],
   "source": [
    "t0 = time.time()\n",
    "wmb_to_whb_orthologs = gene_mapper.map_genes(\n",
    "    dst_authority='ENSEMBL',\n",
    "    dst_species='human',\n",
    "    gene_list=wmb_ncbi['gene_list']\n",
    ")\n",
    "dur = time.time()-t0\n",
    "print(f'mapping {len(wmb_ncbi['gene_list'])} orthologs took {dur:.2e} seconds')\n",
    "n_mapped = 0\n",
    "for k in wmb_to_whb_orthologs['gene_list']:\n",
    "    if 'UNMAPPABLE' not in k:\n",
    "        n_mapped += 1\n",
    "print(f'{n_mapped} genes had orthologs')\n"
   ]
  },
  {
   "cell_type": "code",
   "execution_count": 33,
   "id": "9cc34e39-8222-4552-8b0a-2f9c5efc9ef7",
   "metadata": {},
   "outputs": [
    {
     "name": "stdout",
     "output_type": "stream",
     "text": [
      "[\n",
      "  {\n",
      "    \"mapping\": {\n",
      "      \"axis\": \"authority\",\n",
      "      \"from\": \"symbol\",\n",
      "      \"to\": \"NCBI\"\n",
      "    },\n",
      "    \"citation\": {\n",
      "      \"name\": \"NCBI\",\n",
      "      \"metadata\": {\n",
      "        \"gene_info.gz\": {\n",
      "          \"host\": \"ftp.ncbi.nlm.nih.gov\",\n",
      "          \"src_path\": \"gene/DATA/gene_info.gz\",\n",
      "          \"hash\": \"md5:1465f53bf21ce2ef2857ef24b66fddea\",\n",
      "          \"downloaded_on\": \"2025-07-14-17-19-10\"\n",
      "        },\n",
      "        \"gene2ensembl.gz\": {\n",
      "          \"host\": \"ftp.ncbi.nlm.nih.gov\",\n",
      "          \"src_path\": \"gene/DATA/gene2ensembl.gz\",\n",
      "          \"hash\": \"md5:5437827625a151f72e4aac5c38443c66\",\n",
      "          \"downloaded_on\": \"2025-04-22-00-18-54\"\n",
      "        },\n",
      "        \"gene_orthologs.gz\": {\n",
      "          \"host\": \"ftp.ncbi.nlm.nih.gov\",\n",
      "          \"src_path\": \"gene/DATA/gene_orthologs.gz\",\n",
      "          \"hash\": \"md5:4fedb187701012fb23fd9707b36c9c3e\",\n",
      "          \"downloaded_on\": \"2025-07-14-17-19-34\"\n",
      "        }\n",
      "      }\n",
      "    }\n",
      "  },\n",
      "  {\n",
      "    \"mapping\": {\n",
      "      \"axis\": \"species\",\n",
      "      \"from\": {\n",
      "        \"name\": \"Balb/c mouse\",\n",
      "        \"taxon\": 10090\n",
      "      },\n",
      "      \"to\": {\n",
      "        \"name\": \"human\",\n",
      "        \"taxon\": 9606\n",
      "      }\n",
      "    },\n",
      "    \"citation\": {\n",
      "      \"gene_info.gz\": {\n",
      "        \"host\": \"ftp.ncbi.nlm.nih.gov\",\n",
      "        \"src_path\": \"gene/DATA/gene_info.gz\",\n",
      "        \"hash\": \"md5:1465f53bf21ce2ef2857ef24b66fddea\",\n",
      "        \"downloaded_on\": \"2025-07-14-17-19-10\"\n",
      "      },\n",
      "      \"gene2ensembl.gz\": {\n",
      "        \"host\": \"ftp.ncbi.nlm.nih.gov\",\n",
      "        \"src_path\": \"gene/DATA/gene2ensembl.gz\",\n",
      "        \"hash\": \"md5:5437827625a151f72e4aac5c38443c66\",\n",
      "        \"downloaded_on\": \"2025-04-22-00-18-54\"\n",
      "      },\n",
      "      \"gene_orthologs.gz\": {\n",
      "        \"host\": \"ftp.ncbi.nlm.nih.gov\",\n",
      "        \"src_path\": \"gene/DATA/gene_orthologs.gz\",\n",
      "        \"hash\": \"md5:4fedb187701012fb23fd9707b36c9c3e\",\n",
      "        \"downloaded_on\": \"2025-07-14-17-19-34\"\n",
      "      }\n",
      "    }\n",
      "  },\n",
      "  {\n",
      "    \"mapping\": {\n",
      "      \"axis\": \"authority\",\n",
      "      \"from\": \"NCBI\",\n",
      "      \"to\": \"ENSEMBL\"\n",
      "    },\n",
      "    \"citation\": {\n",
      "      \"name\": \"NCBI\",\n",
      "      \"metadata\": {\n",
      "        \"gene_info.gz\": {\n",
      "          \"host\": \"ftp.ncbi.nlm.nih.gov\",\n",
      "          \"src_path\": \"gene/DATA/gene_info.gz\",\n",
      "          \"hash\": \"md5:1465f53bf21ce2ef2857ef24b66fddea\",\n",
      "          \"downloaded_on\": \"2025-07-14-17-19-10\"\n",
      "        },\n",
      "        \"gene2ensembl.gz\": {\n",
      "          \"host\": \"ftp.ncbi.nlm.nih.gov\",\n",
      "          \"src_path\": \"gene/DATA/gene2ensembl.gz\",\n",
      "          \"hash\": \"md5:5437827625a151f72e4aac5c38443c66\",\n",
      "          \"downloaded_on\": \"2025-04-22-00-18-54\"\n",
      "        },\n",
      "        \"gene_orthologs.gz\": {\n",
      "          \"host\": \"ftp.ncbi.nlm.nih.gov\",\n",
      "          \"src_path\": \"gene/DATA/gene_orthologs.gz\",\n",
      "          \"hash\": \"md5:4fedb187701012fb23fd9707b36c9c3e\",\n",
      "          \"downloaded_on\": \"2025-07-14-17-19-34\"\n",
      "        }\n",
      "      }\n",
      "    }\n",
      "  }\n",
      "]\n"
     ]
    }
   ],
   "source": [
    "print(json.dumps(wmb_to_whb_orthologs['metadata'], indent=2))"
   ]
  },
  {
   "cell_type": "markdown",
   "id": "6ab77854-a424-417b-95fe-b6bd33d224f1",
   "metadata": {},
   "source": [
    "To map orthologs using the \"by-hand\" look up table created by our science team, change the kwarg `citation='HMBA'`"
   ]
  },
  {
   "cell_type": "code",
   "execution_count": 35,
   "id": "67551f79-568a-48ff-9f1e-3ce18676167e",
   "metadata": {},
   "outputs": [],
   "source": [
    "#t0 = time.time()\n",
    "#wmb_to_whb_orthologs_hmba = gene_mapper.map_genes(\n",
    "#    dst_authority='NCBI',\n",
    "#    dst_species='human',\n",
    "#    gene_list=wmb_ncbi['gene_list'],\n",
    "#    ortholog_citation='HMBA'\n",
    "#)\n",
    "#dur = time.time()-t0\n",
    "#print(f'mapping {len(wmb_ncbi[\"gene_list\"])} orthologs took {dur:.2e} seconds')\n",
    "#n_mapped = 0\n",
    "#for k in wmb_to_whb_orthologs_hmba['gene_list']:\n",
    "#    if 'UNMAPPABLE' not in k:\n",
    "#            n_mapped += 1\n",
    "#print(f'{n_mapped} genes had orthologs')\n"
   ]
  },
  {
   "cell_type": "markdown",
   "id": "24c6b414-f695-4f60-8129-ad8e043b2a08",
   "metadata": {},
   "source": [
    "#### Map from mouse to naked mole rat\n",
    "\n",
    "Now, inspired by a recent community forum post, let's take our mouse marker genes, convert them into NCBI identifiers, and finally convert those in to naked mole rat orthologs."
   ]
  },
  {
   "cell_type": "code",
   "execution_count": 36,
   "id": "e5177766-aacb-4f1c-8998-474530c890f0",
   "metadata": {},
   "outputs": [
    {
     "name": "stdout",
     "output_type": "stream",
     "text": [
      "mapping took 6.75e+00 seconds\n",
      "5048 genes of 6558 had orthologs\n",
      "['ENSMUSG00000000028', 'ENSMUSG00000000037', 'ENSMUSG00000000056', 'ENSMUSG00000000058', 'ENSMUSG00000000078']\n",
      "['ENSHGLG00000015159', 'NCBI:ENSEMBL:UNMAPPABLE_NO_MATCH_0', 'ENSHGLG00000008789', 'ENSHGLG00000002962', 'ENSHGLG00000007077']\n"
     ]
    }
   ],
   "source": [
    "t0 = time.time()\n",
    "\n",
    "naked_mole_rat = gene_mapper.map_genes(\n",
    "    dst_authority='ENSEMBL',\n",
    "    dst_species='naked mole rat',\n",
    "    gene_list=marker_genes,\n",
    "    ortholog_citation='NCBI'\n",
    ")\n",
    "\n",
    "dur = time.time()-t0\n",
    "print(f\"mapping took {dur:.2e} seconds\")\n",
    "n_mapped = 0\n",
    "for g in naked_mole_rat['gene_list']:\n",
    "    if 'UNMAPPABLE' not in g:\n",
    "        n_mapped += 1\n",
    "print(f\"{n_mapped} genes of {len(marker_genes)} had orthologs\")\n",
    "print(marker_genes[:5])\n",
    "print(naked_mole_rat['gene_list'][:5])"
   ]
  },
  {
   "cell_type": "markdown",
   "id": "8773ade5-5760-48a5-a4b6-cc61d30f9666",
   "metadata": {},
   "source": [
    "Here is the metadata for the naked mole rat ortholog mapping"
   ]
  },
  {
   "cell_type": "code",
   "execution_count": 37,
   "id": "ef0a81ca-e857-4896-affc-4e20dd202088",
   "metadata": {},
   "outputs": [
    {
     "name": "stdout",
     "output_type": "stream",
     "text": [
      "[\n",
      "  {\n",
      "    \"mapping\": {\n",
      "      \"axis\": \"authority\",\n",
      "      \"from\": \"ENSEMBL\",\n",
      "      \"to\": \"NCBI\"\n",
      "    },\n",
      "    \"citation\": {\n",
      "      \"name\": \"NCBI\",\n",
      "      \"metadata\": {\n",
      "        \"gene_info.gz\": {\n",
      "          \"host\": \"ftp.ncbi.nlm.nih.gov\",\n",
      "          \"src_path\": \"gene/DATA/gene_info.gz\",\n",
      "          \"hash\": \"md5:1465f53bf21ce2ef2857ef24b66fddea\",\n",
      "          \"downloaded_on\": \"2025-07-14-17-19-10\"\n",
      "        },\n",
      "        \"gene2ensembl.gz\": {\n",
      "          \"host\": \"ftp.ncbi.nlm.nih.gov\",\n",
      "          \"src_path\": \"gene/DATA/gene2ensembl.gz\",\n",
      "          \"hash\": \"md5:5437827625a151f72e4aac5c38443c66\",\n",
      "          \"downloaded_on\": \"2025-04-22-00-18-54\"\n",
      "        },\n",
      "        \"gene_orthologs.gz\": {\n",
      "          \"host\": \"ftp.ncbi.nlm.nih.gov\",\n",
      "          \"src_path\": \"gene/DATA/gene_orthologs.gz\",\n",
      "          \"hash\": \"md5:4fedb187701012fb23fd9707b36c9c3e\",\n",
      "          \"downloaded_on\": \"2025-07-14-17-19-34\"\n",
      "        }\n",
      "      }\n",
      "    }\n",
      "  },\n",
      "  {\n",
      "    \"mapping\": {\n",
      "      \"axis\": \"species\",\n",
      "      \"from\": {\n",
      "        \"name\": \"Balb/c mouse\",\n",
      "        \"taxon\": 10090\n",
      "      },\n",
      "      \"to\": {\n",
      "        \"name\": \"naked mole rat\",\n",
      "        \"taxon\": 10181\n",
      "      }\n",
      "    },\n",
      "    \"citation\": {\n",
      "      \"gene_info.gz\": {\n",
      "        \"host\": \"ftp.ncbi.nlm.nih.gov\",\n",
      "        \"src_path\": \"gene/DATA/gene_info.gz\",\n",
      "        \"hash\": \"md5:1465f53bf21ce2ef2857ef24b66fddea\",\n",
      "        \"downloaded_on\": \"2025-07-14-17-19-10\"\n",
      "      },\n",
      "      \"gene2ensembl.gz\": {\n",
      "        \"host\": \"ftp.ncbi.nlm.nih.gov\",\n",
      "        \"src_path\": \"gene/DATA/gene2ensembl.gz\",\n",
      "        \"hash\": \"md5:5437827625a151f72e4aac5c38443c66\",\n",
      "        \"downloaded_on\": \"2025-04-22-00-18-54\"\n",
      "      },\n",
      "      \"gene_orthologs.gz\": {\n",
      "        \"host\": \"ftp.ncbi.nlm.nih.gov\",\n",
      "        \"src_path\": \"gene/DATA/gene_orthologs.gz\",\n",
      "        \"hash\": \"md5:4fedb187701012fb23fd9707b36c9c3e\",\n",
      "        \"downloaded_on\": \"2025-07-14-17-19-34\"\n",
      "      }\n",
      "    }\n",
      "  },\n",
      "  {\n",
      "    \"mapping\": {\n",
      "      \"axis\": \"authority\",\n",
      "      \"from\": \"NCBI\",\n",
      "      \"to\": \"ENSEMBL\"\n",
      "    },\n",
      "    \"citation\": {\n",
      "      \"name\": \"NCBI\",\n",
      "      \"metadata\": {\n",
      "        \"gene_info.gz\": {\n",
      "          \"host\": \"ftp.ncbi.nlm.nih.gov\",\n",
      "          \"src_path\": \"gene/DATA/gene_info.gz\",\n",
      "          \"hash\": \"md5:1465f53bf21ce2ef2857ef24b66fddea\",\n",
      "          \"downloaded_on\": \"2025-07-14-17-19-10\"\n",
      "        },\n",
      "        \"gene2ensembl.gz\": {\n",
      "          \"host\": \"ftp.ncbi.nlm.nih.gov\",\n",
      "          \"src_path\": \"gene/DATA/gene2ensembl.gz\",\n",
      "          \"hash\": \"md5:5437827625a151f72e4aac5c38443c66\",\n",
      "          \"downloaded_on\": \"2025-04-22-00-18-54\"\n",
      "        },\n",
      "        \"gene_orthologs.gz\": {\n",
      "          \"host\": \"ftp.ncbi.nlm.nih.gov\",\n",
      "          \"src_path\": \"gene/DATA/gene_orthologs.gz\",\n",
      "          \"hash\": \"md5:4fedb187701012fb23fd9707b36c9c3e\",\n",
      "          \"downloaded_on\": \"2025-07-14-17-19-34\"\n",
      "        }\n",
      "      }\n",
      "    }\n",
      "  }\n",
      "]\n"
     ]
    }
   ],
   "source": [
    "print(json.dumps(naked_mole_rat['metadata'], indent=2))"
   ]
  },
  {
   "cell_type": "code",
   "execution_count": null,
   "id": "620829de-0ca5-49af-9942-aa2cba055d2a",
   "metadata": {},
   "outputs": [],
   "source": []
  }
 ],
 "metadata": {
  "kernelspec": {
   "display_name": "Python 3 (ipykernel)",
   "language": "python",
   "name": "python3"
  },
  "language_info": {
   "codemirror_mode": {
    "name": "ipython",
    "version": 3
   },
   "file_extension": ".py",
   "mimetype": "text/x-python",
   "name": "python",
   "nbconvert_exporter": "python",
   "pygments_lexer": "ipython3",
   "version": "3.12.9"
  }
 },
 "nbformat": 4,
 "nbformat_minor": 5
}
