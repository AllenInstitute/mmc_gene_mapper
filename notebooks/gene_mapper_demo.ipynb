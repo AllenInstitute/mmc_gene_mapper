{
 "cells": [
  {
   "cell_type": "markdown",
   "id": "db47bb03-b787-4cf7-9203-352dc7eb6ecd",
   "metadata": {},
   "source": [
    "The purpose of this notebook is to demonstrate the prototype gene mapper library put together to generalize the processes of\n",
    "\n",
    "- Mapping gene symbols to gene identifiers\n",
    "- Mapping gene identifiers across authorities (NCBI, ENSEMBL, etc.)\n",
    "- Mapping genes in one species to ortholog genes in another species\n",
    "\n",
    "for MapMyCells.\n",
    "\n",
    "In addition to the `mmc_gene_mapper` codebase and its dependencies, this notebook depends on the `abc_atlas_access` tool, though only for downloading metadata to simulate mapping 10s of thousands of genes at once (as we would with real user data)."
   ]
  },
  {
   "cell_type": "markdown",
   "id": "9aa87849-b621-4dff-b1b7-3d1bf8e87995",
   "metadata": {},
   "source": [
    "## Setup"
   ]
  },
  {
   "cell_type": "code",
   "execution_count": 1,
   "id": "de6c8e20-d464-4151-b975-fe82d4014fec",
   "metadata": {},
   "outputs": [
    {
     "name": "stderr",
     "output_type": "stream",
     "text": [
      "/Users/scott.daniel/miniconda3/envs/gene_mapper/lib/python3.12/site-packages/bkbit/data_translators/genome_annotation_translator.py:67: UserWarning: pkg_resources is deprecated as an API. See https://setuptools.pypa.io/en/latest/pkg_resources.html. The pkg_resources package is slated for removal as early as 2025-11-30. Refrain from using this package or pin to Setuptools<81.\n",
      "  import pkg_resources\n"
     ]
    }
   ],
   "source": [
    "import h5py\n",
    "import json\n",
    "import pathlib\n",
    "import subprocess\n",
    "import sqlite3\n",
    "import time\n",
    "\n",
    "import abc_atlas_access.abc_atlas_cache.abc_project_cache as abc_cache_library\n",
    "\n",
    "import mmc_gene_mapper\n",
    "import mmc_gene_mapper.utils.timestamp as timestamp\n",
    "import mmc_gene_mapper.utils.file_utils as file_utils\n",
    "import mmc_gene_mapper.ensembl_download.scraper as ensembl_scraper\n",
    "import mmc_gene_mapper.mapper.mapper as mapper\n",
    "import mmc_gene_mapper.cli.create_db_file as create_db_file"
   ]
  },
  {
   "cell_type": "code",
   "execution_count": 2,
   "id": "7351d2c5-f2fb-4446-8586-c9c2e25e9947",
   "metadata": {},
   "outputs": [
    {
     "name": "stderr",
     "output_type": "stream",
     "text": [
      "/Users/scott.daniel/miniconda3/envs/gene_mapper/lib/python3.12/site-packages/abc_atlas_access/abc_atlas_cache/cloud_cache.py:630: OutdatedManifestWarning: You are loading releases/20250331/manifest.json. A more up to date version of the dataset -- releases/20250531/manifest.json -- exists online. To see the changes between the two versions of the dataset, run\n",
      "type.compare_manifests('releases/20250331/manifest.json', 'releases/20250531/manifest.json')\n",
      "To load another version of the dataset, run\n",
      "type.load_manifest('releases/20250531/manifest.json')\n",
      "  warnings.warn(msg, OutdatedManifestWarning)\n"
     ]
    }
   ],
   "source": [
    "abc_cache = abc_cache_library.AbcProjectCache.from_cache_dir('../data/abc_cache')"
   ]
  },
  {
   "cell_type": "code",
   "execution_count": 3,
   "id": "720a2f1f-34d6-42c7-a29a-5a28002d3d95",
   "metadata": {},
   "outputs": [],
   "source": [
    "data_dir = pathlib.Path(\n",
    "    mmc_gene_mapper.__file__).parent.parent.parent / \"data\"\n",
    "assert data_dir.is_dir()"
   ]
  },
  {
   "cell_type": "code",
   "execution_count": 4,
   "id": "cd3b6d12-9a81-4585-9955-1343acb0fb05",
   "metadata": {},
   "outputs": [],
   "source": [
    "db_path = data_dir/\"gene_mapper_example.db\"\n",
    "assert db_path.parent.is_dir()"
   ]
  },
  {
   "cell_type": "markdown",
   "id": "15278a0d-49a3-4942-8d12-dc52e366b70b",
   "metadata": {},
   "source": [
    "Below we instantiate the class that is used to actually do the mapping. The first time you run the cell, it will take ~ 2 hours as it downloads data from NCBI and ENSEMBL and ingests that data, alongside the local data from the cell above, to create an ~ 15 GB sqlite database that backs the mapping process.\n",
    "\n",
    "As long as you do not move the file that is created (see `gene_mapper.db_path` below), you will not have to recreate that database on subsequent uses.\n",
    "\n",
    "**Note:** running this cell will also produce some warnings about genes that could not be ingested into the ortholog tables. These are due to genes in the ortholog table that have been deprecated by NCBI since the ortholog table (especially our by-hand HMBA ortholog table) was generated, meaning the gene mapper cannot connect them to species. We will have to think about how to handle versioning mismatches of this sort."
   ]
  },
  {
   "cell_type": "code",
   "execution_count": 5,
   "id": "3123694f-af49-49e9-aa15-8360b10baf2a",
   "metadata": {
    "scrolled": true
   },
   "outputs": [],
   "source": [
    "if not db_path.is_file():\n",
    "    create_db_file.create_db_file(\n",
    "        db_path=db_path,\n",
    "        local_dir=data_dir/timestamp.get_timestamp(),\n",
    "        ensembl_versoin=114,\n",
    "        suppress_download_stdout=True,\n",
    "        clobber=False\n",
    "    )\n",
    "gene_mapper = mapper.MMCGeneMapper(\n",
    "    db_path=db_path\n",
    ")"
   ]
  },
  {
   "cell_type": "code",
   "execution_count": 6,
   "id": "3f1a2daf-3fad-40bf-b5e2-2478c8caef22",
   "metadata": {},
   "outputs": [
    {
     "data": {
      "text/plain": [
       "PosixPath('/Users/scott.daniel/KnowledgeEngineering/mmc_gene_mapper/data/gene_mapper_example.db')"
      ]
     },
     "execution_count": 6,
     "metadata": {},
     "output_type": "execute_result"
    }
   ],
   "source": [
    "gene_mapper.db_path"
   ]
  },
  {
   "cell_type": "markdown",
   "id": "3a5dede0-3fb4-4b04-88c4-b104659c7be5",
   "metadata": {},
   "source": [
    "## Contents of the database backing the mapper\n",
    "\n",
    "The database backing the `gene_mapper` contains the following tables\n",
    "\n",
    "### Metadata tables\n",
    "\n",
    "#### authority\n",
    "The `authority` table just tracks the gene identifying authorities the database knows about (i.e. ENSEMBL and NCBI). it consists of the columns\n",
    "\n",
    "- id -- an integer used for internal indexing\n",
    "- name -- the human-readable name of the authority\n",
    "\n",
    "#### citation\n",
    "The `citation` table tracks all of the datasets used to justify the various mappings (symbol-to-identifier, ENSEMBL-to-NCBI, orthologs, etc.). It consists of the columns\n",
    "\n",
    "- id -- an integer used for internal indexing\n",
    "- name -- a short, human-readable name for the citation (this will be used whenever you have to specify a citation when calling the `gene_mapper`'s methods\n",
    "- metadata -- a JSON serialized dict containing whatever information is necessary to recreate or specify the data backing this citation. This is a very free-form column as different entries will be specified in different ways (see below)"
   ]
  },
  {
   "cell_type": "markdown",
   "id": "cd687385-71d0-4a32-9511-5e8ec5dce2d1",
   "metadata": {},
   "source": [
    "We can list the available authorities like so"
   ]
  },
  {
   "cell_type": "code",
   "execution_count": 7,
   "id": "8aed469a-a7ef-4650-b502-e68731ce3166",
   "metadata": {},
   "outputs": [
    {
     "name": "stdout",
     "output_type": "stream",
     "text": [
      "['NCBI', 'ENSEMBL']\n"
     ]
    }
   ],
   "source": [
    "authority_list = gene_mapper.get_all_authorities()\n",
    "print(authority_list)"
   ]
  },
  {
   "cell_type": "markdown",
   "id": "d7cc1581-fbb9-4716-9089-1b386d8a52ad",
   "metadata": {},
   "source": [
    "Similarly, we can list the available citations."
   ]
  },
  {
   "cell_type": "code",
   "execution_count": 8,
   "id": "d7b988a9-1942-43d0-93f5-ae3f213fc766",
   "metadata": {},
   "outputs": [
    {
     "name": "stdout",
     "output_type": "stream",
     "text": [
      "['NCBI', 'ENSEMBL-9606-101', 'ENSEMBL-10090-98', 'ENSEMBL-80966-114', 'ENSEMBL-211598-114', 'ENSEMBL-9646-114', 'ENSEMBL-241587-114', 'ENSEMBL-61819-114', 'ENSEMBL-80972-114', 'ENSEMBL-161767-114', 'ENSEMBL-64144-114', 'ENSEMBL-8839-114', 'ENSEMBL-8840-114', 'ENSEMBL-75864-114', 'ENSEMBL-28377-114', 'ENSEMBL-132585-114', 'ENSEMBL-8845-114', 'ENSEMBL-37293-114', 'ENSEMBL-8823-114', 'ENSEMBL-8824-114', 'ENSEMBL-308060-114', 'ENSEMBL-8154-114', 'ENSEMBL-7994-114', 'ENSEMBL-194338-114', 'ENSEMBL-9771-114', 'ENSEMBL-158456-114', 'ENSEMBL-30521-114', 'ENSEMBL-72004-114', 'ENSEMBL-9913-114', 'ENSEMBL-30461-114', 'ENSEMBL-198806-114', 'ENSEMBL-425635-114', 'ENSEMBL-9483-114', 'ENSEMBL-7868-114', 'ENSEMBL-9838-114', 'ENSEMBL-286419-114', 'ENSEMBL-9615-114', 'ENSEMBL-9925-114', 'ENSEMBL-7957-114', 'ENSEMBL-1868482-114', 'ENSEMBL-51338-114', 'ENSEMBL-51154-114', 'ENSEMBL-91951-114', 'ENSEMBL-37548-114', 'ENSEMBL-10141-114', 'ENSEMBL-2715852-114', 'ENSEMBL-9531-114', 'ENSEMBL-84702-114', 'ENSEMBL-106734-114', 'ENSEMBL-8475-114', 'ENSEMBL-34839-114', 'ENSEMBL-60711-114', 'ENSEMBL-9358-114', 'ENSEMBL-8478-114', 'ENSEMBL-9089-114', 'ENSEMBL-7719-114', 'ENSEMBL-51511-114', 'ENSEMBL-7950-114', 'ENSEMBL-1196302-114', 'ENSEMBL-93934-114', 'ENSEMBL-8502-114', 'ENSEMBL-156563-114', 'ENSEMBL-8103-114', 'ENSEMBL-244447-114', 'ENSEMBL-28743-114', 'ENSEMBL-7955-114', 'ENSEMBL-9361-114', 'ENSEMBL-9749-114', 'ENSEMBL-299321-114', 'ENSEMBL-13489-114', 'ENSEMBL-10020-114', 'ENSEMBL-8790-114', 'ENSEMBL-7227-114', 'ENSEMBL-173247-114', 'ENSEMBL-9371-114', 'ENSEMBL-8005-114', 'ENSEMBL-7764-114', 'ENSEMBL-9793-114', 'ENSEMBL-9796-114', 'ENSEMBL-9365-114', 'ENSEMBL-27687-114', 'ENSEMBL-8010-114', 'ENSEMBL-100819-114', 'ENSEMBL-9685-114', 'ENSEMBL-59894-114', 'ENSEMBL-885580-114', 'ENSEMBL-8078-114', 'ENSEMBL-8049-114', 'ENSEMBL-9031-114', 'ENSEMBL-33528-114', 'ENSEMBL-69293-114', 'ENSEMBL-48883-114', 'ENSEMBL-38772-114', 'ENSEMBL-1825980-114', 'ENSEMBL-9593-114', 'ENSEMBL-441366-114', 'ENSEMBL-8153-114', 'ENSEMBL-109280-114', 'ENSEMBL-62062-114', 'ENSEMBL-7998-114', 'ENSEMBL-43179-114', 'ENSEMBL-51337-114', 'ENSEMBL-40217-114', 'ENSEMBL-37003-114', 'ENSEMBL-56723-114', 'ENSEMBL-215358-114', 'ENSEMBL-8187-114', 'ENSEMBL-8630-114', 'ENSEMBL-7897-114', 'ENSEMBL-321398-114', 'ENSEMBL-7918-114', 'ENSEMBL-445787-114', 'ENSEMBL-9785-114', 'ENSEMBL-61383-114', 'ENSEMBL-9541-114', 'ENSEMBL-9544-114', 'ENSEMBL-9545-114', 'ENSEMBL-328815-114', 'ENSEMBL-9568-114', 'ENSEMBL-9994-114', 'ENSEMBL-205130-114', 'ENSEMBL-106582-114', 'ENSEMBL-9103-114', 'ENSEMBL-13146-114', 'ENSEMBL-10047-114', 'ENSEMBL-10036-114', 'ENSEMBL-30608-114', 'ENSEMBL-79684-114', 'ENSEMBL-94237-114', 'ENSEMBL-13616-114', 'ENSEMBL-40151-114', 'ENSEMBL-43700-114', 'ENSEMBL-68415-114', 'ENSEMBL-10089-114', 'ENSEMBL-10093-114', 'ENSEMBL-10103-114', 'ENSEMBL-10096-114', 'ENSEMBL-9669-114', 'ENSEMBL-59463-114', 'ENSEMBL-586833-114', 'ENSEMBL-35670-114', 'ENSEMBL-1026970-114', 'ENSEMBL-47308-114', 'ENSEMBL-61853-114', 'ENSEMBL-9315-114', 'ENSEMBL-8663-114', 'ENSEMBL-105023-114', 'ENSEMBL-8996-114', 'ENSEMBL-9978-114', 'ENSEMBL-10160-114', 'ENSEMBL-8019-114', 'ENSEMBL-8022-114', 'ENSEMBL-74940-114', 'ENSEMBL-8128-114', 'ENSEMBL-9258-114', 'ENSEMBL-9986-114', 'ENSEMBL-123683-114', 'ENSEMBL-8090-114', 'ENSEMBL-30732-114', 'ENSEMBL-183150-114', 'ENSEMBL-30611-114', 'ENSEMBL-257818-114', 'ENSEMBL-9940-114', 'ENSEMBL-9597-114', 'ENSEMBL-9598-114', 'ENSEMBL-9689-114', 'ENSEMBL-9691-114', 'ENSEMBL-74533-114', 'ENSEMBL-9555-114', 'ENSEMBL-210632-114', 'ENSEMBL-9157-114', 'ENSEMBL-9049-114', 'ENSEMBL-13735-114', 'ENSEMBL-367368-114', 'ENSEMBL-230844-114', 'ENSEMBL-7757-114', 'ENSEMBL-38626-114', 'ENSEMBL-9054-114', 'ENSEMBL-42100-114', 'ENSEMBL-591936-114', 'ENSEMBL-64176-114', 'ENSEMBL-48698-114', 'ENSEMBL-48699-114', 'ENSEMBL-8081-114', 'ENSEMBL-103695-114', 'ENSEMBL-9601-114', 'ENSEMBL-9813-114', 'ENSEMBL-1328070-114', 'ENSEMBL-379532-114', 'ENSEMBL-132908-114', 'ENSEMBL-42514-114', 'ENSEMBL-10116-114', 'ENSEMBL-59479-114', 'ENSEMBL-61621-114', 'ENSEMBL-61622-114', 'ENSEMBL-4932-114', 'ENSEMBL-39432-114', 'ENSEMBL-181472-114', 'ENSEMBL-8030-114', 'ENSEMBL-8032-114', 'ENSEMBL-96440-114', 'ENSEMBL-283035-114', 'ENSEMBL-9305-114', 'ENSEMBL-55149-114', 'ENSEMBL-113540-114', 'ENSEMBL-52904-114', 'ENSEMBL-9135-114', 'ENSEMBL-41447-114', 'ENSEMBL-42254-114', 'ENSEMBL-8175-114', 'ENSEMBL-99837-114', 'ENSEMBL-375764-114', 'ENSEMBL-8508-114', 'ENSEMBL-144197-114', 'ENSEMBL-2489341-114', 'ENSEMBL-311401-114', 'ENSEMBL-37032-114', 'ENSEMBL-9823-114', 'ENSEMBL-59729-114', 'ENSEMBL-31033-114', 'ENSEMBL-99883-114', 'ENSEMBL-9565-114', 'ENSEMBL-37347-114', 'ENSEMBL-9739-114', 'ENSEMBL-9999-114', 'ENSEMBL-9643-114', 'ENSEMBL-29073-114', 'ENSEMBL-61221-114', 'ENSEMBL-30538-114', 'ENSEMBL-29139-114', 'ENSEMBL-9627-114', 'ENSEMBL-8364-114', 'ENSEMBL-32473-114', 'ENSEMBL-8083-114', 'ENSEMBL-9704-114', 'ENSEMBL-44394-114']\n"
     ]
    }
   ],
   "source": [
    "citation_list = gene_mapper.get_all_citations()\n",
    "print([c['name'] for c in citation_list])"
   ]
  },
  {
   "cell_type": "markdown",
   "id": "1a0ff8ea-e421-42aa-a4a3-debf3e2aae0a",
   "metadata": {},
   "source": [
    "As mentioned above, different citations contain different metadata. For instance, the `NCBI` citation (referring to the data downloaded from the NCBI FTP server) contains a list of the files downloaded their hashes, and the date they were downloaded on (NCBI updates its FTP server daily; it's not clear that they keep readily available version information around, though we can certainly investigate that). This is what the `NCBI` citation metadata looks like:"
   ]
  },
  {
   "cell_type": "code",
   "execution_count": 9,
   "id": "574f35ac-fc92-4ac2-9768-67c92c2d9089",
   "metadata": {},
   "outputs": [
    {
     "name": "stdout",
     "output_type": "stream",
     "text": [
      "{\n",
      "  \"name\": \"NCBI\",\n",
      "  \"metadata\": {\n",
      "    \"gene_info.gz\": {\n",
      "      \"host\": \"ftp.ncbi.nlm.nih.gov\",\n",
      "      \"src_path\": \"gene/DATA/gene_info.gz\",\n",
      "      \"hash\": \"md5:932969426286efd0114db1c7b7a0a9b2\",\n",
      "      \"downloaded_on\": \"2025-07-25-16-52-21\"\n",
      "    },\n",
      "    \"gene2ensembl.gz\": {\n",
      "      \"host\": \"ftp.ncbi.nlm.nih.gov\",\n",
      "      \"src_path\": \"gene/DATA/gene2ensembl.gz\",\n",
      "      \"hash\": \"md5:181c1cb0feac8aa8cb45b98fa7a758a0\",\n",
      "      \"downloaded_on\": \"2025-07-25-16-53-39\"\n",
      "    },\n",
      "    \"gene_orthologs.gz\": {\n",
      "      \"host\": \"ftp.ncbi.nlm.nih.gov\",\n",
      "      \"src_path\": \"gene/DATA/gene_orthologs.gz\",\n",
      "      \"hash\": \"md5:744c66facf3775f54bd6d82b468af89d\",\n",
      "      \"downloaded_on\": \"2025-07-25-16-54-10\"\n",
      "    }\n",
      "  }\n",
      "}\n"
     ]
    }
   ],
   "source": [
    "for citation in citation_list:\n",
    "    if citation['name'] == 'NCBI':\n",
    "        print(json.dumps(citation, indent=2))"
   ]
  },
  {
   "cell_type": "markdown",
   "id": "2e33b8b7-145d-45ae-b3eb-b889bdd38ed2",
   "metadata": {},
   "source": [
    "The citations based on BICAN bkbit files, contain all of the GenomeAnnotation and GenomeAssembly information in those files."
   ]
  },
  {
   "cell_type": "code",
   "execution_count": 10,
   "id": "022f5276-5b36-4242-bcc4-9d49c1ab0e7a",
   "metadata": {},
   "outputs": [
    {
     "name": "stdout",
     "output_type": "stream",
     "text": [
      "{\n",
      "  \"name\": \"ENSEMBL-10090-98\",\n",
      "  \"metadata\": {\n",
      "    \"biolink:OrganismTaxon\": {\n",
      "      \"id\": \"NCBITaxon:10090\",\n",
      "      \"iri\": \"http://purl.obolibrary.org/obo/NCBITaxon_10090\",\n",
      "      \"category\": [\n",
      "        \"biolink:OrganismTaxon\"\n",
      "      ],\n",
      "      \"name\": \"house mouse\",\n",
      "      \"full_name\": \"Mus musculus\"\n",
      "    },\n",
      "    \"bican:GenomeAssembly\": {\n",
      "      \"id\": \"NCBIAssembly:GCF_000001635.26\",\n",
      "      \"category\": [\n",
      "        \"bican:GenomeAssembly\"\n",
      "      ],\n",
      "      \"name\": \"GRCm38\",\n",
      "      \"in_taxon\": [\n",
      "        \"NCBITaxon:10090\"\n",
      "      ],\n",
      "      \"in_taxon_label\": \"Mus musculus\",\n",
      "      \"version\": \"26\"\n",
      "    },\n",
      "    \"bican:GenomeAnnotation\": {\n",
      "      \"id\": \"bican:annotation-ENSEMBL-10090-98\",\n",
      "      \"category\": [\n",
      "        \"bican:GenomeAnnotation\"\n",
      "      ],\n",
      "      \"description\": \"ENSEMBL Mus musculus Annotation Release 98\",\n",
      "      \"in_taxon\": [\n",
      "        \"NCBITaxon:10090\"\n",
      "      ],\n",
      "      \"in_taxon_label\": \"Mus musculus\",\n",
      "      \"version\": \"98\",\n",
      "      \"digest\": [\n",
      "        \"urn:uuid:1696a139-804c-4576-98df-2be64dac34ff\"\n",
      "      ],\n",
      "      \"content_url\": [\n",
      "        \"https://ftp.ensembl.org/pub/release-98/gff3/mus_musculus/Mus_musculus.GRCm38.98.gff3.gz\"\n",
      "      ],\n",
      "      \"authority\": \"ENSEMBL\",\n",
      "      \"reference_assembly\": \"NCBIAssembly:GCF_000001635.26\"\n",
      "    }\n",
      "  }\n",
      "}\n"
     ]
    }
   ],
   "source": [
    "for citation in citation_list:\n",
    "    if citation['name'] == 'ENSEMBL-10090-98':\n",
    "        print(json.dumps(citation, indent=2))"
   ]
  },
  {
   "cell_type": "markdown",
   "id": "4d2ddc70-ac65-47a8-97ed-1143f45dd532",
   "metadata": {},
   "source": [
    "The `HMBA` citation is an ingest of a lookup table created by our science team. As such, it has the least detailed information."
   ]
  },
  {
   "cell_type": "code",
   "execution_count": 11,
   "id": "07020636-8a9f-46ef-bd73-4915d1cdeb61",
   "metadata": {},
   "outputs": [],
   "source": [
    "for citation in citation_list:\n",
    "    if citation['name'] == 'HMBA':\n",
    "        print(json.dumps(citation, indent=2))"
   ]
  },
  {
   "cell_type": "markdown",
   "id": "c8e9c8f1-3011-409c-9e7b-96eb1f1340e4",
   "metadata": {},
   "source": [
    "### Data tables\n",
    "\n",
    "The data tables in the database are\n",
    "\n",
    "#### NCBI_species\n",
    "The `NCBI_species` table just ingests the NCBI organism taxonomy and records\n",
    "- id -- the NCBI taxon ID of the species\n",
    "- name -- the human readable name of the species. **Note:** we record all possible names (\"common\", \"scientific\", etc.) of the species in different rows. That way, users can give us whatever name they have for a species and, if possible, we can return an `id` for cross-referencing with other tables.\n",
    "\n",
    "This is meant to be hidden from the user. The user specifies the species when performing a mapping and the gene_mapper makes the necessary database call. Below, we will make the call \"by hand\", so you can see what is in the database."
   ]
  },
  {
   "cell_type": "code",
   "execution_count": 12,
   "id": "168ce703-d762-4386-a812-0c58e491cd7e",
   "metadata": {},
   "outputs": [
    {
     "name": "stdout",
     "output_type": "stream",
     "text": [
      "house mouse [(10090,)]\n",
      "Mus musculus [(10090,)]\n",
      "mouse [(10088,), (10090,)]\n",
      "human [(9606,)]\n",
      "Homo sapiens [(9606,)]\n"
     ]
    }
   ],
   "source": [
    "with sqlite3.connect(gene_mapper.db_path) as conn:\n",
    "    cursor = conn.cursor()\n",
    "    for name in ('house mouse', 'Mus musculus', 'mouse', 'human', 'Homo sapiens'):\n",
    "        result = cursor.execute(\n",
    "            \"\"\"\n",
    "            SELECT id FROM NCBI_species WHERE name=?\n",
    "            \"\"\",\n",
    "            (name,)\n",
    "        ).fetchall()\n",
    "        print(name,result)"
   ]
  },
  {
   "cell_type": "markdown",
   "id": "14fb7135-5d2a-4cdf-94e0-8bdb1739392e",
   "metadata": {},
   "source": [
    "**Note:** in the case of \"mouse\", there is more than one matching taxon. Calling a mapping with `species=\"mouse\"` will fail."
   ]
  },
  {
   "cell_type": "code",
   "execution_count": 13,
   "id": "6e2ad43d-c270-4d2d-8818-b0d22b7847d3",
   "metadata": {},
   "outputs": [
    {
     "name": "stdout",
     "output_type": "stream",
     "text": [
      "Failed with error message:\n",
      "=======\n",
      "Traceback (most recent call last):\n",
      "  File \"/var/folders/8b/hnw5vq8s20jbpz51wdhd11fr0000gp/T/ipykernel_24531/4200133508.py\", line 5, in <module>\n",
      "    gene_mapper.map_genes(\n",
      "  File \"/Users/scott.daniel/KnowledgeEngineering/mmc_gene_mapper/src/mmc_gene_mapper/mapper/mapper.py\", line 220, in map_genes\n",
      "    dst_species = query_utils.get_species(\n",
      "                  ^^^^^^^^^^^^^^^^^^^^^^^^\n",
      "  File \"/Users/scott.daniel/KnowledgeEngineering/mmc_gene_mapper/src/mmc_gene_mapper/query_db/query.py\", line 35, in get_species\n",
      "    species_taxon = _get_species_taxon(\n",
      "                    ^^^^^^^^^^^^^^^^^^^\n",
      "  File \"/Users/scott.daniel/KnowledgeEngineering/mmc_gene_mapper/src/mmc_gene_mapper/query_db/query.py\", line 87, in _get_species_taxon\n",
      "    raise ValueError(\n",
      "ValueError: 2 species match name mouse\n",
      "[(10088,), (10090,)]\n",
      "\n"
     ]
    }
   ],
   "source": [
    "import traceback\n",
    "\n",
    "mouse_symbols = [\"Xkr4\", \"Npbwr1\", \"not_a_symbol\", \"Rrs1\"]\n",
    "try:\n",
    "    gene_mapper.map_genes(\n",
    "        gene_list=mouse_symbols,\n",
    "        dst_species=\"mouse\",\n",
    "        dst_authority=\"ENSEMBL\"\n",
    "    )\n",
    "except Exception as err:\n",
    "    msg = traceback.format_exc()\n",
    "    print(\n",
    "        f\"Failed with error message:\\n=======\\n{msg}\"\n",
    "    )"
   ]
  },
  {
   "cell_type": "markdown",
   "id": "bedf5c05-1e66-4bf9-84f6-10853eda5c5e",
   "metadata": {},
   "source": [
    "A function is provided for listing all of the species the database knows about.\n",
    "\n",
    "**Note:** This is not a list of all of the species for which the database has gene information. It is merely a list of the species that can be associated with a taxon ID in the database (for cross-referencing with the tables that contain gene information)."
   ]
  },
  {
   "cell_type": "code",
   "execution_count": 14,
   "id": "3d62030b-b2ad-4af7-a393-ab856a1eb164",
   "metadata": {},
   "outputs": [
    {
     "name": "stdout",
     "output_type": "stream",
     "text": [
      "['Lactococcus sp. FC3', 'Lactococcus sp. FI26', 'Lactococcus sp. FR2025', 'Lactococcus sp. FSL K6-0773', 'Lactococcus sp. FSL W8-0209']\n"
     ]
    }
   ],
   "source": [
    "species_list = gene_mapper.get_all_species()\n",
    "print(species_list[2000000:2000005])"
   ]
  },
  {
   "cell_type": "code",
   "execution_count": 15,
   "id": "05a3656f-1f18-4573-9fb8-fcbc9cac865c",
   "metadata": {},
   "outputs": [
    {
     "data": {
      "text/plain": [
       "True"
      ]
     },
     "execution_count": 15,
     "metadata": {},
     "output_type": "execute_result"
    }
   ],
   "source": [
    "'Homo sapiens' in species_list"
   ]
  },
  {
   "cell_type": "code",
   "execution_count": 16,
   "id": "ae419412-4c1a-4a5b-beab-266fdf1ff983",
   "metadata": {},
   "outputs": [
    {
     "data": {
      "text/plain": [
       "4111928"
      ]
     },
     "execution_count": 16,
     "metadata": {},
     "output_type": "execute_result"
    }
   ],
   "source": [
    "len(species_list)"
   ]
  },
  {
   "cell_type": "markdown",
   "id": "5631dbf9-e172-4bbc-9c08-77527c3722b0",
   "metadata": {},
   "source": [
    "#### gene\n",
    "The `gene` table contains all of the information about individual genes ingested into the database. Columns are\n",
    "- authority -- an integer for cross-referencing the `authority` table\n",
    "- citation -- an integer for cross-referencing the `citation` table\n",
    "- species_taxon -- an integer for cross-refereneing the `NCBI_species` table\n",
    "- id -- an integer for internal indexing\n",
    "- identifier -- a string. The full unique identifier (e.g. ENSMUS0000G12345) of the gene\n",
    "- symbol -- a string. The human-readable name of the gene (**Note:** the BICAN bkbit files contain `symbol` and `name` entries for genes. If these differ, both are ingested as a separate row in the `gene` table with `name` being recorded in `symbol` as appropriate).\n",
    "\n",
    "#### gene_equivalence\n",
    "The `gene_equivalence` table records mappings between authorities (ENSEMBL and NCBI). Its columns are\n",
    "- species_taxon -- an integer for cross-referencing with the `NCBI_species` table (in what species are we looking for equivalences?)\n",
    "- citation -- an integer for cross-referencing with the `citation` table (who said these genes were equivalent?)\n",
    "- authority0 -- an integer for cross-referencing with the `authority` table\n",
    "- gene0 -- an integer; the ID of the gene in `authority0`\n",
    "- authority1 -- an integer for cross-referncing with the `authority` table\n",
    "- gene1 -- an integer; the ID of the gene in `authority1` that is equivalent to `gene0` according to `citation`.\n",
    "\n",
    "**Note:** we record equivalences symmetrically, so that every `(gene0, gene1)` pair is also recorded as `(gene1, gene0)` so that users do not have to worry about which index (`gene0` or `gene1`) their input data is compared to.\n",
    "\n",
    "#### gene_ortholog\n",
    "The `gene_ortholog` table records cross-species ortholog relationships. Its columns are\n",
    "- authority -- an integer for cross-referencing the `authority` table (are we looking for NCBI orthologs or ENSEMBL orthologs?)\n",
    "- citation -- an integer for cross-referencing the `citation` table (who said these genes were orthologs?)\n",
    "- species -- an integer for cross-referencing the `NCBI_species` table\n",
    "- gene -- an integer, the ID of the gene in `species` whose orthologs we are looking for\n",
    "- ortholog_group -- an integer; genes with the same value of `ortholog_group` are orthologs of each other\n"
   ]
  },
  {
   "cell_type": "markdown",
   "id": "b06f1579-1a0b-498a-8533-a1349ef70543",
   "metadata": {},
   "source": [
    "## Actually mapping data\n",
    "\n",
    "The `gene_mapper` provides a single function to map gene identifiers from one form `(authority, species)` to another. To run it you specify\n",
    "- the list of gene identifeirs you have\n",
    "- the name of the species you want your genes mapped into (the mapper will automatically detect the species your genes are already in(\n",
    "- the authority of gene (ENSEMBL or NCBI) you want your genes mapped into\n",
    "- (optionally) the name of the citation to use for any cross species ortholog mappings (default is to use the NCBI lookup table)\n",
    "\n",
    "The mapper will then go through the necessary transformations and return a mapped list of gene identifiers for you."
   ]
  },
  {
   "cell_type": "markdown",
   "id": "b101728c-7ce8-4b0b-922a-26b6b721b8de",
   "metadata": {},
   "source": [
    "### Mapping symbols to identifiers\n",
    "\n"
   ]
  },
  {
   "cell_type": "code",
   "execution_count": 19,
   "id": "e819cc2a-b66c-4d24-8e68-11d4e2cae8e0",
   "metadata": {},
   "outputs": [
    {
     "ename": "InconsistentSpeciesError",
     "evalue": "The gene symbols you gave are consistent with more than one species: Alpine marmot:9994, groundhog:9995, Arctic ground squirrel:9999, Dipodomys ordii:10020, Cricetus auratus:10036, Peromyscus leucopus:10041, Meriones unguiculatus:10047, Mus caroli Bonhote, 1902:10089, Balb/c mouse:10090, Coelomys parahi:10093, Algerian mouse:10096, brown rat:10116, black rat:10117, Apodemus sylvaticus:10129, Cavia aperea porcellus:10141, degu:10160, Heterocephalus glaber Ruppell, 1842:10181, eastern gray squirrel:30640, Chinchilla lanigera Bennett, 1829:34839, Mastomys coucha:35658, cactus mouse:42410, Citellus tridecemlineatus:43179, fat sand rat:48139, Jaculus jaculus:51337, American beaver:51338, Acomys russatus:60746, African grass rat:61156, Hypudaeus ochrogaster:79684, Arctomys flaviventer Bachman, 1841:93162, Dipodomys merriami Mearns, 1890:94247, Alexandromys fortis (Buchner, 1890):100897, banner-tailed kangaroo rat:105255, desert hamster:109678, creeping vole:111838, Pacific pocket mouse:214514, Peromyscus maniculatus bairdii:230844, Arvicola nivalis Martins, 1842:269649, bank vole:447135, Grammomys dolichurus surdaster:491861, Peromyscus californicus insignis Rhoads, 1895:564181, Coetomys damarensis:885580, Nannospalax ehrenbergi galili:1026970, Arvicola amphibius (Linnaeus, 1758):1047088",
     "output_type": "error",
     "traceback": [
      "\u001b[31m---------------------------------------------------------------------------\u001b[39m",
      "\u001b[31mInconsistentSpeciesError\u001b[39m                  Traceback (most recent call last)",
      "\u001b[36mCell\u001b[39m\u001b[36m \u001b[39m\u001b[32mIn[19]\u001b[39m\u001b[32m, line 2\u001b[39m\n\u001b[32m      1\u001b[39m mouse_symbols = [\u001b[33m\"\u001b[39m\u001b[33mXkr4\u001b[39m\u001b[33m\"\u001b[39m, \u001b[33m\"\u001b[39m\u001b[33mNpbwr1\u001b[39m\u001b[33m\"\u001b[39m, \u001b[33m\"\u001b[39m\u001b[33mnot_a_symbol\u001b[39m\u001b[33m\"\u001b[39m, \u001b[33m\"\u001b[39m\u001b[33mRrs1\u001b[39m\u001b[33m\"\u001b[39m]\n\u001b[32m----> \u001b[39m\u001b[32m2\u001b[39m mouse_ens_mapping = \u001b[43mgene_mapper\u001b[49m\u001b[43m.\u001b[49m\u001b[43mmap_genes\u001b[49m\u001b[43m(\u001b[49m\n\u001b[32m      3\u001b[39m \u001b[43m    \u001b[49m\u001b[43mgene_list\u001b[49m\u001b[43m=\u001b[49m\u001b[43mmouse_symbols\u001b[49m\u001b[43m,\u001b[49m\n\u001b[32m      4\u001b[39m \u001b[43m    \u001b[49m\u001b[43mdst_species\u001b[49m\u001b[43m=\u001b[49m\u001b[33;43m\"\u001b[39;49m\u001b[33;43mMus musculus\u001b[39;49m\u001b[33;43m\"\u001b[39;49m\u001b[43m,\u001b[49m\n\u001b[32m      5\u001b[39m \u001b[43m    \u001b[49m\u001b[43mdst_authority\u001b[49m\u001b[43m=\u001b[49m\u001b[33;43m\"\u001b[39;49m\u001b[33;43mENSEMBL\u001b[39;49m\u001b[33;43m\"\u001b[39;49m\n\u001b[32m      6\u001b[39m \u001b[43m)\u001b[49m\n\u001b[32m      7\u001b[39m \u001b[38;5;28mprint\u001b[39m(json.dumps(mouse_ens_mapping, indent=\u001b[32m2\u001b[39m))\n",
      "\u001b[36mFile \u001b[39m\u001b[32m~/KnowledgeEngineering/mmc_gene_mapper/src/mmc_gene_mapper/mapper/mapper.py:225\u001b[39m, in \u001b[36mMMCGeneMapper.map_genes\u001b[39m\u001b[34m(self, gene_list, dst_species, dst_authority, ortholog_citation, log, invalid_mapping_prefix)\u001b[39m\n\u001b[32m    219\u001b[39m     cursor = conn.cursor()\n\u001b[32m    220\u001b[39m     dst_species = query_utils.get_species(\n\u001b[32m    221\u001b[39m         cursor=cursor,\n\u001b[32m    222\u001b[39m         species=dst_species\n\u001b[32m    223\u001b[39m     )\n\u001b[32m--> \u001b[39m\u001b[32m225\u001b[39m \u001b[38;5;28;01mreturn\u001b[39;00m \u001b[43marbitrary_conversion\u001b[49m\u001b[43m.\u001b[49m\u001b[43marbitrary_mapping\u001b[49m\u001b[43m(\u001b[49m\n\u001b[32m    226\u001b[39m \u001b[43m    \u001b[49m\u001b[43mdb_path\u001b[49m\u001b[43m=\u001b[49m\u001b[38;5;28;43mself\u001b[39;49m\u001b[43m.\u001b[49m\u001b[43mdb_path\u001b[49m\u001b[43m,\u001b[49m\n\u001b[32m    227\u001b[39m \u001b[43m    \u001b[49m\u001b[43mgene_list\u001b[49m\u001b[43m=\u001b[49m\u001b[43mgene_list\u001b[49m\u001b[43m,\u001b[49m\n\u001b[32m    228\u001b[39m \u001b[43m    \u001b[49m\u001b[43mdst_species\u001b[49m\u001b[43m=\u001b[49m\u001b[43mdst_species\u001b[49m\u001b[43m,\u001b[49m\n\u001b[32m    229\u001b[39m \u001b[43m    \u001b[49m\u001b[43mdst_authority\u001b[49m\u001b[43m=\u001b[49m\u001b[43mmetadata_classes\u001b[49m\u001b[43m.\u001b[49m\u001b[43mAuthority\u001b[49m\u001b[43m(\u001b[49m\u001b[43mdst_authority\u001b[49m\u001b[43m)\u001b[49m\u001b[43m,\u001b[49m\n\u001b[32m    230\u001b[39m \u001b[43m    \u001b[49m\u001b[43mortholog_citation\u001b[49m\u001b[43m=\u001b[49m\u001b[43mortholog_citation\u001b[49m\u001b[43m,\u001b[49m\n\u001b[32m    231\u001b[39m \u001b[43m    \u001b[49m\u001b[43mlog\u001b[49m\u001b[43m=\u001b[49m\u001b[43mlog\u001b[49m\u001b[43m,\u001b[49m\n\u001b[32m    232\u001b[39m \u001b[43m    \u001b[49m\u001b[43minvalid_mapping_prefix\u001b[49m\u001b[43m=\u001b[49m\u001b[43minvalid_mapping_prefix\u001b[49m\n\u001b[32m    233\u001b[39m \u001b[43m\u001b[49m\u001b[43m)\u001b[49m\n",
      "\u001b[36mFile \u001b[39m\u001b[32m~/KnowledgeEngineering/mmc_gene_mapper/src/mmc_gene_mapper/mapper/arbitrary_conversion.py:83\u001b[39m, in \u001b[36marbitrary_mapping\u001b[39m\u001b[34m(db_path, gene_list, dst_species, dst_authority, ortholog_citation, log, invalid_mapping_prefix)\u001b[39m\n\u001b[32m     80\u001b[39m n_genes = \u001b[38;5;28mlen\u001b[39m(gene_list)\n\u001b[32m     81\u001b[39m metadata = []\n\u001b[32m---> \u001b[39m\u001b[32m83\u001b[39m src_gene_data = \u001b[43mspecies_detection\u001b[49m\u001b[43m.\u001b[49m\u001b[43mdetect_species_and_authority\u001b[49m\u001b[43m(\u001b[49m\n\u001b[32m     84\u001b[39m \u001b[43m    \u001b[49m\u001b[43mdb_path\u001b[49m\u001b[43m=\u001b[49m\u001b[43mdb_path\u001b[49m\u001b[43m,\u001b[49m\n\u001b[32m     85\u001b[39m \u001b[43m    \u001b[49m\u001b[43mgene_list\u001b[49m\u001b[43m=\u001b[49m\u001b[43mgene_list\u001b[49m\n\u001b[32m     86\u001b[39m \u001b[43m\u001b[49m\u001b[43m)\u001b[49m\n\u001b[32m     88\u001b[39m \u001b[38;5;28;01mif\u001b[39;00m src_gene_data[\u001b[33m'\u001b[39m\u001b[33mspecies\u001b[39m\u001b[33m'\u001b[39m] \u001b[38;5;129;01mis\u001b[39;00m \u001b[38;5;28;01mNone\u001b[39;00m:\n\u001b[32m     89\u001b[39m     \u001b[38;5;28;01mif\u001b[39;00m log \u001b[38;5;129;01mis\u001b[39;00m \u001b[38;5;129;01mnot\u001b[39;00m \u001b[38;5;28;01mNone\u001b[39;00m:\n",
      "\u001b[36mFile \u001b[39m\u001b[32m~/KnowledgeEngineering/mmc_gene_mapper/src/mmc_gene_mapper/mapper/species_detection.py:141\u001b[39m, in \u001b[36mdetect_species_and_authority\u001b[39m\u001b[34m(db_path, gene_list, chunk_size)\u001b[39m\n\u001b[32m    135\u001b[39m authority = np.array(\n\u001b[32m    136\u001b[39m     [\u001b[33m'\u001b[39m\u001b[33msymbol\u001b[39m\u001b[33m'\u001b[39m]*\u001b[38;5;28mlen\u001b[39m(authority)\n\u001b[32m    137\u001b[39m )\n\u001b[32m    139\u001b[39m \u001b[38;5;66;03m# try to match a species by assuming all genes\u001b[39;00m\n\u001b[32m    140\u001b[39m \u001b[38;5;66;03m# are gene symbols\u001b[39;00m\n\u001b[32m--> \u001b[39m\u001b[32m141\u001b[39m symbol_species = \u001b[43m_detect_species_from_symbols\u001b[49m\u001b[43m(\u001b[49m\n\u001b[32m    142\u001b[39m \u001b[43m    \u001b[49m\u001b[43mgene_list\u001b[49m\u001b[43m=\u001b[49m\u001b[43mgene_list\u001b[49m\u001b[43m,\u001b[49m\n\u001b[32m    143\u001b[39m \u001b[43m    \u001b[49m\u001b[43mdb_path\u001b[49m\u001b[43m=\u001b[49m\u001b[43mdb_path\u001b[49m\u001b[43m,\u001b[49m\n\u001b[32m    144\u001b[39m \u001b[43m    \u001b[49m\u001b[43mchunk_size\u001b[49m\u001b[43m=\u001b[49m\u001b[43mchunk_size\u001b[49m\n\u001b[32m    145\u001b[39m \u001b[43m\u001b[49m\u001b[43m)\u001b[49m\n\u001b[32m    147\u001b[39m \u001b[38;5;28;01mif\u001b[39;00m symbol_species \u001b[38;5;129;01mis\u001b[39;00m \u001b[38;5;129;01mnot\u001b[39;00m \u001b[38;5;28;01mNone\u001b[39;00m:\n\u001b[32m    148\u001b[39m     species = metadata_classes.Species(\n\u001b[32m    149\u001b[39m         name=symbol_species[\u001b[33m'\u001b[39m\u001b[33mspecies\u001b[39m\u001b[33m'\u001b[39m],\n\u001b[32m    150\u001b[39m         taxon=\u001b[38;5;28mint\u001b[39m(symbol_species[\u001b[33m'\u001b[39m\u001b[33mspecies_taxon\u001b[39m\u001b[33m'\u001b[39m])\n\u001b[32m    151\u001b[39m     )\n",
      "\u001b[36mFile \u001b[39m\u001b[32m~/KnowledgeEngineering/mmc_gene_mapper/src/mmc_gene_mapper/mapper/species_detection.py:387\u001b[39m, in \u001b[36m_detect_species_from_symbols\u001b[39m\u001b[34m(db_path, gene_list, chunk_size)\u001b[39m\n\u001b[32m    379\u001b[39m     msg = (\n\u001b[32m    380\u001b[39m         \u001b[33m\"\u001b[39m\u001b[33mThe gene symbols you gave are consistent with \u001b[39m\u001b[33m\"\u001b[39m\n\u001b[32m    381\u001b[39m         \u001b[33m\"\u001b[39m\u001b[33mmore than one species: \u001b[39m\u001b[33m\"\u001b[39m\n\u001b[32m    382\u001b[39m     )\n\u001b[32m    383\u001b[39m     msg += \u001b[33m\"\u001b[39m\u001b[33m, \u001b[39m\u001b[33m\"\u001b[39m.join(\n\u001b[32m    384\u001b[39m         [\u001b[33mf\u001b[39m\u001b[33m\"\u001b[39m\u001b[38;5;132;01m{\u001b[39;00mname\u001b[38;5;132;01m}\u001b[39;00m\u001b[33m:\u001b[39m\u001b[38;5;132;01m{\u001b[39;00mtaxon\u001b[38;5;132;01m}\u001b[39;00m\u001b[33m\"\u001b[39m\n\u001b[32m    385\u001b[39m          \u001b[38;5;28;01mfor\u001b[39;00m name, taxon \u001b[38;5;129;01min\u001b[39;00m \u001b[38;5;28mzip\u001b[39m(chosen_taxon_name, chosen_taxon)]\n\u001b[32m    386\u001b[39m     )\n\u001b[32m--> \u001b[39m\u001b[32m387\u001b[39m     \u001b[38;5;28;01mraise\u001b[39;00m InconsistentSpeciesError(msg)\n\u001b[32m    389\u001b[39m \u001b[38;5;28;01mreturn\u001b[39;00m {\n\u001b[32m    390\u001b[39m     \u001b[33m\"\u001b[39m\u001b[33mspecies\u001b[39m\u001b[33m\"\u001b[39m: chosen_taxon_name[\u001b[32m0\u001b[39m],\n\u001b[32m    391\u001b[39m     \u001b[33m\"\u001b[39m\u001b[33mspecies_taxon\u001b[39m\u001b[33m\"\u001b[39m: chosen_taxon[\u001b[32m0\u001b[39m]\n\u001b[32m    392\u001b[39m }\n",
      "\u001b[31mInconsistentSpeciesError\u001b[39m: The gene symbols you gave are consistent with more than one species: Alpine marmot:9994, groundhog:9995, Arctic ground squirrel:9999, Dipodomys ordii:10020, Cricetus auratus:10036, Peromyscus leucopus:10041, Meriones unguiculatus:10047, Mus caroli Bonhote, 1902:10089, Balb/c mouse:10090, Coelomys parahi:10093, Algerian mouse:10096, brown rat:10116, black rat:10117, Apodemus sylvaticus:10129, Cavia aperea porcellus:10141, degu:10160, Heterocephalus glaber Ruppell, 1842:10181, eastern gray squirrel:30640, Chinchilla lanigera Bennett, 1829:34839, Mastomys coucha:35658, cactus mouse:42410, Citellus tridecemlineatus:43179, fat sand rat:48139, Jaculus jaculus:51337, American beaver:51338, Acomys russatus:60746, African grass rat:61156, Hypudaeus ochrogaster:79684, Arctomys flaviventer Bachman, 1841:93162, Dipodomys merriami Mearns, 1890:94247, Alexandromys fortis (Buchner, 1890):100897, banner-tailed kangaroo rat:105255, desert hamster:109678, creeping vole:111838, Pacific pocket mouse:214514, Peromyscus maniculatus bairdii:230844, Arvicola nivalis Martins, 1842:269649, bank vole:447135, Grammomys dolichurus surdaster:491861, Peromyscus californicus insignis Rhoads, 1895:564181, Coetomys damarensis:885580, Nannospalax ehrenbergi galili:1026970, Arvicola amphibius (Linnaeus, 1758):1047088"
     ]
    }
   ],
   "source": [
    "mouse_symbols = [\"Xkr4\", \"Npbwr1\", \"not_a_symbol\", \"Rrs1\"]\n",
    "mouse_ens_mapping = gene_mapper.map_genes(\n",
    "    gene_list=mouse_symbols,\n",
    "    dst_species=\"Mus musculus\",\n",
    "    dst_authority=\"ENSEMBL\"\n",
    ")\n",
    "print(json.dumps(mouse_ens_mapping, indent=2))"
   ]
  },
  {
   "cell_type": "markdown",
   "id": "92c19413-d2db-4c95-87c9-1288c04d3344",
   "metadata": {},
   "source": [
    "For ease of reading, here is the output broken down into metadata"
   ]
  },
  {
   "cell_type": "code",
   "execution_count": null,
   "id": "47c529fc-edbb-408d-a4f0-dd2f4075d716",
   "metadata": {},
   "outputs": [],
   "source": [
    "#print(json.dumps(mouse_ens_mapping['metadata'], indent=2))"
   ]
  },
  {
   "cell_type": "markdown",
   "id": "efeb945b-2532-404e-bdcd-041d9cbd657f",
   "metadata": {},
   "source": [
    "and actual mapping"
   ]
  },
  {
   "cell_type": "code",
   "execution_count": null,
   "id": "e7a8ffb2-e609-4c83-abe7-8d8536652850",
   "metadata": {},
   "outputs": [],
   "source": [
    "#print(json.dumps(mouse_ens_mapping['gene_list'], indent=2))"
   ]
  },
  {
   "cell_type": "markdown",
   "id": "268dfc10-1ce4-42c4-928a-8caba10d5f77",
   "metadata": {},
   "source": [
    "Here is a similar call mapping symbols to identifiers in NCBI"
   ]
  },
  {
   "cell_type": "code",
   "execution_count": null,
   "id": "3016fa95-15a5-4cf4-b1d8-9b6031183b10",
   "metadata": {},
   "outputs": [],
   "source": [
    "#mouse_ncbi_mapping = gene_mapper.map_genes(\n",
    "#    gene_list=mouse_symbols,\n",
    "#    dst_species=\"Mus musculus\",\n",
    "#    dst_authority=\"NCBI\"\n",
    "#)\n",
    "#print(json.dumps(mouse_ncbi_mapping, indent=2))"
   ]
  },
  {
   "cell_type": "markdown",
   "id": "4b219d40-cffb-45de-9306-05d4166aaa72",
   "metadata": {},
   "source": [
    "### Mapping from ENSEMBL to NCBI\n"
   ]
  },
  {
   "cell_type": "code",
   "execution_count": null,
   "id": "82ceb93a-2539-4d79-86c6-dbfe4f34ed7f",
   "metadata": {},
   "outputs": [],
   "source": [
    "ens_to_ncbi = gene_mapper.map_genes(\n",
    "    dst_authority='NCBI',\n",
    "    gene_list=[\"ENSMUSG00000051951\",\n",
    "               \"ENSMUSG00000030337\",\n",
    "               \"ENSMUSG00000087247\",\n",
    "               \"nope\",\n",
    "               \"ENSMUSG00000025911\"],\n",
    "    dst_species=\"Mus musculus\"\n",
    ")\n",
    "print(json.dumps(ens_to_ncbi, indent=2))"
   ]
  },
  {
   "cell_type": "markdown",
   "id": "58e593be-05dc-4df9-8fbd-9abd678b197f",
   "metadata": {},
   "source": [
    "Here is a call mapping from NCBI to ENSEMBL"
   ]
  },
  {
   "cell_type": "code",
   "execution_count": null,
   "id": "fbad7610-4142-45db-9f39-db97163c3280",
   "metadata": {},
   "outputs": [],
   "source": [
    "ncbi_to_ens = gene_mapper.map_genes(\n",
    "    dst_authority='ENSEMBL',\n",
    "    gene_list=[\"NCBIGene:67269\", \"NCBIGene:54200\", \"nope\", \"NCBIGene:70911\"],\n",
    "    dst_species=\"Mus musculus\"\n",
    ")\n",
    "print(json.dumps(ncbi_to_ens, indent=2))"
   ]
  },
  {
   "cell_type": "markdown",
   "id": "0de3aa5c-2ebe-4921-8d9b-b8851eff6220",
   "metadata": {},
   "source": [
    "To simulate \"production scale,\" we will now download all of the genes in the Yao et al. 2023 10X gene panel and try mappping them from ENSEMBL to NCBI to see how long it takes to process that many genes."
   ]
  },
  {
   "cell_type": "code",
   "execution_count": null,
   "id": "2e77f845-8585-4bab-8f79-1455a09b7d38",
   "metadata": {},
   "outputs": [],
   "source": [
    "wmb_gene_df = abc_cache.get_metadata_dataframe(\n",
    "    directory='WMB-10X',\n",
    "    file_name='gene'\n",
    ")\n",
    "wmb_genes = wmb_gene_df.gene_identifier.values\n",
    "t0 = time.time()\n",
    "wmb_ncbi = gene_mapper.map_genes(\n",
    "    dst_authority='NCBI',\n",
    "    gene_list=wmb_genes,\n",
    "    dst_species='Mus musculus',\n",
    ")\n",
    "dur = time.time()-t0\n",
    "print(f'mapping {len(wmb_genes)} genes took {dur:.2e} seconds')\n",
    "\n",
    "n_mapped = 0\n",
    "for k in wmb_ncbi['gene_list']:\n",
    "    if 'UNMAPPABLE' not in k:\n",
    "        n_mapped += 1\n",
    "print(f'{n_mapped} genes had unique NCBI matches')\n"
   ]
  },
  {
   "cell_type": "markdown",
   "id": "2f2f4586-8ded-4785-abe4-81f89075e263",
   "metadata": {},
   "source": [
    "Now we will download the marker genes used by MapMyCells for the Whole Mouse Brain taxonomy and try mapping them from ENSEMBL to NCBI."
   ]
  },
  {
   "cell_type": "code",
   "execution_count": null,
   "id": "d377c657-9985-4bf6-8a73-8d7a4d19d235",
   "metadata": {},
   "outputs": [],
   "source": [
    "src_path = \"https://allen-brain-cell-atlas.s3-us-west-2.amazonaws.com/mapmycells/WMB-10X/20240831/mouse_markers_230821.json\"\n",
    "wmb_marker_path = pathlib.Path('../data/mouse_markers_230821.json')\n",
    "if not wmb_marker_path.is_file():\n",
    "    print(f\"downloading {wmb_marker_path}\")\n",
    "    process = subprocess.Popen(\n",
    "        args=[\n",
    "           \"wget\",\n",
    "            src_path,\n",
    "            \"-O\",\n",
    "            str(wmb_marker_path),\n",
    "        ],\n",
    "        stderr=subprocess.DEVNULL\n",
    "    )\n",
    "    process.wait()"
   ]
  },
  {
   "cell_type": "code",
   "execution_count": null,
   "id": "de440719-7e4b-49eb-898f-803a84215488",
   "metadata": {},
   "outputs": [],
   "source": [
    "marker_genes = set()\n",
    "with open(wmb_marker_path, 'rb') as src:\n",
    "    marker_lookup = json.load(src)\n",
    "for key in marker_lookup:\n",
    "    if key in ('log', 'metadata'):\n",
    "        continue\n",
    "    marker_genes = marker_genes.union(set(marker_lookup[key]))\n",
    "marker_genes = sorted(marker_genes)"
   ]
  },
  {
   "cell_type": "markdown",
   "id": "34db75d7-ca7f-4daa-9732-8729fcfab7c6",
   "metadata": {},
   "source": [
    "Let's now map our mouse marker genes from ENSEMBL to NCBI"
   ]
  },
  {
   "cell_type": "code",
   "execution_count": null,
   "id": "a611509d-1366-4cba-983f-4f54d5805b43",
   "metadata": {},
   "outputs": [],
   "source": [
    "print(f'{len(marker_genes)} marker genes')\n",
    "t0 = time.time()\n",
    "marker_ncbi = gene_mapper.map_genes(\n",
    "    dst_authority='NCBI',\n",
    "    gene_list=marker_genes,\n",
    "    dst_species='Mus musculus'\n",
    ")\n",
    "dur = time.time()-t0\n",
    "print(f'mappiing {len(marker_genes)} genes took {dur:.2e} seconds')\n",
    "\n",
    "n_mapped = 0\n",
    "n_one_to_one = 0\n",
    "for k in marker_ncbi['gene_list']:\n",
    "    if 'UNMAPPABLE' not in k:\n",
    "        n_mapped += 1\n",
    "\n",
    "print(f'{n_mapped} genes had unique NCBI matches')\n"
   ]
  },
  {
   "cell_type": "markdown",
   "id": "18007eeb-c0c7-4f9f-b6a2-ba6e3ae8a285",
   "metadata": {},
   "source": [
    "### Ortholog mapping\n",
    "\n",
    "To test ortholog mapping, let's take the genes from Yao et al. 2023 that only mapped to one NCBI gene and map them to human orthologs."
   ]
  },
  {
   "cell_type": "markdown",
   "id": "f925d36c-603b-4d3d-bd7c-e585cd09d0ab",
   "metadata": {},
   "source": [
    "First let's just map 5 genes so that we can display the output and see what it looks like"
   ]
  },
  {
   "cell_type": "code",
   "execution_count": null,
   "id": "f6d5b0d1-353b-42fa-a0bf-6baf5eaac714",
   "metadata": {},
   "outputs": [],
   "source": [
    "test_orthologs = gene_mapper.map_genes(\n",
    "    dst_authority='ENSEMBL',\n",
    "    dst_species='human',\n",
    "    gene_list=list(wmb_ncbi['gene_list'][10:15]) + ['not_an_actual_gene']\n",
    ")\n",
    "print(json.dumps(test_orthologs['gene_list'], indent=2))"
   ]
  },
  {
   "cell_type": "markdown",
   "id": "8f91cd2c-6fee-40ef-95d3-42a700dde6b3",
   "metadata": {},
   "source": [
    "Now let's map all 24,000 genes and see how long that takes"
   ]
  },
  {
   "cell_type": "code",
   "execution_count": null,
   "id": "2ff5fd99-4d32-4a27-962a-6458c8116671",
   "metadata": {},
   "outputs": [],
   "source": []
  },
  {
   "cell_type": "code",
   "execution_count": null,
   "id": "40aacfd2-8a6a-47d7-bddc-c7a2f72a2c4d",
   "metadata": {},
   "outputs": [],
   "source": []
  },
  {
   "cell_type": "code",
   "execution_count": null,
   "id": "f70b0ce1-694d-42ea-907c-18f68d6ffc62",
   "metadata": {},
   "outputs": [],
   "source": [
    "t0 = time.time()\n",
    "wmb_to_whb_orthologs = gene_mapper.map_genes(\n",
    "    dst_authority='ENSEMBL',\n",
    "    dst_species='human',\n",
    "    gene_list=wmb_ncbi['gene_list']\n",
    ")\n",
    "dur = time.time()-t0\n",
    "print(f'mapping {len(wmb_ncbi['gene_list'])} orthologs took {dur:.2e} seconds')\n",
    "n_mapped = 0\n",
    "for k in wmb_to_whb_orthologs['gene_list']:\n",
    "    if 'UNMAPPABLE' not in k:\n",
    "        n_mapped += 1\n",
    "print(f'{n_mapped} genes had orthologs')\n"
   ]
  },
  {
   "cell_type": "code",
   "execution_count": null,
   "id": "9cc34e39-8222-4552-8b0a-2f9c5efc9ef7",
   "metadata": {},
   "outputs": [],
   "source": [
    "print(json.dumps(wmb_to_whb_orthologs['metadata'], indent=2))"
   ]
  },
  {
   "cell_type": "markdown",
   "id": "24c6b414-f695-4f60-8129-ad8e043b2a08",
   "metadata": {},
   "source": [
    "#### Map from mouse to naked mole rat\n",
    "\n",
    "Now, inspired by a recent community forum post, let's take our mouse marker genes, convert them into NCBI identifiers, and finally convert those in to naked mole rat orthologs."
   ]
  },
  {
   "cell_type": "code",
   "execution_count": null,
   "id": "e5177766-aacb-4f1c-8998-474530c890f0",
   "metadata": {},
   "outputs": [],
   "source": [
    "t0 = time.time()\n",
    "\n",
    "naked_mole_rat = gene_mapper.map_genes(\n",
    "    dst_authority='ENSEMBL',\n",
    "    dst_species='naked mole rat',\n",
    "    gene_list=marker_genes,\n",
    "    ortholog_citation='NCBI'\n",
    ")\n",
    "\n",
    "dur = time.time()-t0\n",
    "print(f\"mapping took {dur:.2e} seconds\")\n",
    "n_mapped = 0\n",
    "for g in naked_mole_rat['gene_list']:\n",
    "    if 'UNMAPPABLE' not in g:\n",
    "        n_mapped += 1\n",
    "print(f\"{n_mapped} genes of {len(marker_genes)} had orthologs\")\n",
    "print(marker_genes[:5])\n",
    "print(naked_mole_rat['gene_list'][:5])"
   ]
  },
  {
   "cell_type": "markdown",
   "id": "8773ade5-5760-48a5-a4b6-cc61d30f9666",
   "metadata": {},
   "source": [
    "Here is the metadata for the naked mole rat ortholog mapping"
   ]
  },
  {
   "cell_type": "code",
   "execution_count": null,
   "id": "ef0a81ca-e857-4896-affc-4e20dd202088",
   "metadata": {},
   "outputs": [],
   "source": [
    "print(json.dumps(naked_mole_rat['metadata'], indent=2))"
   ]
  },
  {
   "cell_type": "code",
   "execution_count": null,
   "id": "620829de-0ca5-49af-9942-aa2cba055d2a",
   "metadata": {},
   "outputs": [],
   "source": []
  }
 ],
 "metadata": {
  "kernelspec": {
   "display_name": "Python 3 (ipykernel)",
   "language": "python",
   "name": "python3"
  },
  "language_info": {
   "codemirror_mode": {
    "name": "ipython",
    "version": 3
   },
   "file_extension": ".py",
   "mimetype": "text/x-python",
   "name": "python",
   "nbconvert_exporter": "python",
   "pygments_lexer": "ipython3",
   "version": "3.12.9"
  }
 },
 "nbformat": 4,
 "nbformat_minor": 5
}
