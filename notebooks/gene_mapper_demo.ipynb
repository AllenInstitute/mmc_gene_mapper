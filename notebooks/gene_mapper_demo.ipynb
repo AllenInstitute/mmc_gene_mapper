{
 "cells": [
  {
   "cell_type": "markdown",
   "id": "db47bb03-b787-4cf7-9203-352dc7eb6ecd",
   "metadata": {},
   "source": [
    "The purpose of this notebook is to demonstrate the prototype gene mapper library put together to generalize the processes of\n",
    "\n",
    "- Mapping gene symbols to gene identifiers\n",
    "- Mapping gene identifiers across authorities (NCBI, ENSEMBL, etc.)\n",
    "- Mapping genes in one species to ortholog genes in another species\n",
    "\n",
    "for MapMyCells.\n",
    "\n",
    "In addition to the `mmc_gene_mapper` codebase and its dependencies, this notebook depends on the `abc_atlas_access` tool, though only for downloading metadata to simulate mapping 10s of thousands of genes at once (as we would with real user data)."
   ]
  },
  {
   "cell_type": "markdown",
   "id": "9aa87849-b621-4dff-b1b7-3d1bf8e87995",
   "metadata": {},
   "source": [
    "## Setup"
   ]
  },
  {
   "cell_type": "code",
   "execution_count": 1,
   "id": "de6c8e20-d464-4151-b975-fe82d4014fec",
   "metadata": {},
   "outputs": [],
   "source": [
    "import h5py\n",
    "import json\n",
    "import pathlib\n",
    "import subprocess\n",
    "import sqlite3\n",
    "import time\n",
    "\n",
    "import abc_atlas_access.abc_atlas_cache.abc_project_cache as abc_cache_library\n",
    "\n",
    "import mmc_gene_mapper\n",
    "import mmc_gene_mapper.utils.file_utils as file_utils\n",
    "import mmc_gene_mapper.mapper.mapper as mapper"
   ]
  },
  {
   "cell_type": "code",
   "execution_count": 2,
   "id": "7351d2c5-f2fb-4446-8586-c9c2e25e9947",
   "metadata": {},
   "outputs": [],
   "source": [
    "abc_cache = abc_cache_library.AbcProjectCache.from_cache_dir('../data/abc_cache')"
   ]
  },
  {
   "cell_type": "code",
   "execution_count": 3,
   "id": "720a2f1f-34d6-42c7-a29a-5a28002d3d95",
   "metadata": {},
   "outputs": [],
   "source": [
    "data_dir = pathlib.Path(\n",
    "    mmc_gene_mapper.__file__).parent.parent.parent / \"data\"\n",
    "assert data_dir.is_dir()"
   ]
  },
  {
   "cell_type": "code",
   "execution_count": 4,
   "id": "cd3b6d12-9a81-4585-9955-1343acb0fb05",
   "metadata": {},
   "outputs": [],
   "source": [
    "db_path = data_dir/\"gene_mapper_example.db\"\n",
    "assert db_path.parent.is_dir()"
   ]
  },
  {
   "cell_type": "markdown",
   "id": "f02ee006-8ee1-4978-8d07-85d06dd3be8f",
   "metadata": {},
   "source": [
    "There are some files in\n",
    "```\n",
    "/allen/scratch/aibstemp/danielsf/gene_mapper_data\n",
    "```\n",
    "that are used to ingest data beyond what is available in the NCBI FTP server. Please copy those files to `../data/db_creation_data` in this respository (the cell below will fail if any of the files are not present)"
   ]
  },
  {
   "cell_type": "code",
   "execution_count": 5,
   "id": "06786610-8663-4821-9466-5db086caa52a",
   "metadata": {},
   "outputs": [],
   "source": [
    "data_file_spec=[\n",
    "    {\"type\": \"bkbit\",\n",
    "     \"path\": \"../data/db_creation_data/mouse_ENSEMBL-10090-98.jsonld\"},\n",
    "    {\"type\": \"bkbit\",\n",
    "     \"path\": \"../data/db_creation_data/human_ENSEMBL-9606-101.jsonld\"},\n",
    "    {\"type\": \"hmba_orthologs\",\n",
    "     \"path\": \"../data/db_creation_data/all_gene_ids.csv\",\n",
    "     \"name\": \"HMBA\",\n",
    "     \"baseline_species\": \"human\"}\n",
    "]\n",
    "\n",
    "error_msg = \"\"\n",
    "for spec in data_file_spec:\n",
    "    pth = pathlib.Path(spec['path'])\n",
    "    if not pth.is_file():\n",
    "        error_msg += f\"{pth} is not a file\\n\"\n",
    "if len(error_msg) > 0:\n",
    "    raise RuntimeError(error_msg)"
   ]
  },
  {
   "cell_type": "markdown",
   "id": "15278a0d-49a3-4942-8d12-dc52e366b70b",
   "metadata": {},
   "source": [
    "Below we instantiate the class that is used to actually do the mapping. The first time you run the cell, it will take ~ 15 minutes as it downloads ~ 4 GB of data from NCBI and ingests that data, alongside the local data from the cell above, to create an ~ 8 GB sqlite database that backs the mapping process.\n",
    "\n",
    "As long as you leave `clobber=False` below, you will not have to recreate that database on subsequent uses.\n",
    "\n",
    "**Note:** running this cell will also produce some warnings about genes that could not be ingested into the ortholog tables. These are due to genes in the ortholog table that have been deprecated by NCBI since the ortholog table (especially our by-hand HMBA ortholog table) was generated, meaning the gene mapper cannot connect them to species. We will have to think about how to handle versioning mismatches of this sort."
   ]
  },
  {
   "cell_type": "code",
   "execution_count": 6,
   "id": "3123694f-af49-49e9-aa15-8360b10baf2a",
   "metadata": {
    "scrolled": true
   },
   "outputs": [
    {
     "name": "stdout",
     "output_type": "stream",
     "text": [
      "=======CREATING DB FILE=======\n",
      "=======CREATING TABLES=======\n",
      "=======DOWNLOADING gene/DATA/gene_info.gz=======\n",
      "=======DOWNLOADED gene/DATA/gene_info.gz in 9.25e+02 seconds=======\n",
      "=======DOWNLOADING gene/DATA/gene2ensembl.gz=======\n",
      "=======DOWNLOADED gene/DATA/gene2ensembl.gz in 6.89e+01 seconds=======\n",
      "=======DOWNLOADING gene/DATA/gene_orthologs.gz=======\n",
      "=======DOWNLOADED gene/DATA/gene_orthologs.gz in 8.11e+01 seconds=======\n",
      "=======INGESTING GENE INFO=======\n",
      "    chunk 0.00e+00, 5.00e+06\n",
      "    chunk 5.00e+06, 1.00e+07\n",
      "    chunk 1.00e+07, 1.50e+07\n",
      "    chunk 1.50e+07, 2.00e+07\n",
      "    chunk 2.00e+07, 2.50e+07\n",
      "    chunk 2.50e+07, 3.00e+07\n",
      "    chunk 3.00e+07, 3.50e+07\n",
      "    chunk 3.50e+07, 4.00e+07\n",
      "    chunk 4.00e+07, 4.50e+07\n",
      "    chunk 4.50e+07, 5.00e+07\n",
      "    chunk 5.00e+07, 5.50e+07\n",
      "    chunk 5.50e+07, 6.00e+07\n",
      "    chunk 6.00e+07, 6.03e+07\n",
      "=======INGESTING gene_info TOOK 2.72e+00 minutes=======\n",
      "=======INGESTING GENE TO ENSEMBL=======\n",
      "=======INGESTING gene2ensembl TOOK 1.96e+00 minutes=======\n",
      "=======INGESTING ORTHOLOGS=======\n",
      "=======DELETING INDEX tmp_gene_to_species_idx======\n",
      "=======CREATING INDEX tmp_gene_to_species_idx=======\n",
      "=======DELETING INDEX tmp_gene_to_species_idx======\n",
      "gene0 15488312\n",
      "gene1 15488312\n",
      "    GOT GRAPH\n",
      "    group 1 decrement 6.980e+02 of 1.562e+07\n",
      "    group 11 decrement 7.665e+03 of 1.562e+07\n",
      "    group 111 decrement 7.699e+04 of 1.562e+07\n",
      "    group 1121 decrement 7.701e+05 of 1.562e+07\n",
      "    group 12915 decrement 7.702e+06 of 1.562e+07\n",
      "gene_to_ortholog 15620264\n",
      "gene_to_species 15620263\n"
     ]
    },
    {
     "name": "stderr",
     "output_type": "stream",
     "text": [
      "/Users/scott.daniel/KnowledgeBase/garage/mmc_gene_mapper/src/mmc_gene_mapper/create_db/ortholog_ingestion.py:383: InvalidOrthologGeneWarning: The following genes had no species assigned to them and were not ingested\n",
      "[3512700]\n",
      "  warnings.warn(warning_msg, category=InvalidOrthologGeneWarning)\n"
     ]
    },
    {
     "name": "stdout",
     "output_type": "stream",
     "text": [
      "inserting 15620263 values with citation 0\n",
      "=======INGESTING gene_orthologs TOOK 3.71e+00 minutes=======\n",
      "=======DOWNLOADING pub/taxonomy/new_taxdump/new_taxdump.tar.gz=======\n",
      "=======DOWNLOADED pub/taxonomy/new_taxdump/new_taxdump.tar.gz in 1.01e+02 seconds=======\n",
      "=======DOWNLOADING pub/taxonomy/new_taxdump/new_taxdump.tar.gz.md5=======\n",
      "=======DOWNLOADED pub/taxonomy/new_taxdump/new_taxdump.tar.gz.md5 in 3.15e-01 seconds=======\n",
      "=======INGESTING ../data/db_creation_data/mouse_ENSEMBL-10090-98.jsonld=======\n",
      "    INGESTING 55421 GENES\n",
      "=======INGESTING ../data/db_creation_data/human_ENSEMBL-9606-101.jsonld=======\n",
      "    INGESTING 60671 GENES\n",
      "=======INGESTING ORTHOLOGS FROM all_gene_ids.csv=======\n",
      "=======DELETING INDEX tmp_gene_to_species_idx======\n",
      "=======CREATING INDEX tmp_gene_to_species_idx=======\n",
      "=======DELETING INDEX tmp_gene_to_species_idx======\n",
      "gene0 681185\n",
      "gene1 681185\n",
      "    GOT GRAPH\n",
      "    group 1 decrement 2.600e+01 of 7.003e+05\n",
      "    group 7 decrement 2.750e+02 of 7.003e+05\n",
      "    group 69 decrement 2.785e+03 of 7.003e+05\n",
      "    group 686 decrement 2.789e+04 of 7.003e+05\n",
      "    group 6819 decrement 2.789e+05 of 7.003e+05\n",
      "gene_to_ortholog 700279\n",
      "gene_to_species 699798\n"
     ]
    },
    {
     "name": "stderr",
     "output_type": "stream",
     "text": [
      "/Users/scott.daniel/KnowledgeBase/garage/mmc_gene_mapper/src/mmc_gene_mapper/create_db/ortholog_ingestion.py:383: InvalidOrthologGeneWarning: The following genes had no species assigned to them and were not ingested\n",
      "[105466403, 105470582, 105496978, 108175750, 100343007, 105492737, 103246736, 105470573, 110089133, 103222958, 127492382, 127492411, 127488423, 119622548, 105468309, 127488420, 127492371, 105489432, 127488336, 119618156, 110085356, 112426108, 131272925, 103239149, 127488402, 105498501, 127482665, 105465210, 105465117, 103220181, 101419832, 127490343, 101429552, 110079788, 112422929, 110070386, 105488485, 119624761, 100008594, 100356693, 127483265, 127483264, 119618272, 110091021, 110085873, 110076977, 127490732, 110074157, 100229482, 127485497, 110081192, 110083144, 112422919, 105473341, 119621279, 123378922, 100345490, 100353604, 127487406, 127492160, 100354248, 100348221, 127487409, 105466118, 105473490, 119618136, 100341680, 110070272, 103218761, 119627299, 101413543, 100347350, 110085128, 127487221, 110080671, 105490867, 100352711, 105487743, 127493277, 112422916, 100341356, 101439336, 127493218, 127487219, 110084881, 127493067, 110079911, 127493193, 110073004, 119618269, 110089847, 100343740, 127493065, 119625873, 127483305, 110085198, 127487217, 127487215, 105471162, 110085771, 110084066, 105474874, 115493683, 119620612, 105494184, 105471416, 127493718, 127488309, 110088670, 100353770, 103226103, 127491672, 127493716, 105473842, 110084756, 103347061, 127482560, 127491579, 110091151, 110088183, 127491397, 119618113, 103347301, 127491584, 127483263, 110074693, 105468096, 110083292, 110079897, 131279173, 127485984, 110088928, 127487657, 127491489, 110070635, 103241237, 103216498, 100339279, 101420491, 105468736, 110083334, 119624184, 105469518, 100221307, 127482596, 127484750, 127487948, 127487659, 110087610, 105494176, 103233437, 110091267, 100231306, 100358584, 110078440, 105476344, 127488396, 119618278, 127488393, 110078325, 110070202, 121469636, 101433847, 127490752, 127493516, 119624348, 110070050, 100356674, 119624341, 127488584, 110079659, 105760844, 110081100, 105467024, 110085451, 101436138, 105485777, 119618222, 119618132, 100353833, 127488804, 105464018, 119625653, 105480114, 105480085, 127487590, 100342092, 103241651, 123378912, 127482881, 119625718, 127488057, 112424699, 121469214, 105467632, 100346218, 101439551, 110087218, 119628033, 105491367, 110080120, 101441066, 110087837, 105477996, 127483833, 103229124, 127484637, 127484666, 127484614, 100359153, 110077273, 127487725, 101431341, 127482687, 100340285, 127487737, 110072950, 127483769, 103245493, 100225459, 100343488, 119628125, 127483785, 119628023, 110088256, 105486310, 127484610, 101442472, 100338113, 127487729, 127487740, 103348156, 119628122, 103344935, 105484028, 105486165, 108175962, 119622457, 105486025, 105499657, 119622429, 103345368, 119622430, 127490506, 110086685, 105491944, 105491937, 103233844, 127486815, 110085772, 103214897, 105463271, 111761775, 115491046, 105486029, 110081749, 100342359, 103346555, 110090135, 100339854, 110073954, 105465925, 110075203, 105484958, 105493747, 110080982, 103223740, 110081513, 110081488, 100225614, 119624153, 105494963, 110073754, 105494828, 101423362, 105483898, 119625930, 127493633, 105496672, 127493262, 127489280, 101447149, 105484784, 119620982, 105464740, 131272938, 110088457, 119619930, 105467946, 121468023, 119622019, 119622582, 119620868, 103232808, 119621107, 121468383, 105490510, 103232630, 119620977, 119620879, 119622591, 110074086, 119622018, 103232598, 119620888, 119618186, 105464028, 127482572, 103215667, 101419576, 119618931, 110086349, 110076511, 127487536, 119627625, 105488202, 108177996, 119627140, 127482762, 101423065, 121468047, 112426075, 105495507, 105491552, 110086771, 127485599, 100357312, 119627743, 100342348, 127485719, 127485601, 127487535, 115493191, 100354480, 100354736, 100342190, 110082268, 101437620, 100356283, 103235085, 127491350, 119627621, 127487649, 105491533, 103224853, 119618165, 105478524, 100357364, 110081283, 100345900, 103242223, 100359091, 127488552, 110088996, 127482696, 119618282, 127488579, 127484485, 100345878, 110082058, 100342151, 121468517, 110085805, 127488556, 112424511, 127485408, 119622144, 100355835, 127484367, 127484435, 100342400, 100341557, 110085616, 119618151, 127493634, 121468536, 110088710, 112424967, 110073845, 105491769, 100340318, 100337855, 100352817, 127491106, 119618147, 119619269, 105470678, 105484713, 105470542, 127488941, 105497689, 105467924, 119618623, 111763934, 105496413, 119622713, 103351296, 105463206, 105486720, 110086119, 127491470, 110083989, 105497140, 105464271, 101431567, 127491469, 127491099, 127488389, 127491495, 127491459, 119622295, 105497252, 127488395, 127488394, 119618124, 101446195, 100354523, 110074380, 127487662, 119627205, 119621343, 105464141, 108176851, 105465787, 105498046, 105496596, 100344780, 103235407, 105488066, 119621108, 119618273, 103234486, 108175884, 105480514, 101444170, 110080624, 110086234, 127490970, 105497075, 103231911, 110087580, 103214224, 110076567, 127493041, 119620740, 127491673, 127490107, 119625243, 127484182, 119619781, 119618169, 103222465, 100358701, 103228812, 105477964, 105464479, 105482161, 112426427, 103245096, 119625036, 119622169, 119622150, 119621672, 105482922, 100356667, 119620302, 103215502, 112422918, 105472750, 107984648, 105491582, 103235187, 112429405, 112424099, 105497331, 103243103, 105496982, 105494267, 103241039, 105487180, 107987235]\n",
      "  warnings.warn(warning_msg, category=InvalidOrthologGeneWarning)\n"
     ]
    },
    {
     "name": "stdout",
     "output_type": "stream",
     "text": [
      "inserting 699798 values with citation 3\n",
      "=======ORTHOLOG INGESTION TOOK 1.61e+00 minutes=======\n",
      "=======DELETING INDEX gene_symbol_idx======\n",
      "=======CREATING INDEX gene_symbol_idx=======\n",
      "=======DELETING INDEX gene_id_idx======\n",
      "=======CREATING INDEX gene_id_idx=======\n",
      "=======DELETING INDEX gene_equivalence_idx======\n",
      "=======CREATING INDEX gene_equivalence_idx=======\n",
      "=======DELETING INDEX gene_ortholog_gene_idx======\n",
      "=======CREATING INDEX gene_ortholog_gene_idx=======\n",
      "=======DELETING INDEX gene_ortholog_ortholog_idx======\n",
      "=======CREATING INDEX gene_ortholog_ortholog_idx=======\n",
      "=======CREATING BIBLIOGRAPHY TABLE=======\n",
      "=======DELETING INDEX species_bibliography_idx======\n",
      "=======DELETING INDEX species_bibliography_idx======\n",
      "=======CREATING INDEX species_bibliography_idx=======\n",
      "=======COPYING TMP FILE TO /Users/scott.daniel/KnowledgeBase/garage/mmc_gene_mapper/data/gene_mapper_example.db=======\n",
      "=======DB CREATION TOOK 3.30e+01 MINUTES=======\n"
     ]
    }
   ],
   "source": [
    "gene_mapper = mapper.MMCGeneMapper(\n",
    "    db_path=db_path,\n",
    "    local_dir=data_dir,\n",
    "    data_file_spec=data_file_spec,\n",
    "    clobber=False,\n",
    "    force_download=False,\n",
    "    suppress_download_stdout=True\n",
    ")"
   ]
  },
  {
   "cell_type": "code",
   "execution_count": 7,
   "id": "3f1a2daf-3fad-40bf-b5e2-2478c8caef22",
   "metadata": {},
   "outputs": [
    {
     "data": {
      "text/plain": [
       "PosixPath('/Users/scott.daniel/KnowledgeBase/garage/mmc_gene_mapper/data/gene_mapper_example.db')"
      ]
     },
     "execution_count": 7,
     "metadata": {},
     "output_type": "execute_result"
    }
   ],
   "source": [
    "gene_mapper.db_path"
   ]
  },
  {
   "cell_type": "markdown",
   "id": "3a5dede0-3fb4-4b04-88c4-b104659c7be5",
   "metadata": {},
   "source": [
    "## Contents of the database backing the mapper\n",
    "\n",
    "The database backing the `gene_mapper` contains the following tables\n",
    "\n",
    "### Metadata tables\n",
    "\n",
    "#### authority\n",
    "The `authority` table just tracks the gene identifying authorities the database knows about (i.e. ENSEMBL and NCBI). it consists of the columns\n",
    "\n",
    "- id -- an integer used for internal indexing\n",
    "- name -- the human-readable name of the authority\n",
    "\n",
    "#### citation\n",
    "The `citation` table tracks all of the datasets used to justify the various mappings (symbol-to-identifier, ENSEMBL-to-NCBI, orthologs, etc.). It consists of the columns\n",
    "\n",
    "- id -- an integer used for internal indexing\n",
    "- name -- a short, human-readable name for the citation (this will be used whenever you have to specify a citation when calling the `gene_mapper`'s methods\n",
    "- metadata -- a JSON serialized dict containing whatever information is necessary to recreate or specify the data backing this citation. This is a very free-form column as different entries will be specified in different ways (see below)"
   ]
  },
  {
   "cell_type": "markdown",
   "id": "cd687385-71d0-4a32-9511-5e8ec5dce2d1",
   "metadata": {},
   "source": [
    "We can list the available authorities like so"
   ]
  },
  {
   "cell_type": "code",
   "execution_count": 8,
   "id": "8aed469a-a7ef-4650-b502-e68731ce3166",
   "metadata": {},
   "outputs": [
    {
     "name": "stdout",
     "output_type": "stream",
     "text": [
      "['NCBI', 'ENSEMBL']\n"
     ]
    }
   ],
   "source": [
    "authority_list = gene_mapper.get_all_authorities()\n",
    "print(authority_list)"
   ]
  },
  {
   "cell_type": "markdown",
   "id": "d7cc1581-fbb9-4716-9089-1b386d8a52ad",
   "metadata": {},
   "source": [
    "Similarly, we can list the available citations."
   ]
  },
  {
   "cell_type": "code",
   "execution_count": 9,
   "id": "d7b988a9-1942-43d0-93f5-ae3f213fc766",
   "metadata": {},
   "outputs": [
    {
     "name": "stdout",
     "output_type": "stream",
     "text": [
      "['NCBI', 'ENSEMBL-10090-98', 'ENSEMBL-9606-101', 'HMBA']\n"
     ]
    }
   ],
   "source": [
    "citation_list = gene_mapper.get_all_citations()\n",
    "print([c['name'] for c in citation_list])"
   ]
  },
  {
   "cell_type": "markdown",
   "id": "1a0ff8ea-e421-42aa-a4a3-debf3e2aae0a",
   "metadata": {},
   "source": [
    "As mentioned above, different citations contain different metadata. For instance, the `NCBI` citation (referring to the data downloaded from the NCBI FTP server) contains a list of the files downloaded their hashes, and the date they were downloaded on (NCBI updates its FTP server daily; it's not clear that they keep readily available version information around, though we can certainly investigate that). This is what the `NCBI` citation metadata looks like:"
   ]
  },
  {
   "cell_type": "code",
   "execution_count": 10,
   "id": "574f35ac-fc92-4ac2-9768-67c92c2d9089",
   "metadata": {},
   "outputs": [
    {
     "name": "stdout",
     "output_type": "stream",
     "text": [
      "{\n",
      "  \"name\": \"NCBI\",\n",
      "  \"metadata\": {\n",
      "    \"gene_info.gz\": {\n",
      "      \"host\": \"ftp.ncbi.nlm.nih.gov\",\n",
      "      \"src_path\": \"gene/DATA/gene_info.gz\",\n",
      "      \"hash\": \"md5:1a9ff7008f26126ec4f6cee6fca4d33b\",\n",
      "      \"downloaded_on\": \"2025-04-18-15-24-22\"\n",
      "    },\n",
      "    \"gene2ensembl.gz\": {\n",
      "      \"host\": \"ftp.ncbi.nlm.nih.gov\",\n",
      "      \"src_path\": \"gene/DATA/gene2ensembl.gz\",\n",
      "      \"hash\": \"md5:46faf9bae8f5eaa5d8c50f5b735c86af\",\n",
      "      \"downloaded_on\": \"2025-04-18-15-25-32\"\n",
      "    },\n",
      "    \"gene_orthologs.gz\": {\n",
      "      \"host\": \"ftp.ncbi.nlm.nih.gov\",\n",
      "      \"src_path\": \"gene/DATA/gene_orthologs.gz\",\n",
      "      \"hash\": \"md5:441883dd9d941c89e9625ad26cedb47b\",\n",
      "      \"downloaded_on\": \"2025-04-18-15-26-53\"\n",
      "    }\n",
      "  }\n",
      "}\n"
     ]
    }
   ],
   "source": [
    "for citation in citation_list:\n",
    "    if citation['name'] == 'NCBI':\n",
    "        print(json.dumps(citation, indent=2))"
   ]
  },
  {
   "cell_type": "markdown",
   "id": "2e33b8b7-145d-45ae-b3eb-b889bdd38ed2",
   "metadata": {},
   "source": [
    "The citations based on BICAN bkbit files, contain all of the GenomeAnnotation and GenomeAssembly information in those files."
   ]
  },
  {
   "cell_type": "code",
   "execution_count": 11,
   "id": "022f5276-5b36-4242-bcc4-9d49c1ab0e7a",
   "metadata": {},
   "outputs": [
    {
     "name": "stdout",
     "output_type": "stream",
     "text": [
      "{\n",
      "  \"name\": \"ENSEMBL-10090-98\",\n",
      "  \"metadata\": {\n",
      "    \"biolink:OrganismTaxon\": {\n",
      "      \"id\": \"NCBITaxon:10090\",\n",
      "      \"iri\": \"http://purl.obolibrary.org/obo/NCBITaxon_10090\",\n",
      "      \"category\": [\n",
      "        \"biolink:OrganismTaxon\"\n",
      "      ],\n",
      "      \"name\": \"house mouse\",\n",
      "      \"full_name\": \"Mus musculus\"\n",
      "    },\n",
      "    \"bican:GenomeAssembly\": {\n",
      "      \"id\": \"NCBIAssembly:GCF_000001635.26\",\n",
      "      \"category\": [\n",
      "        \"bican:GenomeAssembly\"\n",
      "      ],\n",
      "      \"name\": \"GRCm38\",\n",
      "      \"in_taxon\": [\n",
      "        \"NCBITaxon:10090\"\n",
      "      ],\n",
      "      \"in_taxon_label\": \"Mus musculus\",\n",
      "      \"version\": \"26\"\n",
      "    },\n",
      "    \"bican:GenomeAnnotation\": {\n",
      "      \"id\": \"bican:annotation-ENSEMBL-10090-98\",\n",
      "      \"category\": [\n",
      "        \"bican:GenomeAnnotation\"\n",
      "      ],\n",
      "      \"description\": \"ENSEMBL Mus musculus Annotation Release 98\",\n",
      "      \"in_taxon\": [\n",
      "        \"NCBITaxon:10090\"\n",
      "      ],\n",
      "      \"in_taxon_label\": \"Mus musculus\",\n",
      "      \"version\": \"98\",\n",
      "      \"digest\": [\n",
      "        \"urn:uuid:58618e83-7b4c-46ed-b300-9df8abf1f5d0\"\n",
      "      ],\n",
      "      \"content_url\": [\n",
      "        \"https://ftp.ensembl.org/pub/release-98/gff3/mus_musculus/Mus_musculus.GRCm38.98.gff3.gz\"\n",
      "      ],\n",
      "      \"authority\": \"ENSEMBL\",\n",
      "      \"reference_assembly\": \"NCBIAssembly:GCF_000001635.26\"\n",
      "    }\n",
      "  }\n",
      "}\n"
     ]
    }
   ],
   "source": [
    "for citation in citation_list:\n",
    "    if citation['name'] == 'ENSEMBL-10090-98':\n",
    "        print(json.dumps(citation, indent=2))"
   ]
  },
  {
   "cell_type": "markdown",
   "id": "4d2ddc70-ac65-47a8-97ed-1143f45dd532",
   "metadata": {},
   "source": [
    "The `HMBA` citation is an ingest of a lookup table created by our science team. As such, it has the least detailed information."
   ]
  },
  {
   "cell_type": "code",
   "execution_count": 12,
   "id": "07020636-8a9f-46ef-bd73-4915d1cdeb61",
   "metadata": {},
   "outputs": [
    {
     "name": "stdout",
     "output_type": "stream",
     "text": [
      "{\n",
      "  \"name\": \"HMBA\",\n",
      "  \"metadata\": {\n",
      "    \"file\": \"../data/db_creation_data/all_gene_ids.csv\",\n",
      "    \"hash\": \"md5:3a038d261dfde93c95c0c1d9ede39a24\"\n",
      "  }\n",
      "}\n"
     ]
    }
   ],
   "source": [
    "for citation in citation_list:\n",
    "    if citation['name'] == 'HMBA':\n",
    "        print(json.dumps(citation, indent=2))"
   ]
  },
  {
   "cell_type": "markdown",
   "id": "c8e9c8f1-3011-409c-9e7b-96eb1f1340e4",
   "metadata": {},
   "source": [
    "### Data tables\n",
    "\n",
    "The data tables in the database are\n",
    "\n",
    "#### NCBI_species\n",
    "The `NCBI_species` table just ingests the NCBI organism taxonomy and records\n",
    "- id -- the NCBI taxon ID of the species\n",
    "- name -- the human readable name of the species. **Note:** we record all possible names (\"common\", \"scientific\", etc.) of the species in different rows. That way, users can give us whatever name they have for a species and, if possible, we can return an `id` for cross-referencing with other tables.\n",
    "\n",
    "This is meant to be hidden from the user. The user specifies the species when performing a mapping and the gene_mapper makes the necessary database call. Below, we will make the call \"by hand\", so you can see what is in the database."
   ]
  },
  {
   "cell_type": "code",
   "execution_count": 13,
   "id": "168ce703-d762-4386-a812-0c58e491cd7e",
   "metadata": {},
   "outputs": [
    {
     "name": "stdout",
     "output_type": "stream",
     "text": [
      "house mouse [(10090,)]\n",
      "Mus musculus [(10090,)]\n",
      "mouse [(10088,), (10090,)]\n",
      "human [(9606,)]\n",
      "Homo sapiens [(9606,)]\n"
     ]
    }
   ],
   "source": [
    "with sqlite3.connect(gene_mapper.db_path) as conn:\n",
    "    cursor = conn.cursor()\n",
    "    for name in ('house mouse', 'Mus musculus', 'mouse', 'human', 'Homo sapiens'):\n",
    "        result = cursor.execute(\n",
    "            \"\"\"\n",
    "            SELECT id FROM NCBI_species WHERE name=?\n",
    "            \"\"\",\n",
    "            (name,)\n",
    "        ).fetchall()\n",
    "        print(name,result)"
   ]
  },
  {
   "cell_type": "markdown",
   "id": "14fb7135-5d2a-4cdf-94e0-8bdb1739392e",
   "metadata": {},
   "source": [
    "**Note:** in the case of \"mouse\", there is more than one matching taxon. Calling a mapping with `species=\"mouse\"` will fail."
   ]
  },
  {
   "cell_type": "code",
   "execution_count": 14,
   "id": "6e2ad43d-c270-4d2d-8818-b0d22b7847d3",
   "metadata": {},
   "outputs": [
    {
     "ename": "ValueError",
     "evalue": "2 species match name mouse\n[(10088,), (10090,)]",
     "output_type": "error",
     "traceback": [
      "\u001b[31m---------------------------------------------------------------------------\u001b[39m",
      "\u001b[31mValueError\u001b[39m                                Traceback (most recent call last)",
      "\u001b[36mCell\u001b[39m\u001b[36m \u001b[39m\u001b[32mIn[14]\u001b[39m\u001b[32m, line 2\u001b[39m\n\u001b[32m      1\u001b[39m mouse_symbols = [\u001b[33m\"\u001b[39m\u001b[33mXkr4\u001b[39m\u001b[33m\"\u001b[39m, \u001b[33m\"\u001b[39m\u001b[33mNpbwr1\u001b[39m\u001b[33m\"\u001b[39m, \u001b[33m\"\u001b[39m\u001b[33mnot_a_symbol\u001b[39m\u001b[33m\"\u001b[39m, \u001b[33m\"\u001b[39m\u001b[33mRrs1\u001b[39m\u001b[33m\"\u001b[39m]\n\u001b[32m----> \u001b[39m\u001b[32m2\u001b[39m \u001b[43mgene_mapper\u001b[49m\u001b[43m.\u001b[49m\u001b[43midentifiers_from_symbols\u001b[49m\u001b[43m(\u001b[49m\n\u001b[32m      3\u001b[39m \u001b[43m    \u001b[49m\u001b[43mgene_symbol_list\u001b[49m\u001b[43m=\u001b[49m\u001b[43mmouse_symbols\u001b[49m\u001b[43m,\u001b[49m\n\u001b[32m      4\u001b[39m \u001b[43m    \u001b[49m\u001b[43mspecies_name\u001b[49m\u001b[43m=\u001b[49m\u001b[33;43m\"\u001b[39;49m\u001b[33;43mmouse\u001b[39;49m\u001b[33;43m\"\u001b[39;49m\u001b[43m,\u001b[49m\n\u001b[32m      5\u001b[39m \u001b[43m    \u001b[49m\u001b[43mauthority_name\u001b[49m\u001b[43m=\u001b[49m\u001b[33;43m\"\u001b[39;49m\u001b[33;43mENSEMBL\u001b[39;49m\u001b[33;43m\"\u001b[39;49m\n\u001b[32m      6\u001b[39m \u001b[43m)\u001b[49m\n",
      "\u001b[36mFile \u001b[39m\u001b[32m~/KnowledgeBase/garage/mmc_gene_mapper/src/mmc_gene_mapper/mapper/mapper.py:192\u001b[39m, in \u001b[36mMMCGeneMapper.identifiers_from_symbols\u001b[39m\u001b[34m(self, gene_symbol_list, species_name, authority_name)\u001b[39m\n\u001b[32m    156\u001b[39m \u001b[38;5;28;01mdef\u001b[39;00m\u001b[38;5;250m \u001b[39m\u001b[34midentifiers_from_symbols\u001b[39m(\n\u001b[32m    157\u001b[39m         \u001b[38;5;28mself\u001b[39m,\n\u001b[32m    158\u001b[39m         gene_symbol_list,\n\u001b[32m    159\u001b[39m         species_name,\n\u001b[32m    160\u001b[39m         authority_name):\n\u001b[32m    161\u001b[39m \u001b[38;5;250m    \u001b[39m\u001b[33;03m\"\"\"\u001b[39;00m\n\u001b[32m    162\u001b[39m \u001b[33;03m    Find the mapping that converts gene symbols into\u001b[39;00m\n\u001b[32m    163\u001b[39m \u001b[33;03m    gene identifiers\u001b[39;00m\n\u001b[32m   (...)\u001b[39m\u001b[32m    190\u001b[39m \u001b[33;03m        }\u001b[39;00m\n\u001b[32m    191\u001b[39m \u001b[33;03m    \"\"\"\u001b[39;00m\n\u001b[32m--> \u001b[39m\u001b[32m192\u001b[39m     species_taxon = \u001b[43mquery_utils\u001b[49m\u001b[43m.\u001b[49m\u001b[43mget_species_taxon\u001b[49m\u001b[43m(\u001b[49m\n\u001b[32m    193\u001b[39m \u001b[43m        \u001b[49m\u001b[43mdb_path\u001b[49m\u001b[43m=\u001b[49m\u001b[38;5;28;43mself\u001b[39;49m\u001b[43m.\u001b[49m\u001b[43mdb_path\u001b[49m\u001b[43m,\u001b[49m\n\u001b[32m    194\u001b[39m \u001b[43m        \u001b[49m\u001b[43mspecies_name\u001b[49m\u001b[43m=\u001b[49m\u001b[43mspecies_name\u001b[49m\u001b[43m,\u001b[49m\n\u001b[32m    195\u001b[39m \u001b[43m        \u001b[49m\u001b[43mstrict\u001b[49m\u001b[43m=\u001b[49m\u001b[38;5;28;43;01mTrue\u001b[39;49;00m\u001b[43m)\u001b[49m\n\u001b[32m    197\u001b[39m     result = query_utils.translate_gene_identifiers(\n\u001b[32m    198\u001b[39m         db_path=\u001b[38;5;28mself\u001b[39m.db_path,\n\u001b[32m    199\u001b[39m         src_column=\u001b[33m\"\u001b[39m\u001b[33msymbol\u001b[39m\u001b[33m\"\u001b[39m,\n\u001b[32m   (...)\u001b[39m\u001b[32m    204\u001b[39m         chunk_size=\u001b[32m500\u001b[39m\n\u001b[32m    205\u001b[39m     )\n\u001b[32m    206\u001b[39m     \u001b[38;5;28;01mreturn\u001b[39;00m result\n",
      "\u001b[36mFile \u001b[39m\u001b[32m~/KnowledgeBase/garage/mmc_gene_mapper/src/mmc_gene_mapper/query_db/query.py:34\u001b[39m, in \u001b[36mget_species_taxon\u001b[39m\u001b[34m(db_path, species_name, strict)\u001b[39m\n\u001b[32m     32\u001b[39m \u001b[38;5;28;01mwith\u001b[39;00m sqlite3.connect(db_path) \u001b[38;5;28;01mas\u001b[39;00m conn:\n\u001b[32m     33\u001b[39m     cursor = conn.cursor()\n\u001b[32m---> \u001b[39m\u001b[32m34\u001b[39m     result = \u001b[43m_get_species_taxon\u001b[49m\u001b[43m(\u001b[49m\n\u001b[32m     35\u001b[39m \u001b[43m        \u001b[49m\u001b[43mcursor\u001b[49m\u001b[43m=\u001b[49m\u001b[43mcursor\u001b[49m\u001b[43m,\u001b[49m\n\u001b[32m     36\u001b[39m \u001b[43m        \u001b[49m\u001b[43mspecies_name\u001b[49m\u001b[43m=\u001b[49m\u001b[43mspecies_name\u001b[49m\u001b[43m,\u001b[49m\n\u001b[32m     37\u001b[39m \u001b[43m        \u001b[49m\u001b[43mstrict\u001b[49m\u001b[43m=\u001b[49m\u001b[43mstrict\u001b[49m\u001b[43m)\u001b[49m\n\u001b[32m     38\u001b[39m \u001b[38;5;28;01mreturn\u001b[39;00m result\n",
      "\u001b[36mFile \u001b[39m\u001b[32m~/KnowledgeBase/garage/mmc_gene_mapper/src/mmc_gene_mapper/query_db/query.py:76\u001b[39m, in \u001b[36m_get_species_taxon\u001b[39m\u001b[34m(cursor, species_name, strict)\u001b[39m\n\u001b[32m     63\u001b[39m  results = cursor.execute(\n\u001b[32m     64\u001b[39m \u001b[38;5;250m    \u001b[39m\u001b[33;03m\"\"\"\u001b[39;00m\n\u001b[32m     65\u001b[39m \u001b[33;03m    SELECT\u001b[39;00m\n\u001b[32m   (...)\u001b[39m\u001b[32m     72\u001b[39m     (species_name,)\n\u001b[32m     73\u001b[39m ).fetchall()\n\u001b[32m     75\u001b[39m  \u001b[38;5;28;01mif\u001b[39;00m \u001b[38;5;28mlen\u001b[39m(results) > \u001b[32m1\u001b[39m:\n\u001b[32m---> \u001b[39m\u001b[32m76\u001b[39m      \u001b[38;5;28;01mraise\u001b[39;00m \u001b[38;5;167;01mValueError\u001b[39;00m(\n\u001b[32m     77\u001b[39m          \u001b[33mf\u001b[39m\u001b[33m\"\u001b[39m\u001b[38;5;132;01m{\u001b[39;00m\u001b[38;5;28mlen\u001b[39m(results)\u001b[38;5;132;01m}\u001b[39;00m\u001b[33m species match name \u001b[39m\u001b[38;5;132;01m{\u001b[39;00mspecies_name\u001b[38;5;132;01m}\u001b[39;00m\u001b[38;5;130;01m\\n\u001b[39;00m\u001b[33m\"\u001b[39m\n\u001b[32m     78\u001b[39m          \u001b[33mf\u001b[39m\u001b[33m\"\u001b[39m\u001b[38;5;132;01m{\u001b[39;00mresults\u001b[38;5;132;01m}\u001b[39;00m\u001b[33m\"\u001b[39m\n\u001b[32m     79\u001b[39m      )\n\u001b[32m     80\u001b[39m  \u001b[38;5;28;01melif\u001b[39;00m \u001b[38;5;28mlen\u001b[39m(results) == \u001b[32m0\u001b[39m:\n\u001b[32m     81\u001b[39m      \u001b[38;5;28;01mif\u001b[39;00m strict:\n",
      "\u001b[31mValueError\u001b[39m: 2 species match name mouse\n[(10088,), (10090,)]"
     ]
    }
   ],
   "source": [
    "mouse_symbols = [\"Xkr4\", \"Npbwr1\", \"not_a_symbol\", \"Rrs1\"]\n",
    "gene_mapper.identifiers_from_symbols(\n",
    "    gene_symbol_list=mouse_symbols,\n",
    "    species_name=\"mouse\",\n",
    "    authority_name=\"ENSEMBL\"\n",
    ")"
   ]
  },
  {
   "cell_type": "markdown",
   "id": "bedf5c05-1e66-4bf9-84f6-10853eda5c5e",
   "metadata": {},
   "source": [
    "A function is provided for listing all of the species the database knows about.\n",
    "\n",
    "**Note:** This is not a list of all of the species for which the database has gene information. It is merely a list of the species that can be associated with a taxon ID in the database (for cross-referencing with the tables that contain gene information)."
   ]
  },
  {
   "cell_type": "code",
   "execution_count": 15,
   "id": "3d62030b-b2ad-4af7-a393-ab856a1eb164",
   "metadata": {},
   "outputs": [
    {
     "name": "stdout",
     "output_type": "stream",
     "text": [
      "['Lathyrus setifolius', 'Lathyrus setifolius L., 1753', 'Lathyrus setiger', 'Lathyrus setiger Phil., 1864', 'Lathyrus sp. DRC-2004']\n"
     ]
    }
   ],
   "source": [
    "species_list = gene_mapper.get_all_species()\n",
    "print(species_list[2000000:2000005])"
   ]
  },
  {
   "cell_type": "code",
   "execution_count": 16,
   "id": "05a3656f-1f18-4573-9fb8-fcbc9cac865c",
   "metadata": {},
   "outputs": [
    {
     "data": {
      "text/plain": [
       "True"
      ]
     },
     "execution_count": 16,
     "metadata": {},
     "output_type": "execute_result"
    }
   ],
   "source": [
    "'Homo sapiens' in species_list"
   ]
  },
  {
   "cell_type": "code",
   "execution_count": 17,
   "id": "ae419412-4c1a-4a5b-beab-266fdf1ff983",
   "metadata": {},
   "outputs": [
    {
     "data": {
      "text/plain": [
       "4069125"
      ]
     },
     "execution_count": 17,
     "metadata": {},
     "output_type": "execute_result"
    }
   ],
   "source": [
    "len(species_list)"
   ]
  },
  {
   "cell_type": "markdown",
   "id": "5631dbf9-e172-4bbc-9c08-77527c3722b0",
   "metadata": {},
   "source": [
    "#### gene\n",
    "The `gene` table contains all of the information about individual genes ingested into the database. Columns are\n",
    "- authority -- an integer for cross-referencing the `authority` table\n",
    "- citation -- an integer for cross-referencing the `citation` table\n",
    "- species_taxon -- an integer for cross-refereneing the `NCBI_species` table\n",
    "- id -- an integer for internal indexing\n",
    "- identifier -- a string. The full unique identifier (e.g. ENSMUS0000G12345) of the gene\n",
    "- symbol -- a string. The human-readable name of the gene (**Note:** the BICAN bkbit files contain `symbol` and `name` entries for genes. If these differ, both are ingested as a separate row in the `gene` table with `name` being recorded in `symbol` as appropriate).\n",
    "\n",
    "#### gene_equivalence\n",
    "The `gene_equivalence` table records mappings between authorities (ENSEMBL and NCBI). Its columns are\n",
    "- species_taxon -- an integer for cross-referencing with the `NCBI_species` table (in what species are we looking for equivalences?)\n",
    "- citation -- an integer for cross-referencing with the `citation` table (who said these genes were equivalent?)\n",
    "- authority0 -- an integer for cross-referencing with the `authority` table\n",
    "- gene0 -- an integer; the ID of the gene in `authority0`\n",
    "- authority1 -- an integer for cross-referncing with the `authority` table\n",
    "- gene1 -- an integer; the ID of the gene in `authority1` that is equivalent to `gene0` according to `citation`.\n",
    "\n",
    "**Note:** we record equivalences symmetrically, so that every `(gene0, gene1)` pair is also recorded as `(gene1, gene0)` so that users do not have to worry about which index (`gene0` or `gene1`) their input data is compared to.\n",
    "\n",
    "#### gene_ortholog\n",
    "The `gene_ortholog` table records cross-species ortholog relationships. Its columns are\n",
    "- authority -- an integer for cross-referencing the `authority` table (are we looking for NCBI orthologs or ENSEMBL orthologs?)\n",
    "- citation -- an integer for cross-referencing the `citation` table (who said these genes were orthologs?)\n",
    "- species -- an integer for cross-referencing the `NCBI_species` table\n",
    "- gene -- an integer, the ID of the gene in `species` whose orthologs we are looking for\n",
    "- ortholog_group -- an integer; genes with the same value of `ortholog_group` are orthologs of each other\n"
   ]
  },
  {
   "cell_type": "markdown",
   "id": "b06f1579-1a0b-498a-8533-a1349ef70543",
   "metadata": {},
   "source": [
    "## Actually mapping data\n",
    "\n",
    "The `gene_mapper` provides funtions to perform the various mappings we support, namely\n",
    "- gene symbol to gene identifier within one authority\n",
    "- identifier to identifier across authorities\n",
    "- identifier to identifier across species within one authority\n",
    "\n",
    "The functions return a dict containing all of the relevant mappings, including 1:N mappings (it is left to the user to decide what to do in those cases) along with the metadata necessary to understand the provenance of the mapping."
   ]
  },
  {
   "cell_type": "markdown",
   "id": "b101728c-7ce8-4b0b-922a-26b6b721b8de",
   "metadata": {},
   "source": [
    "### Mapping symbols to identifiers\n",
    "\n",
    "For instance, here is a function call mapping gene symbols to gene identifiers in ENSEMBL"
   ]
  },
  {
   "cell_type": "code",
   "execution_count": 18,
   "id": "e819cc2a-b66c-4d24-8e68-11d4e2cae8e0",
   "metadata": {},
   "outputs": [
    {
     "name": "stdout",
     "output_type": "stream",
     "text": [
      "{\n",
      "  \"metadata\": {\n",
      "    \"authority\": {\n",
      "      \"name\": \"ENSEMBL\",\n",
      "      \"idx\": 1\n",
      "    },\n",
      "    \"citation\": {\n",
      "      \"name\": \"ENSEMBL-10090-98\",\n",
      "      \"metadata\": {\n",
      "        \"biolink:OrganismTaxon\": {\n",
      "          \"id\": \"NCBITaxon:10090\",\n",
      "          \"iri\": \"http://purl.obolibrary.org/obo/NCBITaxon_10090\",\n",
      "          \"category\": [\n",
      "            \"biolink:OrganismTaxon\"\n",
      "          ],\n",
      "          \"name\": \"house mouse\",\n",
      "          \"full_name\": \"Mus musculus\"\n",
      "        },\n",
      "        \"bican:GenomeAssembly\": {\n",
      "          \"id\": \"NCBIAssembly:GCF_000001635.26\",\n",
      "          \"category\": [\n",
      "            \"bican:GenomeAssembly\"\n",
      "          ],\n",
      "          \"name\": \"GRCm38\",\n",
      "          \"in_taxon\": [\n",
      "            \"NCBITaxon:10090\"\n",
      "          ],\n",
      "          \"in_taxon_label\": \"Mus musculus\",\n",
      "          \"version\": \"26\"\n",
      "        },\n",
      "        \"bican:GenomeAnnotation\": {\n",
      "          \"id\": \"bican:annotation-ENSEMBL-10090-98\",\n",
      "          \"category\": [\n",
      "            \"bican:GenomeAnnotation\"\n",
      "          ],\n",
      "          \"description\": \"ENSEMBL Mus musculus Annotation Release 98\",\n",
      "          \"in_taxon\": [\n",
      "            \"NCBITaxon:10090\"\n",
      "          ],\n",
      "          \"in_taxon_label\": \"Mus musculus\",\n",
      "          \"version\": \"98\",\n",
      "          \"digest\": [\n",
      "            \"urn:uuid:58618e83-7b4c-46ed-b300-9df8abf1f5d0\"\n",
      "          ],\n",
      "          \"content_url\": [\n",
      "            \"https://ftp.ensembl.org/pub/release-98/gff3/mus_musculus/Mus_musculus.GRCm38.98.gff3.gz\"\n",
      "          ],\n",
      "          \"authority\": \"ENSEMBL\",\n",
      "          \"reference_assembly\": \"NCBIAssembly:GCF_000001635.26\"\n",
      "        }\n",
      "      },\n",
      "      \"idx\": 1\n",
      "    }\n",
      "  },\n",
      "  \"mapping\": {\n",
      "    \"Xkr4\": [\n",
      "      \"ENSMUSG00000051951\"\n",
      "    ],\n",
      "    \"Npbwr1\": [\n",
      "      \"ENSMUSG00000033774\"\n",
      "    ],\n",
      "    \"not_a_symbol\": [],\n",
      "    \"Rrs1\": [\n",
      "      \"ENSMUSG00000061024\"\n",
      "    ]\n",
      "  }\n",
      "}\n"
     ]
    }
   ],
   "source": [
    "mouse_symbols = [\"Xkr4\", \"Npbwr1\", \"not_a_symbol\", \"Rrs1\"]\n",
    "mouse_ens_mapping = gene_mapper.identifiers_from_symbols_mapping(\n",
    "    gene_symbol_list=mouse_symbols,\n",
    "    species_name=\"Mus musculus\",\n",
    "    authority_name=\"ENSEMBL\"\n",
    ")\n",
    "print(json.dumps(mouse_ens_mapping, indent=2))"
   ]
  },
  {
   "cell_type": "markdown",
   "id": "92c19413-d2db-4c95-87c9-1288c04d3344",
   "metadata": {},
   "source": [
    "For ease of reading, here is the output broken down into metadata"
   ]
  },
  {
   "cell_type": "code",
   "execution_count": 19,
   "id": "47c529fc-edbb-408d-a4f0-dd2f4075d716",
   "metadata": {},
   "outputs": [
    {
     "name": "stdout",
     "output_type": "stream",
     "text": [
      "{\n",
      "  \"authority\": {\n",
      "    \"name\": \"ENSEMBL\",\n",
      "    \"idx\": 1\n",
      "  },\n",
      "  \"citation\": {\n",
      "    \"name\": \"ENSEMBL-10090-98\",\n",
      "    \"metadata\": {\n",
      "      \"biolink:OrganismTaxon\": {\n",
      "        \"id\": \"NCBITaxon:10090\",\n",
      "        \"iri\": \"http://purl.obolibrary.org/obo/NCBITaxon_10090\",\n",
      "        \"category\": [\n",
      "          \"biolink:OrganismTaxon\"\n",
      "        ],\n",
      "        \"name\": \"house mouse\",\n",
      "        \"full_name\": \"Mus musculus\"\n",
      "      },\n",
      "      \"bican:GenomeAssembly\": {\n",
      "        \"id\": \"NCBIAssembly:GCF_000001635.26\",\n",
      "        \"category\": [\n",
      "          \"bican:GenomeAssembly\"\n",
      "        ],\n",
      "        \"name\": \"GRCm38\",\n",
      "        \"in_taxon\": [\n",
      "          \"NCBITaxon:10090\"\n",
      "        ],\n",
      "        \"in_taxon_label\": \"Mus musculus\",\n",
      "        \"version\": \"26\"\n",
      "      },\n",
      "      \"bican:GenomeAnnotation\": {\n",
      "        \"id\": \"bican:annotation-ENSEMBL-10090-98\",\n",
      "        \"category\": [\n",
      "          \"bican:GenomeAnnotation\"\n",
      "        ],\n",
      "        \"description\": \"ENSEMBL Mus musculus Annotation Release 98\",\n",
      "        \"in_taxon\": [\n",
      "          \"NCBITaxon:10090\"\n",
      "        ],\n",
      "        \"in_taxon_label\": \"Mus musculus\",\n",
      "        \"version\": \"98\",\n",
      "        \"digest\": [\n",
      "          \"urn:uuid:58618e83-7b4c-46ed-b300-9df8abf1f5d0\"\n",
      "        ],\n",
      "        \"content_url\": [\n",
      "          \"https://ftp.ensembl.org/pub/release-98/gff3/mus_musculus/Mus_musculus.GRCm38.98.gff3.gz\"\n",
      "        ],\n",
      "        \"authority\": \"ENSEMBL\",\n",
      "        \"reference_assembly\": \"NCBIAssembly:GCF_000001635.26\"\n",
      "      }\n",
      "    },\n",
      "    \"idx\": 1\n",
      "  }\n",
      "}\n"
     ]
    }
   ],
   "source": [
    "print(json.dumps(mouse_ens_mapping['metadata'], indent=2))"
   ]
  },
  {
   "cell_type": "markdown",
   "id": "efeb945b-2532-404e-bdcd-041d9cbd657f",
   "metadata": {},
   "source": [
    "and actual mapping"
   ]
  },
  {
   "cell_type": "code",
   "execution_count": 20,
   "id": "e7a8ffb2-e609-4c83-abe7-8d8536652850",
   "metadata": {},
   "outputs": [
    {
     "name": "stdout",
     "output_type": "stream",
     "text": [
      "{\n",
      "  \"Xkr4\": [\n",
      "    \"ENSMUSG00000051951\"\n",
      "  ],\n",
      "  \"Npbwr1\": [\n",
      "    \"ENSMUSG00000033774\"\n",
      "  ],\n",
      "  \"not_a_symbol\": [],\n",
      "  \"Rrs1\": [\n",
      "    \"ENSMUSG00000061024\"\n",
      "  ]\n",
      "}\n"
     ]
    }
   ],
   "source": [
    "print(json.dumps(mouse_ens_mapping['mapping'], indent=2))"
   ]
  },
  {
   "cell_type": "markdown",
   "id": "268dfc10-1ce4-42c4-928a-8caba10d5f77",
   "metadata": {},
   "source": [
    "Here is a similar call mapping symbols to identifiers in NCBI"
   ]
  },
  {
   "cell_type": "code",
   "execution_count": 21,
   "id": "3016fa95-15a5-4cf4-b1d8-9b6031183b10",
   "metadata": {},
   "outputs": [
    {
     "name": "stdout",
     "output_type": "stream",
     "text": [
      "{\n",
      "  \"metadata\": {\n",
      "    \"authority\": {\n",
      "      \"name\": \"NCBI\",\n",
      "      \"idx\": 0\n",
      "    },\n",
      "    \"citation\": {\n",
      "      \"name\": \"NCBI\",\n",
      "      \"metadata\": {\n",
      "        \"gene_info.gz\": {\n",
      "          \"host\": \"ftp.ncbi.nlm.nih.gov\",\n",
      "          \"src_path\": \"gene/DATA/gene_info.gz\",\n",
      "          \"hash\": \"md5:1a9ff7008f26126ec4f6cee6fca4d33b\",\n",
      "          \"downloaded_on\": \"2025-04-18-15-24-22\"\n",
      "        },\n",
      "        \"gene2ensembl.gz\": {\n",
      "          \"host\": \"ftp.ncbi.nlm.nih.gov\",\n",
      "          \"src_path\": \"gene/DATA/gene2ensembl.gz\",\n",
      "          \"hash\": \"md5:46faf9bae8f5eaa5d8c50f5b735c86af\",\n",
      "          \"downloaded_on\": \"2025-04-18-15-25-32\"\n",
      "        },\n",
      "        \"gene_orthologs.gz\": {\n",
      "          \"host\": \"ftp.ncbi.nlm.nih.gov\",\n",
      "          \"src_path\": \"gene/DATA/gene_orthologs.gz\",\n",
      "          \"hash\": \"md5:441883dd9d941c89e9625ad26cedb47b\",\n",
      "          \"downloaded_on\": \"2025-04-18-15-26-53\"\n",
      "        }\n",
      "      },\n",
      "      \"idx\": 0\n",
      "    }\n",
      "  },\n",
      "  \"mapping\": {\n",
      "    \"Xkr4\": [\n",
      "      \"NCBIGene:497097\"\n",
      "    ],\n",
      "    \"Npbwr1\": [\n",
      "      \"NCBIGene:226304\"\n",
      "    ],\n",
      "    \"not_a_symbol\": [],\n",
      "    \"Rrs1\": [\n",
      "      \"NCBIGene:59014\"\n",
      "    ]\n",
      "  }\n",
      "}\n"
     ]
    }
   ],
   "source": [
    "mouse_ncbi_mapping = gene_mapper.identifiers_from_symbols_mapping(\n",
    "    gene_symbol_list=mouse_symbols,\n",
    "    species_name=\"Mus musculus\",\n",
    "    authority_name=\"NCBI\"\n",
    ")\n",
    "print(json.dumps(mouse_ncbi_mapping, indent=2))"
   ]
  },
  {
   "cell_type": "markdown",
   "id": "4b219d40-cffb-45de-9306-05d4166aaa72",
   "metadata": {},
   "source": [
    "### Mapping from ENSEMBL to NCBI\n",
    "\n",
    "Below is a function call mapping ENSEMBL IDs to NCBI IDs using the gene equivalences downloaded from the NCBI FTP server. Note that all of the mappings map one ENSEMBL ID to two NCBI IDs."
   ]
  },
  {
   "cell_type": "code",
   "execution_count": 22,
   "id": "82ceb93a-2539-4d79-86c6-dbfe4f34ed7f",
   "metadata": {},
   "outputs": [
    {
     "name": "stdout",
     "output_type": "stream",
     "text": [
      "{\n",
      "  \"metadata\": {\n",
      "    \"key_authority\": \"ENSEMBL\",\n",
      "    \"value_authority\": \"NCBI\",\n",
      "    \"citation\": {\n",
      "      \"name\": \"NCBI\",\n",
      "      \"idx\": 0,\n",
      "      \"metadata\": {\n",
      "        \"gene_info.gz\": {\n",
      "          \"host\": \"ftp.ncbi.nlm.nih.gov\",\n",
      "          \"src_path\": \"gene/DATA/gene_info.gz\",\n",
      "          \"hash\": \"md5:1a9ff7008f26126ec4f6cee6fca4d33b\",\n",
      "          \"downloaded_on\": \"2025-04-18-15-24-22\"\n",
      "        },\n",
      "        \"gene2ensembl.gz\": {\n",
      "          \"host\": \"ftp.ncbi.nlm.nih.gov\",\n",
      "          \"src_path\": \"gene/DATA/gene2ensembl.gz\",\n",
      "          \"hash\": \"md5:46faf9bae8f5eaa5d8c50f5b735c86af\",\n",
      "          \"downloaded_on\": \"2025-04-18-15-25-32\"\n",
      "        },\n",
      "        \"gene_orthologs.gz\": {\n",
      "          \"host\": \"ftp.ncbi.nlm.nih.gov\",\n",
      "          \"src_path\": \"gene/DATA/gene_orthologs.gz\",\n",
      "          \"hash\": \"md5:441883dd9d941c89e9625ad26cedb47b\",\n",
      "          \"downloaded_on\": \"2025-04-18-15-26-53\"\n",
      "        }\n",
      "      }\n",
      "    }\n",
      "  },\n",
      "  \"mapping\": {\n",
      "    \"ENSMUSG00000021983\": [\n",
      "      \"NCBIGene:50769\",\n",
      "      \"NCBIGene:108168164\"\n",
      "    ],\n",
      "    \"ENSMUSG00000030337\": [\n",
      "      \"NCBIGene:22317\",\n",
      "      \"NCBIGene:78668\"\n",
      "    ],\n",
      "    \"ENSMUSG00000037747\": [\n",
      "      \"NCBIGene:70911\",\n",
      "      \"NCBIGene:319646\"\n",
      "    ],\n",
      "    \"nope\": []\n",
      "  }\n",
      "}\n"
     ]
    }
   ],
   "source": [
    "ens_to_ncbi = gene_mapper.equivalent_genes_mapping(\n",
    "    input_authority='ENSEMBL',\n",
    "    output_authority='NCBI',\n",
    "    gene_list=[\"ENSMUSG00000030337\", \"ENSMUSG00000037747\", \"nope\", \"ENSMUSG00000021983\"],\n",
    "    species_name=\"Mus musculus\",\n",
    "    citation_name=\"NCBI\"\n",
    ")\n",
    "print(json.dumps(ens_to_ncbi, indent=2))"
   ]
  },
  {
   "cell_type": "markdown",
   "id": "58e593be-05dc-4df9-8fbd-9abd678b197f",
   "metadata": {},
   "source": [
    "Here is a call mapping from NCBI to ENSEMBL"
   ]
  },
  {
   "cell_type": "code",
   "execution_count": 23,
   "id": "fbad7610-4142-45db-9f39-db97163c3280",
   "metadata": {},
   "outputs": [
    {
     "name": "stdout",
     "output_type": "stream",
     "text": [
      "{\n",
      "  \"metadata\": {\n",
      "    \"key_authority\": \"NCBI\",\n",
      "    \"value_authority\": \"ENSEMBL\",\n",
      "    \"citation\": {\n",
      "      \"name\": \"NCBI\",\n",
      "      \"idx\": 0,\n",
      "      \"metadata\": {\n",
      "        \"gene_info.gz\": {\n",
      "          \"host\": \"ftp.ncbi.nlm.nih.gov\",\n",
      "          \"src_path\": \"gene/DATA/gene_info.gz\",\n",
      "          \"hash\": \"md5:1a9ff7008f26126ec4f6cee6fca4d33b\",\n",
      "          \"downloaded_on\": \"2025-04-18-15-24-22\"\n",
      "        },\n",
      "        \"gene2ensembl.gz\": {\n",
      "          \"host\": \"ftp.ncbi.nlm.nih.gov\",\n",
      "          \"src_path\": \"gene/DATA/gene2ensembl.gz\",\n",
      "          \"hash\": \"md5:46faf9bae8f5eaa5d8c50f5b735c86af\",\n",
      "          \"downloaded_on\": \"2025-04-18-15-25-32\"\n",
      "        },\n",
      "        \"gene_orthologs.gz\": {\n",
      "          \"host\": \"ftp.ncbi.nlm.nih.gov\",\n",
      "          \"src_path\": \"gene/DATA/gene_orthologs.gz\",\n",
      "          \"hash\": \"md5:441883dd9d941c89e9625ad26cedb47b\",\n",
      "          \"downloaded_on\": \"2025-04-18-15-26-53\"\n",
      "        }\n",
      "      }\n",
      "    }\n",
      "  },\n",
      "  \"mapping\": {\n",
      "    \"NCBIGene:54200\": [\n",
      "      \"ENSMUSG00000003271\"\n",
      "    ],\n",
      "    \"NCBIGene:67269\": [\n",
      "      \"ENSMUSG00000021557\"\n",
      "    ],\n",
      "    \"NCBIGene:70911\": [\n",
      "      \"ENSMUSG00000037747\"\n",
      "    ],\n",
      "    \"nope\": []\n",
      "  }\n",
      "}\n"
     ]
    }
   ],
   "source": [
    "ncbi_to_ens = gene_mapper.equivalent_genes_mapping(\n",
    "    input_authority='NCBI',\n",
    "    output_authority='ENSEMBL',\n",
    "    gene_list=[\"NCBIGene:67269\", \"NCBIGene:54200\", \"nope\", \"NCBIGene:70911\"],\n",
    "    species_name=\"Mus musculus\",\n",
    "    citation_name=\"NCBI\"\n",
    ")\n",
    "print(json.dumps(ncbi_to_ens, indent=2))"
   ]
  },
  {
   "cell_type": "markdown",
   "id": "0de3aa5c-2ebe-4921-8d9b-b8851eff6220",
   "metadata": {},
   "source": [
    "To simulate \"production scale,\" we will now download all of the genes in the Yao et al. 2023 10X gene panel and try mappping them from ENSEMBL to NCBI to see how long it takes to process that many genes."
   ]
  },
  {
   "cell_type": "code",
   "execution_count": 24,
   "id": "2e77f845-8585-4bab-8f79-1455a09b7d38",
   "metadata": {},
   "outputs": [
    {
     "name": "stderr",
     "output_type": "stream",
     "text": [
      "gene.csv: 100%|███████████████████████████| 2.30M/2.30M [00:00<00:00, 4.71MMB/s]\n"
     ]
    },
    {
     "name": "stdout",
     "output_type": "stream",
     "text": [
      "mapping 32285 genes took 1.88e+01 seconds\n",
      "24656 genes had NCBI matches\n",
      "24527 genes had exactly one NCBI match\n"
     ]
    }
   ],
   "source": [
    "wmb_gene_df = abc_cache.get_metadata_dataframe(\n",
    "    directory='WMB-10X',\n",
    "    file_name='gene'\n",
    ")\n",
    "wmb_genes = wmb_gene_df.gene_identifier.values\n",
    "t0 = time.time()\n",
    "wmb_ens_to_ncbi = gene_mapper.equivalent_genes_mapping(\n",
    "    input_authority='ENSEMBL',\n",
    "    output_authority='NCBI',\n",
    "    gene_list=wmb_genes,\n",
    "    species_name='Mus musculus',\n",
    "    citation_name='NCBI'\n",
    ")\n",
    "dur = time.time()-t0\n",
    "print(f'mapping {len(wmb_genes)} genes took {dur:.2e} seconds')\n",
    "\n",
    "n_mapped = 0\n",
    "n_one_to_one = 0\n",
    "for k in wmb_genes:\n",
    "    if len(wmb_ens_to_ncbi['mapping'][k]) > 0:\n",
    "        n_mapped += 1\n",
    "    if len(wmb_ens_to_ncbi['mapping'][k]) == 1:\n",
    "        n_one_to_one += 1\n",
    "print(f'{n_mapped} genes had NCBI matches')\n",
    "print(f'{n_one_to_one} genes had exactly one NCBI match')"
   ]
  },
  {
   "cell_type": "markdown",
   "id": "2f2f4586-8ded-4785-abe4-81f89075e263",
   "metadata": {},
   "source": [
    "Now we will download the marker genes used by MapMyCells for the Whole Mouse Brain taxonomy and try mapping them from ENSEMBL to NCBI."
   ]
  },
  {
   "cell_type": "code",
   "execution_count": 25,
   "id": "d377c657-9985-4bf6-8a73-8d7a4d19d235",
   "metadata": {},
   "outputs": [
    {
     "name": "stdout",
     "output_type": "stream",
     "text": [
      "downloading ../data/mouse_markers_230821.json\n"
     ]
    }
   ],
   "source": [
    "src_path = \"https://allen-brain-cell-atlas.s3-us-west-2.amazonaws.com/mapmycells/WMB-10X/20240831/mouse_markers_230821.json\"\n",
    "wmb_marker_path = pathlib.Path('../data/mouse_markers_230821.json')\n",
    "if not wmb_marker_path.is_file():\n",
    "    print(f\"downloading {wmb_marker_path}\")\n",
    "    process = subprocess.Popen(\n",
    "        args=[\n",
    "           \"wget\",\n",
    "            src_path,\n",
    "            \"-O\",\n",
    "            str(wmb_marker_path),\n",
    "        ],\n",
    "        stderr=subprocess.DEVNULL\n",
    "    )\n",
    "    process.wait()"
   ]
  },
  {
   "cell_type": "code",
   "execution_count": 26,
   "id": "de440719-7e4b-49eb-898f-803a84215488",
   "metadata": {},
   "outputs": [],
   "source": [
    "marker_genes = set()\n",
    "with open(wmb_marker_path, 'rb') as src:\n",
    "    marker_lookup = json.load(src)\n",
    "for key in marker_lookup:\n",
    "    if key in ('log', 'metadata'):\n",
    "        continue\n",
    "    marker_genes = marker_genes.union(set(marker_lookup[key]))\n",
    "marker_genes = sorted(marker_genes)"
   ]
  },
  {
   "cell_type": "markdown",
   "id": "34db75d7-ca7f-4daa-9732-8729fcfab7c6",
   "metadata": {},
   "source": [
    "Let's now map our mouse marker genes from ENSEMBL to NCBI"
   ]
  },
  {
   "cell_type": "code",
   "execution_count": 27,
   "id": "a611509d-1366-4cba-983f-4f54d5805b43",
   "metadata": {},
   "outputs": [
    {
     "name": "stdout",
     "output_type": "stream",
     "text": [
      "6558 marker genes\n",
      "mappiing 6558 genes took 1.35e+00 seconds\n",
      "6525 genes had NCBI matches\n",
      "6493 genes had exactly one NCBI match\n"
     ]
    }
   ],
   "source": [
    "print(f'{len(marker_genes)} marker genes')\n",
    "t0 = time.time()\n",
    "marker_ens_to_ncbi = gene_mapper.equivalent_genes_mapping(\n",
    "    input_authority='ENSEMBL',\n",
    "    output_authority='NCBI',\n",
    "    gene_list=marker_genes,\n",
    "    species_name='Mus musculus',\n",
    "    citation_name='NCBI'\n",
    ")\n",
    "dur = time.time()-t0\n",
    "print(f'mappiing {len(marker_genes)} genes took {dur:.2e} seconds')\n",
    "\n",
    "n_mapped = 0\n",
    "n_one_to_one = 0\n",
    "for k in marker_genes:\n",
    "    if len(marker_ens_to_ncbi['mapping'][k]) > 0:\n",
    "        n_mapped += 1\n",
    "    if len(marker_ens_to_ncbi['mapping'][k]) == 1:\n",
    "        n_one_to_one += 1\n",
    "print(f'{n_mapped} genes had NCBI matches')\n",
    "print(f'{n_one_to_one} genes had exactly one NCBI match')"
   ]
  },
  {
   "cell_type": "markdown",
   "id": "18007eeb-c0c7-4f9f-b6a2-ba6e3ae8a285",
   "metadata": {},
   "source": [
    "### Ortholog mapping\n",
    "\n",
    "To test ortholog mapping, let's take the genes from Yao et al. 2023 that only mapped to one NCBI gene and map them to human orthologs."
   ]
  },
  {
   "cell_type": "code",
   "execution_count": 28,
   "id": "e65f211e-09d6-4962-a42d-018c457d1e4e",
   "metadata": {},
   "outputs": [],
   "source": [
    "wmb_ncbi_genes = [\n",
    "    wmb_ens_to_ncbi['mapping'][ens][0]\n",
    "    for ens in wmb_genes\n",
    "    if len(wmb_ens_to_ncbi['mapping'][ens]) == 1\n",
    "]"
   ]
  },
  {
   "cell_type": "markdown",
   "id": "f925d36c-603b-4d3d-bd7c-e585cd09d0ab",
   "metadata": {},
   "source": [
    "First let's just map 5 genes so that we can display the output and see what it looks like"
   ]
  },
  {
   "cell_type": "code",
   "execution_count": 29,
   "id": "f6d5b0d1-353b-42fa-a0bf-6baf5eaac714",
   "metadata": {},
   "outputs": [
    {
     "name": "stdout",
     "output_type": "stream",
     "text": [
      "{\n",
      "  \"metadata\": {\n",
      "    \"authority\": \"NCBI\",\n",
      "    \"citation\": {\n",
      "      \"gene_info.gz\": {\n",
      "        \"host\": \"ftp.ncbi.nlm.nih.gov\",\n",
      "        \"src_path\": \"gene/DATA/gene_info.gz\",\n",
      "        \"hash\": \"md5:1a9ff7008f26126ec4f6cee6fca4d33b\",\n",
      "        \"downloaded_on\": \"2025-04-18-15-24-22\"\n",
      "      },\n",
      "      \"gene2ensembl.gz\": {\n",
      "        \"host\": \"ftp.ncbi.nlm.nih.gov\",\n",
      "        \"src_path\": \"gene/DATA/gene2ensembl.gz\",\n",
      "        \"hash\": \"md5:46faf9bae8f5eaa5d8c50f5b735c86af\",\n",
      "        \"downloaded_on\": \"2025-04-18-15-25-32\"\n",
      "      },\n",
      "      \"gene_orthologs.gz\": {\n",
      "        \"host\": \"ftp.ncbi.nlm.nih.gov\",\n",
      "        \"src_path\": \"gene/DATA/gene_orthologs.gz\",\n",
      "        \"hash\": \"md5:441883dd9d941c89e9625ad26cedb47b\",\n",
      "        \"downloaded_on\": \"2025-04-18-15-26-53\"\n",
      "      }\n",
      "    },\n",
      "    \"src_species_taxon\": 10090,\n",
      "    \"dst_species_taxon\": 9606\n",
      "  },\n",
      "  \"mapping\": {\n",
      "    \"NCBIGene:19888\": [\n",
      "      \"NCBIGene:6101\"\n",
      "    ],\n",
      "    \"NCBIGene:20671\": [\n",
      "      \"NCBIGene:64321\"\n",
      "    ],\n",
      "    \"NCBIGene:27395\": [\n",
      "      \"NCBIGene:29088\"\n",
      "    ],\n",
      "    \"NCBIGene:497097\": [\n",
      "      \"NCBIGene:114786\"\n",
      "    ],\n",
      "    \"not_an_actual_gene\": [],\n",
      "    \"NCBIGene:108167609\": []\n",
      "  }\n",
      "}\n"
     ]
    }
   ],
   "source": [
    "test_orthologs = gene_mapper.ortholog_genes_mapping(\n",
    "    authority='NCBI',\n",
    "    src_species_name='Mus musculus',\n",
    "    dst_species_name='human',\n",
    "    gene_list=wmb_ncbi_genes[:5] + ['not_an_actual_gene'],\n",
    "    citation_name='NCBI'\n",
    ")\n",
    "print(json.dumps(test_orthologs, indent=2))"
   ]
  },
  {
   "cell_type": "markdown",
   "id": "8f91cd2c-6fee-40ef-95d3-42a700dde6b3",
   "metadata": {},
   "source": [
    "Now let's map all 24,000 genes and see how long that takes"
   ]
  },
  {
   "cell_type": "code",
   "execution_count": 30,
   "id": "f70b0ce1-694d-42ea-907c-18f68d6ffc62",
   "metadata": {},
   "outputs": [
    {
     "name": "stdout",
     "output_type": "stream",
     "text": [
      "mapping 24527 orthologs took 9.33e+00 seconds\n",
      "16508 genes had orthologs\n",
      "16508 genes had exactly one ortholog\n"
     ]
    }
   ],
   "source": [
    "t0 = time.time()\n",
    "wmb_to_whb_orthologs = gene_mapper.ortholog_genes_mapping(\n",
    "    authority='NCBI',\n",
    "    src_species_name='Mus musculus',\n",
    "    dst_species_name='human',\n",
    "    gene_list=wmb_ncbi_genes,\n",
    "    citation_name='NCBI'\n",
    ")\n",
    "dur = time.time()-t0\n",
    "print(f'mapping {len(wmb_ncbi_genes)} orthologs took {dur:.2e} seconds')\n",
    "n_mapped = 0\n",
    "n_one_to_one = 0\n",
    "for k in wmb_ncbi_genes:\n",
    "    if len(wmb_to_whb_orthologs['mapping'][k]) > 0:\n",
    "        n_mapped += 1\n",
    "    if len(wmb_to_whb_orthologs['mapping'][k]) == 1:\n",
    "        n_one_to_one += 1\n",
    "print(f'{n_mapped} genes had orthologs')\n",
    "print(f'{n_one_to_one} genes had exactly one ortholog')"
   ]
  },
  {
   "cell_type": "markdown",
   "id": "6ab77854-a424-417b-95fe-b6bd33d224f1",
   "metadata": {},
   "source": [
    "To map orthologs using the \"by-hand\" look up table created by our science team, change the kwarg `citation='HMBA'`"
   ]
  },
  {
   "cell_type": "code",
   "execution_count": 31,
   "id": "67551f79-568a-48ff-9f1e-3ce18676167e",
   "metadata": {},
   "outputs": [
    {
     "name": "stdout",
     "output_type": "stream",
     "text": [
      "mapping 24527 orthologs took 9.23e+00 seconds\n",
      "16450 genes had orthologs\n",
      "16450 genes had exactly one ortholog\n"
     ]
    }
   ],
   "source": [
    "t0 = time.time()\n",
    "wmb_to_whb_orthologs_hmba = gene_mapper.ortholog_genes_mapping(\n",
    "    authority='NCBI',\n",
    "    src_species_name='Mus musculus',\n",
    "    dst_species_name='human',\n",
    "    gene_list=wmb_ncbi_genes,\n",
    "    citation_name='HMBA'\n",
    ")\n",
    "dur = time.time()-t0\n",
    "print(f'mapping {len(wmb_ncbi_genes)} orthologs took {dur:.2e} seconds')\n",
    "n_mapped = 0\n",
    "n_one_to_one = 0\n",
    "for k in wmb_ncbi_genes:\n",
    "    if len(wmb_to_whb_orthologs_hmba['mapping'][k]) > 0:\n",
    "        n_mapped += 1\n",
    "    if len(wmb_to_whb_orthologs_hmba['mapping'][k]) == 1:\n",
    "        n_one_to_one += 1\n",
    "print(f'{n_mapped} genes had orthologs')\n",
    "print(f'{n_one_to_one} genes had exactly one ortholog')"
   ]
  },
  {
   "cell_type": "markdown",
   "id": "24c6b414-f695-4f60-8129-ad8e043b2a08",
   "metadata": {},
   "source": [
    "#### Map from mouse to naked mole rat\n",
    "\n",
    "Now, inspired by a recent community forum post, let's take our mouse marker genes, convert them into NCBI identifiers, and finally convert those in to naked mole rat orthologs."
   ]
  },
  {
   "cell_type": "code",
   "execution_count": 32,
   "id": "e5177766-aacb-4f1c-8998-474530c890f0",
   "metadata": {},
   "outputs": [
    {
     "name": "stdout",
     "output_type": "stream",
     "text": [
      "mapping took 2.61e+00 seconds\n"
     ]
    }
   ],
   "source": [
    "t0 = time.time()\n",
    "\n",
    "marker_ens_to_ncbi = gene_mapper.equivalent_genes_mapping(\n",
    "    input_authority='ENSEMBL',\n",
    "    output_authority='NCBI',\n",
    "    gene_list=marker_genes,\n",
    "    species_name='Mus musculus',\n",
    "    citation_name='NCBI'\n",
    ")\n",
    "\n",
    "marker_as_ncbi = [\n",
    "    marker_ens_to_ncbi['mapping'][m][0]\n",
    "    for m in marker_genes\n",
    "    if m in marker_ens_to_ncbi['mapping'] and len(marker_ens_to_ncbi['mapping'][m]) == 1\n",
    "]\n",
    "\n",
    "naked_mole_rat = gene_mapper.ortholog_genes_mapping(\n",
    "    authority='NCBI',\n",
    "    src_species_name='Mus musculus',\n",
    "    dst_species_name='naked mole rat',\n",
    "    gene_list=marker_as_ncbi,\n",
    "    citation_name='NCBI'\n",
    ")\n",
    "\n",
    "dur = time.time()-t0\n",
    "print(f\"mapping took {dur:.2e} seconds\")"
   ]
  },
  {
   "cell_type": "code",
   "execution_count": 33,
   "id": "e127db52-806e-4b93-9b4b-7e6bb104b7ac",
   "metadata": {},
   "outputs": [
    {
     "name": "stdout",
     "output_type": "stream",
     "text": [
      "5619 markers of 6558 had a unique naked mole rat ortholog\n"
     ]
    }
   ],
   "source": [
    "only_one = 0\n",
    "for k in naked_mole_rat['mapping']:\n",
    "    if len(naked_mole_rat['mapping'][k]) == 1:\n",
    "        only_one += 1\n",
    "print(f'{only_one} markers of {len(marker_genes)} had a unique naked mole rat ortholog')"
   ]
  },
  {
   "cell_type": "markdown",
   "id": "8773ade5-5760-48a5-a4b6-cc61d30f9666",
   "metadata": {},
   "source": [
    "Here is the metadata for the naked mole rat ortholog mapping"
   ]
  },
  {
   "cell_type": "code",
   "execution_count": 34,
   "id": "ef0a81ca-e857-4896-affc-4e20dd202088",
   "metadata": {},
   "outputs": [
    {
     "data": {
      "text/plain": [
       "{'authority': 'NCBI',\n",
       " 'citation': {'gene_info.gz': {'host': 'ftp.ncbi.nlm.nih.gov',\n",
       "   'src_path': 'gene/DATA/gene_info.gz',\n",
       "   'hash': 'md5:1a9ff7008f26126ec4f6cee6fca4d33b',\n",
       "   'downloaded_on': '2025-04-18-15-24-22'},\n",
       "  'gene2ensembl.gz': {'host': 'ftp.ncbi.nlm.nih.gov',\n",
       "   'src_path': 'gene/DATA/gene2ensembl.gz',\n",
       "   'hash': 'md5:46faf9bae8f5eaa5d8c50f5b735c86af',\n",
       "   'downloaded_on': '2025-04-18-15-25-32'},\n",
       "  'gene_orthologs.gz': {'host': 'ftp.ncbi.nlm.nih.gov',\n",
       "   'src_path': 'gene/DATA/gene_orthologs.gz',\n",
       "   'hash': 'md5:441883dd9d941c89e9625ad26cedb47b',\n",
       "   'downloaded_on': '2025-04-18-15-26-53'}},\n",
       " 'src_species_taxon': 10090,\n",
       " 'dst_species_taxon': 10181}"
      ]
     },
     "execution_count": 34,
     "metadata": {},
     "output_type": "execute_result"
    }
   ],
   "source": [
    "naked_mole_rat['metadata']"
   ]
  },
  {
   "cell_type": "code",
   "execution_count": null,
   "id": "620829de-0ca5-49af-9942-aa2cba055d2a",
   "metadata": {},
   "outputs": [],
   "source": []
  }
 ],
 "metadata": {
  "kernelspec": {
   "display_name": "Python 3 (ipykernel)",
   "language": "python",
   "name": "python3"
  },
  "language_info": {
   "codemirror_mode": {
    "name": "ipython",
    "version": 3
   },
   "file_extension": ".py",
   "mimetype": "text/x-python",
   "name": "python",
   "nbconvert_exporter": "python",
   "pygments_lexer": "ipython3",
   "version": "3.12.9"
  }
 },
 "nbformat": 4,
 "nbformat_minor": 5
}
