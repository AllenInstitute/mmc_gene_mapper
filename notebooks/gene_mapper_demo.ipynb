{
 "cells": [
  {
   "cell_type": "markdown",
   "id": "db47bb03-b787-4cf7-9203-352dc7eb6ecd",
   "metadata": {},
   "source": [
    "The purpose of this notebook is to demonstrate the prototype gene mapper library put together to generalize the processes of\n",
    "\n",
    "- Mapping gene symbols to gene identifiers\n",
    "- Mapping gene identifiers across authorities (NCBI, ENSEMBL, etc.)\n",
    "- Mapping genes in one species to ortholog genes in another species\n",
    "\n",
    "for MapMyCells.\n",
    "\n",
    "In addition to the `mmc_gene_mapper` codebase and its dependencies, this notebook depends on the `abc_atlas_access` tool, though only for downloading metadata to simulate mapping 10s of thousands of genes at once (as we would with real user data)."
   ]
  },
  {
   "cell_type": "code",
   "execution_count": null,
   "id": "de6c8e20-d464-4151-b975-fe82d4014fec",
   "metadata": {},
   "outputs": [],
   "source": [
    "import h5py\n",
    "import json\n",
    "import pathlib\n",
    "import subprocess\n",
    "import sqlite3\n",
    "import time\n",
    "\n",
    "import abc_atlas_access.abc_atlas_cache.abc_project_cache as abc_cache_library\n",
    "\n",
    "import mmc_gene_mapper\n",
    "import mmc_gene_mapper.utils.file_utils as file_utils\n",
    "import mmc_gene_mapper.mapper.mapper as mapper"
   ]
  },
  {
   "cell_type": "code",
   "execution_count": 2,
   "id": "7351d2c5-f2fb-4446-8586-c9c2e25e9947",
   "metadata": {},
   "outputs": [],
   "source": [
    "abc_cache = abc_cache_library.AbcProjectCache.from_cache_dir('../data/abc_cache')"
   ]
  },
  {
   "cell_type": "code",
   "execution_count": 3,
   "id": "720a2f1f-34d6-42c7-a29a-5a28002d3d95",
   "metadata": {},
   "outputs": [],
   "source": [
    "data_dir = pathlib.Path(\n",
    "    mmc_gene_mapper.__file__).parent.parent.parent / \"data\"\n",
    "assert data_dir.is_dir()"
   ]
  },
  {
   "cell_type": "code",
   "execution_count": 4,
   "id": "cd3b6d12-9a81-4585-9955-1343acb0fb05",
   "metadata": {},
   "outputs": [],
   "source": [
    "db_path = data_dir/\"gene_mapper_example.db\"\n",
    "assert db_path.parent.is_dir()"
   ]
  },
  {
   "cell_type": "markdown",
   "id": "f02ee006-8ee1-4978-8d07-85d06dd3be8f",
   "metadata": {},
   "source": [
    "There are some files in\n",
    "```\n",
    "/allen/scratch/aibstemp/danielsf/gene_mapper_data\n",
    "```\n",
    "that are used to ingest data beyond what is available in the NCBI FTP server. Please copy those files to `../data/db_creation_data` in this respository (the cell below will fail if any of the files are not present)"
   ]
  },
  {
   "cell_type": "code",
   "execution_count": 5,
   "id": "06786610-8663-4821-9466-5db086caa52a",
   "metadata": {},
   "outputs": [],
   "source": [
    "data_file_spec=[\n",
    "    {\"type\": \"bkbit\",\n",
    "     \"path\": \"../data/db_creation_data/mouse_ENSEMBL-10090-98.jsonld\",\n",
    "     \"name\": \"bican:Mouse\"},\n",
    "    {\"type\": \"bkbit\",\n",
    "     \"path\": \"../data/db_creation_data/human_ENSEMBL-9606-101.jsonld\",\n",
    "     \"name\": \"bican:Human\"},\n",
    "    {\"type\": \"hmba_orthologs\",\n",
    "     \"path\": \"../data/db_creation_data/all_gene_ids.csv\",\n",
    "     \"name\": \"HMBA\",\n",
    "     \"baseline_species\": \"human\"}\n",
    "]\n",
    "\n",
    "error_msg = \"\"\n",
    "for spec in data_file_spec:\n",
    "    pth = pathlib.Path(spec['path'])\n",
    "    if not pth.is_file():\n",
    "        error_msg += f\"{pth} is not a file\\n\"\n",
    "if len(error_msg) > 0:\n",
    "    raise RuntimeError(msg)"
   ]
  },
  {
   "cell_type": "markdown",
   "id": "15278a0d-49a3-4942-8d12-dc52e366b70b",
   "metadata": {},
   "source": [
    "Below we instantiate the class that is used to actually do the mapping. The first time you run the cell, it will take ~ 15 minutes as it downloads ~ 4 GB of data from NCBI and ingests that data, alongside the local data from the cell above, to create an ~ 8 GB sqlite database that backs the mapping process.\n",
    "\n",
    "As long as you leave `clobber=False` below, you will not have to recreate that database on subsequent uses."
   ]
  },
  {
   "cell_type": "code",
   "execution_count": 6,
   "id": "3123694f-af49-49e9-aa15-8360b10baf2a",
   "metadata": {},
   "outputs": [
    {
     "name": "stdout",
     "output_type": "stream",
     "text": [
      "=======CREATING DB FILE=======\n",
      "=======CREATING TABLES=======\n",
      "=======INGESTING GENE INFO=======\n",
      "    chunk 0.00e+00, 5.00e+06\n",
      "    chunk 5.00e+06, 1.00e+07\n",
      "    chunk 1.00e+07, 1.50e+07\n",
      "    chunk 1.50e+07, 2.00e+07\n",
      "    chunk 2.00e+07, 2.50e+07\n",
      "    chunk 2.50e+07, 3.00e+07\n",
      "    chunk 3.00e+07, 3.50e+07\n",
      "    chunk 3.50e+07, 4.00e+07\n",
      "    chunk 4.00e+07, 4.50e+07\n",
      "    chunk 4.50e+07, 5.00e+07\n",
      "    chunk 5.00e+07, 5.50e+07\n",
      "    chunk 5.50e+07, 6.00e+07\n",
      "=======INGESTING GENE TO ENSEMBL=======\n",
      "=======INGESTING ORTHOLOGS=======\n",
      "=======INGESTING ../data/db_creation_data/mouse_ENSEMBL-10090-98.jsonld=======\n",
      "    INGESTING 55421 GENES\n",
      "=======INGESTING ../data/db_creation_data/human_ENSEMBL-9606-101.jsonld=======\n",
      "    INGESTING 60671 GENES\n",
      "=======INGESTING 681185 ORTHOLOG PAIRS=======\n",
      "    GOT SPECIES MAP\n",
      "=======ORTHOLOG INGESTION TOOK 2.71e-02 minutes=======\n",
      "=======DELETING INDEX gene_symbol_idx======\n",
      "=======CREATING INDEX gene_symbol_idx=======\n",
      "=======DELETING INDEX gene_id_idx======\n",
      "=======CREATING INDEX gene_id_idx=======\n",
      "=======DELETING INDEX gene_equivalence_idx======\n",
      "=======CREATING INDEX gene_equivalence_idx=======\n",
      "=======DELETING INDEX gene_ortholog_idx======\n",
      "=======CREATING INDEX gene_ortholog_idx=======\n",
      "=======CREATING BIBLIOGRAPHY TABLE=======\n",
      "=======DELETING INDEX species_bibliography_idx======\n",
      "=======DELETING INDEX species_bibliography_idx======\n",
      "=======CREATING INDEX species_bibliography_idx=======\n",
      "=======COPYING TMP FILE TO /Users/scott.daniel/KnowledgeBase/orthologs/data/gene_mapper_example.db=======\n",
      "=======DB CREATION TOOK 1.36e+01 MINUTES=======\n"
     ]
    }
   ],
   "source": [
    "gene_mapper = mapper.MMCGeneMapper(\n",
    "    db_path=db_path,\n",
    "    local_dir=data_dir,\n",
    "    data_file_spec=data_file_spec,\n",
    "    clobber=False,\n",
    "    force_download=False\n",
    ")"
   ]
  },
  {
   "cell_type": "markdown",
   "id": "3a5dede0-3fb4-4b04-88c4-b104659c7be5",
   "metadata": {},
   "source": [
    "The database backing the `gene_mapper` contains the following tables\n",
    "\n",
    "### Metadata\n",
    "\n",
    "#### authority\n",
    "The `authority` table just tracks the gene identifying authorities the database knows about (i.e. ENSEMBL and NCBI). it consists of the columns\n",
    "\n",
    "- id -- an integer used for internal indexing\n",
    "- name -- the human-readable name of the authority\n",
    "\n",
    "#### citation\n",
    "The `citation` table tracks all of the datasets used to justify the various mappings (symbol-to-identifier, ENSEMBL-to-NCBI, orthologs, etc.). It consists of the columns\n",
    "\n",
    "- id -- an integer used for internal indexing\n",
    "- name -- a short, human-readable name for the citation (this will be used whenever you have to specify a citation when calling the `gene_mapper`'s methods\n",
    "- metadata -- a JSON serialized dict containing whatever information is necessary to recreate or specify the data backing this citation. This is a very free-form column as different entries will be specified in different ways (see below)"
   ]
  },
  {
   "cell_type": "markdown",
   "id": "cd687385-71d0-4a32-9511-5e8ec5dce2d1",
   "metadata": {},
   "source": [
    "We can list the available authorities like so"
   ]
  },
  {
   "cell_type": "code",
   "execution_count": 7,
   "id": "8aed469a-a7ef-4650-b502-e68731ce3166",
   "metadata": {},
   "outputs": [
    {
     "name": "stdout",
     "output_type": "stream",
     "text": [
      "['NCBI', 'ENSEMBL']\n"
     ]
    }
   ],
   "source": [
    "authority_list = gene_mapper.get_all_authorities()\n",
    "print(authority_list)"
   ]
  },
  {
   "cell_type": "markdown",
   "id": "d7cc1581-fbb9-4716-9089-1b386d8a52ad",
   "metadata": {},
   "source": [
    "Similarly, we can list the available citations."
   ]
  },
  {
   "cell_type": "code",
   "execution_count": 8,
   "id": "d7b988a9-1942-43d0-93f5-ae3f213fc766",
   "metadata": {},
   "outputs": [
    {
     "name": "stdout",
     "output_type": "stream",
     "text": [
      "['NCBI', 'bican:Mouse', 'bican:Human', 'HMBA']\n"
     ]
    }
   ],
   "source": [
    "citation_list = gene_mapper.get_all_citations()\n",
    "print([c['name'] for c in citation_list])"
   ]
  },
  {
   "cell_type": "markdown",
   "id": "1a0ff8ea-e421-42aa-a4a3-debf3e2aae0a",
   "metadata": {},
   "source": [
    "As mentioned above, different citations contain different metadata. For instance, the `NCBI` citation (referring to the data downloade from the NCBI FTP server) contains a list of the files downloaded their hashes, and the date they were downloaded on (NCBI updates its FTP server daily; it's not clear that they keep readily available version information around, though we can certainly investigate that)"
   ]
  },
  {
   "cell_type": "code",
   "execution_count": 26,
   "id": "574f35ac-fc92-4ac2-9768-67c92c2d9089",
   "metadata": {},
   "outputs": [
    {
     "name": "stdout",
     "output_type": "stream",
     "text": [
      "{\n",
      "  \"name\": \"NCBI\",\n",
      "  \"metadata\": {\n",
      "    \"gene_info.gz\": {\n",
      "      \"host\": \"ftp.ncbi.nlm.nih.gov\",\n",
      "      \"src_path\": \"gene/DATA/gene_info.gz\",\n",
      "      \"hash\": \"md5:d15a97631494d3f0cba0dff10595a29b\",\n",
      "      \"downloaded_on\": \"2025-04-03-11-34-02\"\n",
      "    },\n",
      "    \"gene2ensembl.gz\": {\n",
      "      \"host\": \"ftp.ncbi.nlm.nih.gov\",\n",
      "      \"src_path\": \"gene/DATA/gene2ensembl.gz\",\n",
      "      \"hash\": \"md5:3cd9020c4bcd7fc7307b1dcf8f4c8dea\",\n",
      "      \"downloaded_on\": \"2025-04-03-11-35-23\"\n",
      "    },\n",
      "    \"gene_orthologs.gz\": {\n",
      "      \"host\": \"ftp.ncbi.nlm.nih.gov\",\n",
      "      \"src_path\": \"gene/DATA/gene_orthologs.gz\",\n",
      "      \"hash\": \"md5:9dbbeb0e454b3b3d03ec3b0d1755a4ce\",\n",
      "      \"downloaded_on\": \"2025-04-03-11-35-54\"\n",
      "    }\n",
      "  }\n",
      "}\n"
     ]
    }
   ],
   "source": [
    "for citation in citation_list:\n",
    "    if citation['name'] == 'NCBI':\n",
    "        print(json.dumps(citation, indent=2))"
   ]
  },
  {
   "cell_type": "markdown",
   "id": "2e33b8b7-145d-45ae-b3eb-b889bdd38ed2",
   "metadata": {},
   "source": [
    "The citations based on BICAN bkbit files, contain all of the GenomeAnnotation and GenomeAssembly information in those files."
   ]
  },
  {
   "cell_type": "code",
   "execution_count": 27,
   "id": "022f5276-5b36-4242-bcc4-9d49c1ab0e7a",
   "metadata": {},
   "outputs": [
    {
     "name": "stdout",
     "output_type": "stream",
     "text": [
      "{\n",
      "  \"name\": \"bican:Mouse\",\n",
      "  \"metadata\": {\n",
      "    \"biolink:OrganismTaxon\": {\n",
      "      \"id\": \"NCBITaxon:10090\",\n",
      "      \"iri\": \"http://purl.obolibrary.org/obo/NCBITaxon_10090\",\n",
      "      \"category\": [\n",
      "        \"biolink:OrganismTaxon\"\n",
      "      ],\n",
      "      \"name\": \"house mouse\",\n",
      "      \"full_name\": \"Mus musculus\"\n",
      "    },\n",
      "    \"bican:GenomeAssembly\": {\n",
      "      \"id\": \"NCBIAssembly:GCF_000001635.26\",\n",
      "      \"category\": [\n",
      "        \"bican:GenomeAssembly\"\n",
      "      ],\n",
      "      \"name\": \"GRCm38\",\n",
      "      \"in_taxon\": [\n",
      "        \"NCBITaxon:10090\"\n",
      "      ],\n",
      "      \"in_taxon_label\": \"Mus musculus\",\n",
      "      \"version\": \"26\"\n",
      "    },\n",
      "    \"bican:GenomeAnnotation\": {\n",
      "      \"id\": \"bican:annotation-ENSEMBL-10090-98\",\n",
      "      \"category\": [\n",
      "        \"bican:GenomeAnnotation\"\n",
      "      ],\n",
      "      \"description\": \"ENSEMBL Mus musculus Annotation Release 98\",\n",
      "      \"in_taxon\": [\n",
      "        \"NCBITaxon:10090\"\n",
      "      ],\n",
      "      \"in_taxon_label\": \"Mus musculus\",\n",
      "      \"version\": \"98\",\n",
      "      \"digest\": [\n",
      "        \"urn:uuid:58618e83-7b4c-46ed-b300-9df8abf1f5d0\"\n",
      "      ],\n",
      "      \"content_url\": [\n",
      "        \"https://ftp.ensembl.org/pub/release-98/gff3/mus_musculus/Mus_musculus.GRCm38.98.gff3.gz\"\n",
      "      ],\n",
      "      \"authority\": \"ENSEMBL\",\n",
      "      \"reference_assembly\": \"NCBIAssembly:GCF_000001635.26\"\n",
      "    }\n",
      "  }\n",
      "}\n"
     ]
    }
   ],
   "source": [
    "for citation in citation_list:\n",
    "    if citation['name'] == 'bican:Mouse':\n",
    "        print(json.dumps(citation, indent=2))"
   ]
  },
  {
   "cell_type": "markdown",
   "id": "5631dbf9-e172-4bbc-9c08-77527c3722b0",
   "metadata": {},
   "source": [
    "### Data\n",
    "\n",
    "The data tables in the database are\n",
    "\n",
    "#### species\n",
    "The `species` table just ingests the NCBI organism taxonomy and records\n",
    "- id -- the NCBI taxon ID of the species\n",
    "- name -- the human readablename of the species. **Note:** we record all possible names (\"common\", \"scientific\", etc.) of the sepcies in different rows. That way, users can give us whatever name they have for a species and, if possible, we can return an `id` for cross-referencing with other tables.\n",
    "\n",
    "#### gene\n",
    "The `gene` table contains all of the information about individual genes ingested into the database. Columns are\n",
    "- authority -- an integer for cross-referencing the `authority` table\n",
    "- citation -- an integer for cross-referencing the `citation` table\n",
    "- species_taxon -- an integer for cross-refereneing the `species` table\n",
    "- id -- an integer for internal indexing\n",
    "- identifier -- a string. The full unique identifier (e.g. ENSMUS0000G12345) of the gene\n",
    "- symbol -- a string. The human-readable name of the gene (**Note:** the BICAN bkbit files contain `symbol` and `name` entries for genes. If these differ, each corresponds to a different row in the `gene` table with `name` being recorded in `symbol` as appropriate).\n",
    "\n",
    "#### gene_equivalence\n",
    "The `gene_equivalence` table records mappings between authorities (ENSEMBL and NCBI). Its columns are\n",
    "- species_taxon -- an integer for cross-referencing with the `species` table (in what species are we looking for equivalences?)\n",
    "- citation -- an integer for cross-referencing with the `citation` table (who said these genes were equivalent?)\n",
    "- authority0 -- an integer for cross-referencing with the `authority` table\n",
    "- gene0 -- an integer; the ID of the gene in `authority0`\n",
    "- authority1 -- an integer for cross-referncing with the `authority` table\n",
    "- gene1 -- an integer; the ID of the gene in `authority1` that is equivalent to `gene0` according to `citation`.\n",
    "\n",
    "**Note:** we record equivalences symmetrically, so that every `(gene0, gene1)` pair is also recorded as `(gene1, gene0)` so that users do not have to worry about which index (`gene0` or `gene1` their input data is compared to).\n",
    "\n",
    "#### gene_ortholog\n",
    "The `gene_ortholog` table records cross-species ortholog relationships. Its columns are\n",
    "- authority -- an integer for cross-referencing the `authority` table (are we looking for NCBI orthologs or ENSEMBL orthologs?)\n",
    "- citation -- an integer for cross-referencing the `citation` table (who said these genes were orthologs?)\n",
    "- species0 -- an integer for cross-referencing the `species` table\n",
    "- gene0 -- an integer, the ID of the gene in `species0` whose orthologs we are looking for\n",
    "- species1 -- an integer, the index in `species` of the other species we are considering\n",
    "- gene0 -- an integer, the indess of the gene in `species1` that is considered an ortholog of `gene0`\n",
    "\n",
    "**Note:** we ingest all `[(species0, gene0), (species1, gene1)]` pairs twise, permuting the order so that users can search for orthologs in both directions (`species0 -> species1` and `species1 -> species0`) easily\n"
   ]
  },
  {
   "cell_type": "code",
   "execution_count": 25,
   "id": "e819cc2a-b66c-4d24-8e68-11d4e2cae8e0",
   "metadata": {},
   "outputs": [
    {
     "name": "stdout",
     "output_type": "stream",
     "text": [
      "{\n",
      "  \"metadata\": {\n",
      "    \"authority\": {\n",
      "      \"name\": \"ENSEMBL\",\n",
      "      \"idx\": 1\n",
      "    },\n",
      "    \"citation\": {\n",
      "      \"name\": \"bican:Mouse\",\n",
      "      \"metadata\": {\n",
      "        \"biolink:OrganismTaxon\": {\n",
      "          \"id\": \"NCBITaxon:10090\",\n",
      "          \"iri\": \"http://purl.obolibrary.org/obo/NCBITaxon_10090\",\n",
      "          \"category\": [\n",
      "            \"biolink:OrganismTaxon\"\n",
      "          ],\n",
      "          \"name\": \"house mouse\",\n",
      "          \"full_name\": \"Mus musculus\"\n",
      "        },\n",
      "        \"bican:GenomeAssembly\": {\n",
      "          \"id\": \"NCBIAssembly:GCF_000001635.26\",\n",
      "          \"category\": [\n",
      "            \"bican:GenomeAssembly\"\n",
      "          ],\n",
      "          \"name\": \"GRCm38\",\n",
      "          \"in_taxon\": [\n",
      "            \"NCBITaxon:10090\"\n",
      "          ],\n",
      "          \"in_taxon_label\": \"Mus musculus\",\n",
      "          \"version\": \"26\"\n",
      "        },\n",
      "        \"bican:GenomeAnnotation\": {\n",
      "          \"id\": \"bican:annotation-ENSEMBL-10090-98\",\n",
      "          \"category\": [\n",
      "            \"bican:GenomeAnnotation\"\n",
      "          ],\n",
      "          \"description\": \"ENSEMBL Mus musculus Annotation Release 98\",\n",
      "          \"in_taxon\": [\n",
      "            \"NCBITaxon:10090\"\n",
      "          ],\n",
      "          \"in_taxon_label\": \"Mus musculus\",\n",
      "          \"version\": \"98\",\n",
      "          \"digest\": [\n",
      "            \"urn:uuid:58618e83-7b4c-46ed-b300-9df8abf1f5d0\"\n",
      "          ],\n",
      "          \"content_url\": [\n",
      "            \"https://ftp.ensembl.org/pub/release-98/gff3/mus_musculus/Mus_musculus.GRCm38.98.gff3.gz\"\n",
      "          ],\n",
      "          \"authority\": \"ENSEMBL\",\n",
      "          \"reference_assembly\": \"NCBIAssembly:GCF_000001635.26\"\n",
      "        }\n",
      "      },\n",
      "      \"idx\": 1\n",
      "    }\n",
      "  },\n",
      "  \"mapping\": {\n",
      "    \"Xkr4\": [\n",
      "      \"ENSMUSG00000051951\"\n",
      "    ],\n",
      "    \"Npbwr1\": [\n",
      "      \"ENSMUSG00000033774\"\n",
      "    ],\n",
      "    \"not_a_symbol\": [],\n",
      "    \"Rrs1\": [\n",
      "      \"ENSMUSG00000061024\"\n",
      "    ]\n",
      "  }\n",
      "}\n"
     ]
    }
   ],
   "source": [
    "mouse_symbols = [\"Xkr4\", \"Npbwr1\", \"not_a_symbol\", \"Rrs1\"]\n",
    "mouse_ens_mapping = gene_mapper.identifiers_from_symbols(\n",
    "    gene_symbol_list=mouse_symbols,\n",
    "    species_name=\"Mus musculus\",\n",
    "    authority_name=\"ENSEMBL\"\n",
    ")\n",
    "print(json.dumps(mouse_ens_mapping, indent=2))"
   ]
  },
  {
   "cell_type": "code",
   "execution_count": 11,
   "id": "3016fa95-15a5-4cf4-b1d8-9b6031183b10",
   "metadata": {},
   "outputs": [
    {
     "name": "stdout",
     "output_type": "stream",
     "text": [
      "{\n",
      "  \"metadata\": {\n",
      "    \"authority\": {\n",
      "      \"name\": \"NCBI\",\n",
      "      \"idx\": 0\n",
      "    },\n",
      "    \"citation\": {\n",
      "      \"name\": \"NCBI\",\n",
      "      \"metadata\": {\n",
      "        \"gene_info.gz\": {\n",
      "          \"host\": \"ftp.ncbi.nlm.nih.gov\",\n",
      "          \"src_path\": \"gene/DATA/gene_info.gz\",\n",
      "          \"hash\": \"md5:d15a97631494d3f0cba0dff10595a29b\",\n",
      "          \"downloaded_on\": \"2025-04-03-11-34-02\"\n",
      "        },\n",
      "        \"gene2ensembl.gz\": {\n",
      "          \"host\": \"ftp.ncbi.nlm.nih.gov\",\n",
      "          \"src_path\": \"gene/DATA/gene2ensembl.gz\",\n",
      "          \"hash\": \"md5:3cd9020c4bcd7fc7307b1dcf8f4c8dea\",\n",
      "          \"downloaded_on\": \"2025-04-03-11-35-23\"\n",
      "        },\n",
      "        \"gene_orthologs.gz\": {\n",
      "          \"host\": \"ftp.ncbi.nlm.nih.gov\",\n",
      "          \"src_path\": \"gene/DATA/gene_orthologs.gz\",\n",
      "          \"hash\": \"md5:9dbbeb0e454b3b3d03ec3b0d1755a4ce\",\n",
      "          \"downloaded_on\": \"2025-04-03-11-35-54\"\n",
      "        }\n",
      "      },\n",
      "      \"idx\": 0\n",
      "    }\n",
      "  },\n",
      "  \"mapping\": {\n",
      "    \"Xkr4\": [\n",
      "      \"NCBIGene:497097\"\n",
      "    ],\n",
      "    \"Npbwr1\": [\n",
      "      \"NCBIGene:226304\"\n",
      "    ],\n",
      "    \"not_a_symbol\": [],\n",
      "    \"Rrs1\": [\n",
      "      \"NCBIGene:59014\"\n",
      "    ]\n",
      "  }\n",
      "}\n"
     ]
    }
   ],
   "source": [
    "mouse_ncbi_mapping = gene_mapper.identifiers_from_symbols(\n",
    "    gene_symbol_list=mouse_symbols,\n",
    "    species_name=\"Mus musculus\",\n",
    "    authority_name=\"NCBI\"\n",
    ")\n",
    "print(json.dumps(mouse_ncbi_mapping, indent=2))"
   ]
  },
  {
   "cell_type": "code",
   "execution_count": 12,
   "id": "82ceb93a-2539-4d79-86c6-dbfe4f34ed7f",
   "metadata": {},
   "outputs": [
    {
     "name": "stdout",
     "output_type": "stream",
     "text": [
      "{\n",
      "  \"metadata\": {\n",
      "    \"key_authority\": \"ENSEMBL\",\n",
      "    \"value_authority\": \"NCBI\",\n",
      "    \"citation\": {\n",
      "      \"name\": \"NCBI\",\n",
      "      \"idx\": 0,\n",
      "      \"metadata\": {\n",
      "        \"gene_info.gz\": {\n",
      "          \"host\": \"ftp.ncbi.nlm.nih.gov\",\n",
      "          \"src_path\": \"gene/DATA/gene_info.gz\",\n",
      "          \"hash\": \"md5:d15a97631494d3f0cba0dff10595a29b\",\n",
      "          \"downloaded_on\": \"2025-04-03-11-34-02\"\n",
      "        },\n",
      "        \"gene2ensembl.gz\": {\n",
      "          \"host\": \"ftp.ncbi.nlm.nih.gov\",\n",
      "          \"src_path\": \"gene/DATA/gene2ensembl.gz\",\n",
      "          \"hash\": \"md5:3cd9020c4bcd7fc7307b1dcf8f4c8dea\",\n",
      "          \"downloaded_on\": \"2025-04-03-11-35-23\"\n",
      "        },\n",
      "        \"gene_orthologs.gz\": {\n",
      "          \"host\": \"ftp.ncbi.nlm.nih.gov\",\n",
      "          \"src_path\": \"gene/DATA/gene_orthologs.gz\",\n",
      "          \"hash\": \"md5:9dbbeb0e454b3b3d03ec3b0d1755a4ce\",\n",
      "          \"downloaded_on\": \"2025-04-03-11-35-54\"\n",
      "        }\n",
      "      }\n",
      "    }\n",
      "  },\n",
      "  \"mapping\": {\n",
      "    \"ENSMUSG00000021983\": [\n",
      "      \"NCBIGene:50769\",\n",
      "      \"NCBIGene:108168164\"\n",
      "    ],\n",
      "    \"ENSMUSG00000030337\": [\n",
      "      \"NCBIGene:22317\",\n",
      "      \"NCBIGene:78668\"\n",
      "    ],\n",
      "    \"ENSMUSG00000037747\": [\n",
      "      \"NCBIGene:70911\",\n",
      "      \"NCBIGene:319646\"\n",
      "    ],\n",
      "    \"nope\": []\n",
      "  }\n",
      "}\n"
     ]
    }
   ],
   "source": [
    "ens_to_ncbi = gene_mapper.equivalent_genes(\n",
    "    input_authority='ENSEMBL',\n",
    "    output_authority='NCBI',\n",
    "    gene_list=[\"ENSMUSG00000030337\", \"ENSMUSG00000037747\", \"nope\", \"ENSMUSG00000021983\"],\n",
    "    species_name=\"Mus musculus\",\n",
    "    citation_name=\"NCBI\"\n",
    ")\n",
    "print(json.dumps(ens_to_ncbi, indent=2))"
   ]
  },
  {
   "cell_type": "code",
   "execution_count": 13,
   "id": "fbad7610-4142-45db-9f39-db97163c3280",
   "metadata": {},
   "outputs": [
    {
     "name": "stdout",
     "output_type": "stream",
     "text": [
      "{\n",
      "  \"metadata\": {\n",
      "    \"key_authority\": \"NCBI\",\n",
      "    \"value_authority\": \"ENSEMBL\",\n",
      "    \"citation\": {\n",
      "      \"name\": \"NCBI\",\n",
      "      \"idx\": 0,\n",
      "      \"metadata\": {\n",
      "        \"gene_info.gz\": {\n",
      "          \"host\": \"ftp.ncbi.nlm.nih.gov\",\n",
      "          \"src_path\": \"gene/DATA/gene_info.gz\",\n",
      "          \"hash\": \"md5:d15a97631494d3f0cba0dff10595a29b\",\n",
      "          \"downloaded_on\": \"2025-04-03-11-34-02\"\n",
      "        },\n",
      "        \"gene2ensembl.gz\": {\n",
      "          \"host\": \"ftp.ncbi.nlm.nih.gov\",\n",
      "          \"src_path\": \"gene/DATA/gene2ensembl.gz\",\n",
      "          \"hash\": \"md5:3cd9020c4bcd7fc7307b1dcf8f4c8dea\",\n",
      "          \"downloaded_on\": \"2025-04-03-11-35-23\"\n",
      "        },\n",
      "        \"gene_orthologs.gz\": {\n",
      "          \"host\": \"ftp.ncbi.nlm.nih.gov\",\n",
      "          \"src_path\": \"gene/DATA/gene_orthologs.gz\",\n",
      "          \"hash\": \"md5:9dbbeb0e454b3b3d03ec3b0d1755a4ce\",\n",
      "          \"downloaded_on\": \"2025-04-03-11-35-54\"\n",
      "        }\n",
      "      }\n",
      "    }\n",
      "  },\n",
      "  \"mapping\": {\n",
      "    \"NCBIGene:54200\": [\n",
      "      \"ENSMUSG00000003271\"\n",
      "    ],\n",
      "    \"NCBIGene:67269\": [\n",
      "      \"ENSMUSG00000021557\"\n",
      "    ],\n",
      "    \"NCBIGene:70911\": [\n",
      "      \"ENSMUSG00000037747\"\n",
      "    ],\n",
      "    \"nope\": []\n",
      "  }\n",
      "}\n"
     ]
    }
   ],
   "source": [
    "ncbi_to_ens = gene_mapper.equivalent_genes(\n",
    "    input_authority='NCBI',\n",
    "    output_authority='ENSEMBL',\n",
    "    gene_list=[\"NCBIGene:67269\", \"NCBIGene:54200\", \"nope\", \"NCBIGene:70911\"],\n",
    "    species_name=\"Mus musculus\",\n",
    "    citation_name=\"NCBI\"\n",
    ")\n",
    "print(json.dumps(ncbi_to_ens, indent=2))"
   ]
  },
  {
   "cell_type": "code",
   "execution_count": 14,
   "id": "d377c657-9985-4bf6-8a73-8d7a4d19d235",
   "metadata": {},
   "outputs": [],
   "source": [
    "src_path = \"https://allen-brain-cell-atlas.s3-us-west-2.amazonaws.com/mapmycells/WMB-10X/20240831/mouse_markers_230821.json\"\n",
    "wmb_marker_path = pathlib.Path('../data/mouse_markers_230821.json')\n",
    "if not wmb_marker_path.is_file():\n",
    "    print(f\"downloading {wmb_marker_path}\")\n",
    "    process = subprocess.Popen(\n",
    "        args=[\n",
    "           \"wget\",\n",
    "            src_path,\n",
    "            \"-O\",\n",
    "            str(wmb_marker_path),\n",
    "        ],\n",
    "        stderr=subprocess.DEVNULL\n",
    "    )\n",
    "    process.wait()"
   ]
  },
  {
   "cell_type": "code",
   "execution_count": 15,
   "id": "2e77f845-8585-4bab-8f79-1455a09b7d38",
   "metadata": {},
   "outputs": [
    {
     "name": "stdout",
     "output_type": "stream",
     "text": [
      "mapping 32285 genes took 1.98e+01 seconds\n",
      "24656 genes had NCBI matches\n",
      "24527 genes had exactly one NCBI match\n"
     ]
    }
   ],
   "source": [
    "wmb_gene_df = abc_cache.get_metadata_dataframe(\n",
    "    directory='WMB-10X',\n",
    "    file_name='gene'\n",
    ")\n",
    "wmb_genes = wmb_gene_df.gene_identifier.values\n",
    "t0 = time.time()\n",
    "wmb_ens_to_ncbi = gene_mapper.equivalent_genes(\n",
    "    input_authority='ENSEMBL',\n",
    "    output_authority='NCBI',\n",
    "    gene_list=wmb_genes,\n",
    "    species_name='Mus musculus',\n",
    "    citation_name='NCBI'\n",
    ")\n",
    "dur = time.time()-t0\n",
    "print(f'mapping {len(wmb_genes)} genes took {dur:.2e} seconds')\n",
    "\n",
    "n_mapped = 0\n",
    "n_one_to_one = 0\n",
    "for k in wmb_genes:\n",
    "    if len(wmb_ens_to_ncbi['mapping'][k]) > 0:\n",
    "        n_mapped += 1\n",
    "    if len(wmb_ens_to_ncbi['mapping'][k]) == 1:\n",
    "        n_one_to_one += 1\n",
    "print(f'{n_mapped} genes had NCBI matches')\n",
    "print(f'{n_one_to_one} genes had exactly one NCBI match')"
   ]
  },
  {
   "cell_type": "code",
   "execution_count": null,
   "id": "205f7392-c54c-4f1a-85eb-ce5dca13f97d",
   "metadata": {},
   "outputs": [],
   "source": []
  },
  {
   "cell_type": "code",
   "execution_count": null,
   "id": "7ae154e5-529e-4b7f-b2d5-6430155c8178",
   "metadata": {},
   "outputs": [],
   "source": []
  },
  {
   "cell_type": "code",
   "execution_count": 16,
   "id": "de440719-7e4b-49eb-898f-803a84215488",
   "metadata": {},
   "outputs": [],
   "source": [
    "marker_genes = set()\n",
    "with open(wmb_marker_path, 'rb') as src:\n",
    "    marker_lookup = json.load(src)\n",
    "for key in marker_lookup:\n",
    "    if key in ('log', 'metadata'):\n",
    "        continue\n",
    "    marker_genes = marker_genes.union(set(marker_lookup[key]))\n",
    "marker_genes = sorted(marker_genes)"
   ]
  },
  {
   "cell_type": "code",
   "execution_count": 17,
   "id": "a611509d-1366-4cba-983f-4f54d5805b43",
   "metadata": {},
   "outputs": [
    {
     "name": "stdout",
     "output_type": "stream",
     "text": [
      "6558 marker genes\n",
      "that took 1.32e+00 seconds\n",
      "6525 genes had NCBI matches\n",
      "6493 genes had exactly one NCBI match\n"
     ]
    }
   ],
   "source": [
    "print(f'{len(marker_genes)} marker genes')\n",
    "t0 = time.time()\n",
    "marker_ens_to_ncbi = gene_mapper.equivalent_genes(\n",
    "    input_authority='ENSEMBL',\n",
    "    output_authority='NCBI',\n",
    "    gene_list=marker_genes,\n",
    "    species_name='Mus musculus',\n",
    "    citation_name='NCBI'\n",
    ")\n",
    "dur = time.time()-t0\n",
    "print(f'that took {dur:.2e} seconds')\n",
    "\n",
    "n_mapped = 0\n",
    "n_one_to_one = 0\n",
    "for k in marker_genes:\n",
    "    if len(marker_ens_to_ncbi['mapping'][k]) > 0:\n",
    "        n_mapped += 1\n",
    "    if len(marker_ens_to_ncbi['mapping'][k]) == 1:\n",
    "        n_one_to_one += 1\n",
    "print(f'{n_mapped} genes had NCBI matches')\n",
    "print(f'{n_one_to_one} genes had exactly one NCBI match')"
   ]
  },
  {
   "cell_type": "code",
   "execution_count": 18,
   "id": "e65f211e-09d6-4962-a42d-018c457d1e4e",
   "metadata": {},
   "outputs": [],
   "source": [
    "wmb_ncbi_genes = [\n",
    "    wmb_ens_to_ncbi['mapping'][ens][0]\n",
    "    for ens in wmb_genes\n",
    "    if len(wmb_ens_to_ncbi['mapping'][ens]) == 1\n",
    "]"
   ]
  },
  {
   "cell_type": "code",
   "execution_count": 19,
   "id": "f6d5b0d1-353b-42fa-a0bf-6baf5eaac714",
   "metadata": {},
   "outputs": [
    {
     "name": "stdout",
     "output_type": "stream",
     "text": [
      "{\n",
      "  \"metadata\": {\n",
      "    \"authority\": \"NCBI\",\n",
      "    \"citation\": {\n",
      "      \"gene_info.gz\": {\n",
      "        \"host\": \"ftp.ncbi.nlm.nih.gov\",\n",
      "        \"src_path\": \"gene/DATA/gene_info.gz\",\n",
      "        \"hash\": \"md5:d15a97631494d3f0cba0dff10595a29b\",\n",
      "        \"downloaded_on\": \"2025-04-03-11-34-02\"\n",
      "      },\n",
      "      \"gene2ensembl.gz\": {\n",
      "        \"host\": \"ftp.ncbi.nlm.nih.gov\",\n",
      "        \"src_path\": \"gene/DATA/gene2ensembl.gz\",\n",
      "        \"hash\": \"md5:3cd9020c4bcd7fc7307b1dcf8f4c8dea\",\n",
      "        \"downloaded_on\": \"2025-04-03-11-35-23\"\n",
      "      },\n",
      "      \"gene_orthologs.gz\": {\n",
      "        \"host\": \"ftp.ncbi.nlm.nih.gov\",\n",
      "        \"src_path\": \"gene/DATA/gene_orthologs.gz\",\n",
      "        \"hash\": \"md5:9dbbeb0e454b3b3d03ec3b0d1755a4ce\",\n",
      "        \"downloaded_on\": \"2025-04-03-11-35-54\"\n",
      "      }\n",
      "    },\n",
      "    \"src_species_taxon\": 10090,\n",
      "    \"dst_species_taxon\": 9606\n",
      "  },\n",
      "  \"mapping\": {\n",
      "    \"NCBIGene:19888\": [\n",
      "      \"NCBIGene:6101\"\n",
      "    ],\n",
      "    \"NCBIGene:20671\": [\n",
      "      \"NCBIGene:64321\"\n",
      "    ],\n",
      "    \"NCBIGene:27395\": [\n",
      "      \"NCBIGene:29088\"\n",
      "    ],\n",
      "    \"NCBIGene:497097\": [\n",
      "      \"NCBIGene:114786\"\n",
      "    ],\n",
      "    \"not_an_actual_gene\": [],\n",
      "    \"NCBIGene:108167609\": []\n",
      "  }\n",
      "}\n"
     ]
    }
   ],
   "source": [
    "test_orthologs = gene_mapper.ortholog_genes(\n",
    "    authority='NCBI',\n",
    "    src_species_name='Mus musculus',\n",
    "    dst_species_name='human',\n",
    "    gene_list=wmb_ncbi_genes[:5] + ['not_an_actual_gene'],\n",
    "    citation_name='NCBI'\n",
    ")\n",
    "print(json.dumps(test_orthologs, indent=2))"
   ]
  },
  {
   "cell_type": "code",
   "execution_count": 20,
   "id": "f70b0ce1-694d-42ea-907c-18f68d6ffc62",
   "metadata": {},
   "outputs": [
    {
     "name": "stdout",
     "output_type": "stream",
     "text": [
      "mapping 24527 orthologs took 8.52e+00 seconds\n",
      "16508 genes had orthologs\n",
      "16508 genes had exactly one ortholog\n"
     ]
    }
   ],
   "source": [
    "t0 = time.time()\n",
    "wmb_to_whb_orthologs = gene_mapper.ortholog_genes(\n",
    "    authority='NCBI',\n",
    "    src_species_name='Mus musculus',\n",
    "    dst_species_name='human',\n",
    "    gene_list=wmb_ncbi_genes,\n",
    "    citation_name='NCBI'\n",
    ")\n",
    "dur = time.time()-t0\n",
    "print(f'mapping {len(wmb_ncbi_genes)} orthologs took {dur:.2e} seconds')\n",
    "n_mapped = 0\n",
    "n_one_to_one = 0\n",
    "for k in wmb_ncbi_genes:\n",
    "    if len(wmb_to_whb_orthologs['mapping'][k]) > 0:\n",
    "        n_mapped += 1\n",
    "    if len(wmb_to_whb_orthologs['mapping'][k]) == 1:\n",
    "        n_one_to_one += 1\n",
    "print(f'{n_mapped} genes had orthologs')\n",
    "print(f'{n_one_to_one} genes had exactly one ortholog')"
   ]
  },
  {
   "cell_type": "code",
   "execution_count": null,
   "id": "9082480e-0550-4526-a196-e4f8a7663380",
   "metadata": {},
   "outputs": [],
   "source": []
  },
  {
   "cell_type": "code",
   "execution_count": null,
   "id": "67551f79-568a-48ff-9f1e-3ce18676167e",
   "metadata": {},
   "outputs": [],
   "source": []
  },
  {
   "cell_type": "code",
   "execution_count": null,
   "id": "1ba11182-14d4-4aa0-8d22-eeee18be2c70",
   "metadata": {},
   "outputs": [],
   "source": []
  },
  {
   "cell_type": "code",
   "execution_count": null,
   "id": "45b3a409-3ae7-4b1f-b60a-0f7d234549ed",
   "metadata": {},
   "outputs": [],
   "source": []
  },
  {
   "cell_type": "code",
   "execution_count": null,
   "id": "3952a822-ce59-4214-b47c-6cf068f0aa01",
   "metadata": {},
   "outputs": [],
   "source": []
  },
  {
   "cell_type": "code",
   "execution_count": null,
   "id": "d9394d17-3599-4658-8d8d-1a4f537f31c7",
   "metadata": {},
   "outputs": [],
   "source": []
  },
  {
   "cell_type": "code",
   "execution_count": null,
   "id": "760145b8-68c9-426f-8877-147efc4464fd",
   "metadata": {},
   "outputs": [],
   "source": []
  },
  {
   "cell_type": "code",
   "execution_count": null,
   "id": "b3f24d4a-3323-4696-9f4e-a4635ea84837",
   "metadata": {},
   "outputs": [],
   "source": []
  }
 ],
 "metadata": {
  "kernelspec": {
   "display_name": "Python 3 (ipykernel)",
   "language": "python",
   "name": "python3"
  },
  "language_info": {
   "codemirror_mode": {
    "name": "ipython",
    "version": 3
   },
   "file_extension": ".py",
   "mimetype": "text/x-python",
   "name": "python",
   "nbconvert_exporter": "python",
   "pygments_lexer": "ipython3",
   "version": "3.12.9"
  }
 },
 "nbformat": 4,
 "nbformat_minor": 5
}
